{
 "cells": [
  {
   "cell_type": "markdown",
   "id": "c20ae786",
   "metadata": {},
   "source": [
    "현민영_20241001"
   ]
  },
  {
   "cell_type": "code",
   "execution_count": 3,
   "id": "99b2386d",
   "metadata": {},
   "outputs": [],
   "source": [
    "import os\n",
    "os.chdir(r\"C:\\Users\\myhyu\\OneDrive\\Desktop\\2024-2 project\")"
   ]
  },
  {
   "cell_type": "code",
   "execution_count": 4,
   "id": "6f430b69",
   "metadata": {},
   "outputs": [],
   "source": [
    "import numpy as np\n",
    "import pandas as pd\n",
    "import matplotlib.pyplot as plt\n",
    "import seaborn as sns\n",
    "\n",
    "from sklearn.cluster import KMeans\n",
    "from geopy.distance import geodesic"
   ]
  },
  {
   "cell_type": "markdown",
   "id": "d0890a04",
   "metadata": {},
   "source": [
    "# 1. Dataset"
   ]
  },
  {
   "cell_type": "markdown",
   "id": "5a6983fc",
   "metadata": {},
   "source": [
    "## 1.1 Loading Dataset"
   ]
  },
  {
   "cell_type": "code",
   "execution_count": 5,
   "id": "cad2b9cb",
   "metadata": {},
   "outputs": [],
   "source": [
    "geolocation = pd.read_csv('Olist_ver2\\\\olist_geolocation_dataset.csv')\n",
    "customers = pd.read_csv('Olist_ver2\\\\olist_customers_dataset.csv')\n",
    "orders = pd.read_csv('Olist_ver2\\\\olist_orders_dataset.csv')"
   ]
  },
  {
   "cell_type": "markdown",
   "id": "953c126b",
   "metadata": {},
   "source": [
    "## 1.2 geolocation 전처리\n",
    "geolocation의 우편번호-좌표를 1:1매칭으로 변환  \n",
    "우편번호에 좌표가 2개 이상 있는 경우, 평균으로 우편번호를 대표함."
   ]
  },
  {
   "cell_type": "code",
   "execution_count": 6,
   "id": "e3631511",
   "metadata": {},
   "outputs": [
    {
     "name": "stdout",
     "output_type": "stream",
     "text": [
      "<class 'pandas.core.frame.DataFrame'>\n",
      "RangeIndex: 1000163 entries, 0 to 1000162\n",
      "Data columns (total 5 columns):\n",
      " #   Column     Non-Null Count    Dtype  \n",
      "---  ------     --------------    -----  \n",
      " 0   geo_code   1000163 non-null  int64  \n",
      " 1   geo_lat    1000163 non-null  float64\n",
      " 2   geo_lng    1000163 non-null  float64\n",
      " 3   geo_city   1000163 non-null  object \n",
      " 4   geo_state  1000163 non-null  object \n",
      "dtypes: float64(2), int64(1), object(2)\n",
      "memory usage: 38.2+ MB\n"
     ]
    }
   ],
   "source": [
    "# 변수명을 짧게\n",
    "geolocation.columns = ['geo_code','geo_lat','geo_lng','geo_city','geo_state']\n",
    "geolocation.info()"
   ]
  },
  {
   "cell_type": "code",
   "execution_count": 7,
   "id": "396d94c3",
   "metadata": {
    "scrolled": true
   },
   "outputs": [
    {
     "name": "stdout",
     "output_type": "stream",
     "text": [
      "<class 'pandas.core.frame.DataFrame'>\n",
      "RangeIndex: 1000163 entries, 0 to 1000162\n",
      "Data columns (total 5 columns):\n",
      " #   Column     Non-Null Count    Dtype  \n",
      "---  ------     --------------    -----  \n",
      " 0   geo_code   1000163 non-null  object \n",
      " 1   geo_lat    1000163 non-null  float64\n",
      " 2   geo_lng    1000163 non-null  float64\n",
      " 3   geo_city   1000163 non-null  object \n",
      " 4   geo_state  1000163 non-null  object \n",
      "dtypes: float64(2), object(3)\n",
      "memory usage: 38.2+ MB\n"
     ]
    }
   ],
   "source": [
    "# geo_code 우편번호를 'oject'로 변환\n",
    "geolocation['geo_code'] = geolocation['geo_code'].astype('object')\n",
    "geolocation.info()"
   ]
  },
  {
   "cell_type": "code",
   "execution_count": 8,
   "id": "b53c2120",
   "metadata": {},
   "outputs": [
    {
     "data": {
      "text/html": [
       "<div>\n",
       "<style scoped>\n",
       "    .dataframe tbody tr th:only-of-type {\n",
       "        vertical-align: middle;\n",
       "    }\n",
       "\n",
       "    .dataframe tbody tr th {\n",
       "        vertical-align: top;\n",
       "    }\n",
       "\n",
       "    .dataframe thead th {\n",
       "        text-align: right;\n",
       "    }\n",
       "</style>\n",
       "<table border=\"1\" class=\"dataframe\">\n",
       "  <thead>\n",
       "    <tr style=\"text-align: right;\">\n",
       "      <th></th>\n",
       "      <th>geo_code</th>\n",
       "      <th>geo_lat</th>\n",
       "      <th>geo_lng</th>\n",
       "      <th>geo_city</th>\n",
       "      <th>geo_state</th>\n",
       "    </tr>\n",
       "  </thead>\n",
       "  <tbody>\n",
       "    <tr>\n",
       "      <th>0</th>\n",
       "      <td>1037</td>\n",
       "      <td>-23.545621</td>\n",
       "      <td>-46.639292</td>\n",
       "      <td>sao paulo</td>\n",
       "      <td>SP</td>\n",
       "    </tr>\n",
       "    <tr>\n",
       "      <th>1</th>\n",
       "      <td>1046</td>\n",
       "      <td>-23.546081</td>\n",
       "      <td>-46.644820</td>\n",
       "      <td>sao paulo</td>\n",
       "      <td>SP</td>\n",
       "    </tr>\n",
       "    <tr>\n",
       "      <th>2</th>\n",
       "      <td>1046</td>\n",
       "      <td>-23.546129</td>\n",
       "      <td>-46.642951</td>\n",
       "      <td>sao paulo</td>\n",
       "      <td>SP</td>\n",
       "    </tr>\n",
       "    <tr>\n",
       "      <th>3</th>\n",
       "      <td>1041</td>\n",
       "      <td>-23.544392</td>\n",
       "      <td>-46.639499</td>\n",
       "      <td>sao paulo</td>\n",
       "      <td>SP</td>\n",
       "    </tr>\n",
       "    <tr>\n",
       "      <th>4</th>\n",
       "      <td>1035</td>\n",
       "      <td>-23.541578</td>\n",
       "      <td>-46.641607</td>\n",
       "      <td>sao paulo</td>\n",
       "      <td>SP</td>\n",
       "    </tr>\n",
       "  </tbody>\n",
       "</table>\n",
       "</div>"
      ],
      "text/plain": [
       "  geo_code    geo_lat    geo_lng   geo_city geo_state\n",
       "0     1037 -23.545621 -46.639292  sao paulo        SP\n",
       "1     1046 -23.546081 -46.644820  sao paulo        SP\n",
       "2     1046 -23.546129 -46.642951  sao paulo        SP\n",
       "3     1041 -23.544392 -46.639499  sao paulo        SP\n",
       "4     1035 -23.541578 -46.641607  sao paulo        SP"
      ]
     },
     "execution_count": 8,
     "metadata": {},
     "output_type": "execute_result"
    }
   ],
   "source": [
    "geolocation.head()"
   ]
  },
  {
   "cell_type": "markdown",
   "id": "0905af24",
   "metadata": {},
   "source": [
    "### 1.2.1 geolocation_city 정규화\n",
    "city명이 악센트로 표기된 경우/영어로 표기된 경우  \n",
    "2가지 표기방식이 모두 존재하므로 영어로 통일하여 문자열을 정규화  \n",
    "  \n",
    "2016년 기준으로 브라질의 도시(municípios) 개수는 약 5,570개 (브라질 연방정부의 공식 통계에 따른 것)"
   ]
  },
  {
   "cell_type": "code",
   "execution_count": 9,
   "id": "45332708",
   "metadata": {},
   "outputs": [
    {
     "name": "stdout",
     "output_type": "stream",
     "text": [
      "['sao paulo' 'são paulo' 'sao bernardo do campo' ... 'ciríaco' 'estação'\n",
      " 'vila lângaro']\n",
      "unique한 도시명 counts : 8011\n"
     ]
    }
   ],
   "source": [
    "print(geolocation['geo_city'].unique())\n",
    "print('unique한 도시명 counts :',geolocation['geo_city'].nunique())\n",
    "# 도시이름이 악센트가 붙은경우, 영어인경우가 존재. 동일시 하기 위해서 정규화"
   ]
  },
  {
   "cell_type": "code",
   "execution_count": 10,
   "id": "b93fe3e0",
   "metadata": {},
   "outputs": [],
   "source": [
    "import unicodedata\n",
    "\n",
    "# 도시 이름을 정규화하는 함수\n",
    "def normalize_city(city):\n",
    "    return unicodedata.normalize('NFKD', city).encode('ASCII', 'ignore').decode('utf-8').lower()\n",
    "\n",
    "# city 컬럼 정규화\n",
    "geolocation_cleaned = geolocation.copy()\n",
    "geolocation_cleaned['geo_city'] = geolocation_cleaned['geo_city'].apply(normalize_city)"
   ]
  },
  {
   "cell_type": "code",
   "execution_count": 11,
   "id": "de2ebab0",
   "metadata": {},
   "outputs": [
    {
     "name": "stdout",
     "output_type": "stream",
     "text": [
      "['sao paulo' 'sao bernardo do campo' 'jundiai' ... 'floriano peixoto'\n",
      " 'erebango' 'santa cecilia do sul']\n",
      "5968\n"
     ]
    }
   ],
   "source": [
    "print(geolocation_cleaned['geo_city'].unique())\n",
    "print(geolocation_cleaned['geo_city'].nunique())"
   ]
  },
  {
   "cell_type": "code",
   "execution_count": 12,
   "id": "8a089ace",
   "metadata": {},
   "outputs": [
    {
     "data": {
      "text/html": [
       "<div>\n",
       "<style scoped>\n",
       "    .dataframe tbody tr th:only-of-type {\n",
       "        vertical-align: middle;\n",
       "    }\n",
       "\n",
       "    .dataframe tbody tr th {\n",
       "        vertical-align: top;\n",
       "    }\n",
       "\n",
       "    .dataframe thead th {\n",
       "        text-align: right;\n",
       "    }\n",
       "</style>\n",
       "<table border=\"1\" class=\"dataframe\">\n",
       "  <thead>\n",
       "    <tr style=\"text-align: right;\">\n",
       "      <th></th>\n",
       "      <th>geo_code</th>\n",
       "      <th>geo_lat</th>\n",
       "      <th>geo_lng</th>\n",
       "      <th>geo_city</th>\n",
       "      <th>geo_state</th>\n",
       "    </tr>\n",
       "  </thead>\n",
       "  <tbody>\n",
       "    <tr>\n",
       "      <th>0</th>\n",
       "      <td>1037</td>\n",
       "      <td>-23.545621</td>\n",
       "      <td>-46.639292</td>\n",
       "      <td>sao paulo</td>\n",
       "      <td>SP</td>\n",
       "    </tr>\n",
       "    <tr>\n",
       "      <th>14</th>\n",
       "      <td>1037</td>\n",
       "      <td>-23.545187</td>\n",
       "      <td>-46.637855</td>\n",
       "      <td>são paulo</td>\n",
       "      <td>SP</td>\n",
       "    </tr>\n",
       "    <tr>\n",
       "      <th>31</th>\n",
       "      <td>1037</td>\n",
       "      <td>-23.546705</td>\n",
       "      <td>-46.640336</td>\n",
       "      <td>são paulo</td>\n",
       "      <td>SP</td>\n",
       "    </tr>\n",
       "    <tr>\n",
       "      <th>169</th>\n",
       "      <td>1037</td>\n",
       "      <td>-23.543883</td>\n",
       "      <td>-46.638075</td>\n",
       "      <td>são paulo</td>\n",
       "      <td>SP</td>\n",
       "    </tr>\n",
       "    <tr>\n",
       "      <th>178</th>\n",
       "      <td>1037</td>\n",
       "      <td>-23.546157</td>\n",
       "      <td>-46.639885</td>\n",
       "      <td>sao paulo</td>\n",
       "      <td>SP</td>\n",
       "    </tr>\n",
       "  </tbody>\n",
       "</table>\n",
       "</div>"
      ],
      "text/plain": [
       "    geo_code    geo_lat    geo_lng   geo_city geo_state\n",
       "0       1037 -23.545621 -46.639292  sao paulo        SP\n",
       "14      1037 -23.545187 -46.637855  são paulo        SP\n",
       "31      1037 -23.546705 -46.640336  são paulo        SP\n",
       "169     1037 -23.543883 -46.638075  são paulo        SP\n",
       "178     1037 -23.546157 -46.639885  sao paulo        SP"
      ]
     },
     "execution_count": 12,
     "metadata": {},
     "output_type": "execute_result"
    }
   ],
   "source": [
    "geolocation[geolocation['geo_code']==1037].head()"
   ]
  },
  {
   "cell_type": "code",
   "execution_count": 13,
   "id": "ed4c33ee",
   "metadata": {},
   "outputs": [
    {
     "data": {
      "text/html": [
       "<div>\n",
       "<style scoped>\n",
       "    .dataframe tbody tr th:only-of-type {\n",
       "        vertical-align: middle;\n",
       "    }\n",
       "\n",
       "    .dataframe tbody tr th {\n",
       "        vertical-align: top;\n",
       "    }\n",
       "\n",
       "    .dataframe thead th {\n",
       "        text-align: right;\n",
       "    }\n",
       "</style>\n",
       "<table border=\"1\" class=\"dataframe\">\n",
       "  <thead>\n",
       "    <tr style=\"text-align: right;\">\n",
       "      <th></th>\n",
       "      <th>geo_code</th>\n",
       "      <th>geo_lat</th>\n",
       "      <th>geo_lng</th>\n",
       "      <th>geo_city</th>\n",
       "      <th>geo_state</th>\n",
       "    </tr>\n",
       "  </thead>\n",
       "  <tbody>\n",
       "    <tr>\n",
       "      <th>0</th>\n",
       "      <td>1037</td>\n",
       "      <td>-23.545621</td>\n",
       "      <td>-46.639292</td>\n",
       "      <td>sao paulo</td>\n",
       "      <td>SP</td>\n",
       "    </tr>\n",
       "    <tr>\n",
       "      <th>14</th>\n",
       "      <td>1037</td>\n",
       "      <td>-23.545187</td>\n",
       "      <td>-46.637855</td>\n",
       "      <td>sao paulo</td>\n",
       "      <td>SP</td>\n",
       "    </tr>\n",
       "    <tr>\n",
       "      <th>31</th>\n",
       "      <td>1037</td>\n",
       "      <td>-23.546705</td>\n",
       "      <td>-46.640336</td>\n",
       "      <td>sao paulo</td>\n",
       "      <td>SP</td>\n",
       "    </tr>\n",
       "    <tr>\n",
       "      <th>169</th>\n",
       "      <td>1037</td>\n",
       "      <td>-23.543883</td>\n",
       "      <td>-46.638075</td>\n",
       "      <td>sao paulo</td>\n",
       "      <td>SP</td>\n",
       "    </tr>\n",
       "    <tr>\n",
       "      <th>178</th>\n",
       "      <td>1037</td>\n",
       "      <td>-23.546157</td>\n",
       "      <td>-46.639885</td>\n",
       "      <td>sao paulo</td>\n",
       "      <td>SP</td>\n",
       "    </tr>\n",
       "  </tbody>\n",
       "</table>\n",
       "</div>"
      ],
      "text/plain": [
       "    geo_code    geo_lat    geo_lng   geo_city geo_state\n",
       "0       1037 -23.545621 -46.639292  sao paulo        SP\n",
       "14      1037 -23.545187 -46.637855  sao paulo        SP\n",
       "31      1037 -23.546705 -46.640336  sao paulo        SP\n",
       "169     1037 -23.543883 -46.638075  sao paulo        SP\n",
       "178     1037 -23.546157 -46.639885  sao paulo        SP"
      ]
     },
     "execution_count": 13,
     "metadata": {},
     "output_type": "execute_result"
    }
   ],
   "source": [
    "geolocation_cleaned[geolocation_cleaned['geo_code']==1037].head()"
   ]
  },
  {
   "cell_type": "markdown",
   "id": "b4d137e4",
   "metadata": {},
   "source": [
    "### 1.2.2 state-city가 올바르게 분류 되었는지 확인\n",
    "https://www.citypopulation.de/en/brazil/ 브라질 state별 city리스트가 있는 사이트\n",
    "1. 같은 우편번호인데 state, city가 다른경우 뽑기\n",
    "2. 해당 경우의 우편번호별로 수작업으로 state,city수정"
   ]
  },
  {
   "cell_type": "code",
   "execution_count": 14,
   "id": "d2aad143",
   "metadata": {},
   "outputs": [
    {
     "data": {
      "text/plain": [
       "981148"
      ]
     },
     "execution_count": 14,
     "metadata": {},
     "output_type": "execute_result"
    }
   ],
   "source": [
    "geolocation_cleaned['geo_code'].duplicated().sum()\n",
    "# 우편번호가 중복된 행 981,148rows"
   ]
  },
  {
   "cell_type": "code",
   "execution_count": 15,
   "id": "2e5af32b",
   "metadata": {
    "scrolled": true
   },
   "outputs": [
    {
     "name": "stderr",
     "output_type": "stream",
     "text": [
      "C:\\Users\\myhyu\\AppData\\Local\\Temp\\ipykernel_28716\\747809266.py:10: DeprecationWarning: DataFrameGroupBy.apply operated on the grouping columns. This behavior is deprecated, and in a future version of pandas the grouping columns will be excluded from the operation. Either pass `include_groups=False` to exclude the groupings or explicitly select the grouping columns after groupby to silence this warning.\n",
      "  geolocation_cleaned.groupby('geo_code').apply(check_different_states).head()\n"
     ]
    },
    {
     "data": {
      "text/html": [
       "<div>\n",
       "<style scoped>\n",
       "    .dataframe tbody tr th:only-of-type {\n",
       "        vertical-align: middle;\n",
       "    }\n",
       "\n",
       "    .dataframe tbody tr th {\n",
       "        vertical-align: top;\n",
       "    }\n",
       "\n",
       "    .dataframe thead th {\n",
       "        text-align: right;\n",
       "    }\n",
       "</style>\n",
       "<table border=\"1\" class=\"dataframe\">\n",
       "  <thead>\n",
       "    <tr style=\"text-align: right;\">\n",
       "      <th></th>\n",
       "      <th></th>\n",
       "      <th>geo_code</th>\n",
       "      <th>geo_lat</th>\n",
       "      <th>geo_lng</th>\n",
       "      <th>geo_city</th>\n",
       "      <th>geo_state</th>\n",
       "    </tr>\n",
       "    <tr>\n",
       "      <th>geo_code</th>\n",
       "      <th></th>\n",
       "      <th></th>\n",
       "      <th></th>\n",
       "      <th></th>\n",
       "      <th></th>\n",
       "      <th></th>\n",
       "    </tr>\n",
       "  </thead>\n",
       "  <tbody>\n",
       "    <tr>\n",
       "      <th rowspan=\"5\" valign=\"top\">2116</th>\n",
       "      <th>21728</th>\n",
       "      <td>2116</td>\n",
       "      <td>-23.522700</td>\n",
       "      <td>-46.587546</td>\n",
       "      <td>sao paulo</td>\n",
       "      <td>SP</td>\n",
       "    </tr>\n",
       "    <tr>\n",
       "      <th>21759</th>\n",
       "      <td>2116</td>\n",
       "      <td>-23.518459</td>\n",
       "      <td>-46.584128</td>\n",
       "      <td>sao paulo</td>\n",
       "      <td>SP</td>\n",
       "    </tr>\n",
       "    <tr>\n",
       "      <th>21788</th>\n",
       "      <td>2116</td>\n",
       "      <td>-23.518459</td>\n",
       "      <td>-46.584128</td>\n",
       "      <td>sao paulo</td>\n",
       "      <td>SP</td>\n",
       "    </tr>\n",
       "    <tr>\n",
       "      <th>22060</th>\n",
       "      <td>2116</td>\n",
       "      <td>-23.519065</td>\n",
       "      <td>-46.584610</td>\n",
       "      <td>sao paulo</td>\n",
       "      <td>SP</td>\n",
       "    </tr>\n",
       "    <tr>\n",
       "      <th>22193</th>\n",
       "      <td>2116</td>\n",
       "      <td>-23.519739</td>\n",
       "      <td>-46.585151</td>\n",
       "      <td>sao paulo</td>\n",
       "      <td>SP</td>\n",
       "    </tr>\n",
       "  </tbody>\n",
       "</table>\n",
       "</div>"
      ],
      "text/plain": [
       "               geo_code    geo_lat    geo_lng   geo_city geo_state\n",
       "geo_code                                                          \n",
       "2116     21728     2116 -23.522700 -46.587546  sao paulo        SP\n",
       "         21759     2116 -23.518459 -46.584128  sao paulo        SP\n",
       "         21788     2116 -23.518459 -46.584128  sao paulo        SP\n",
       "         22060     2116 -23.519065 -46.584610  sao paulo        SP\n",
       "         22193     2116 -23.519739 -46.585151  sao paulo        SP"
      ]
     },
     "execution_count": 15,
     "metadata": {},
     "output_type": "execute_result"
    }
   ],
   "source": [
    "# 우편번호가 같은데, state가 다른 경우\n",
    "def check_different_states(group):\n",
    "    # group 안에서 city/state가 모두 같은지 확인\n",
    "    unique_states = group['geo_state'].nunique()\n",
    "    if unique_states > 1:  # state가 다르면 해당 그룹 전체를 반환\n",
    "        return group  # 동일하지 않은 행 반환\n",
    "    return pd.DataFrame() \n",
    "\n",
    "# 중복된 우편번호들에 대해 state가 다른 경우 확인\n",
    "geolocation_cleaned.groupby('geo_code').apply(check_different_states).head()"
   ]
  },
  {
   "cell_type": "code",
   "execution_count": 16,
   "id": "dc1fef02",
   "metadata": {},
   "outputs": [
    {
     "name": "stderr",
     "output_type": "stream",
     "text": [
      "C:\\Users\\myhyu\\AppData\\Local\\Temp\\ipykernel_28716\\1342676983.py:1: DeprecationWarning: DataFrameGroupBy.apply operated on the grouping columns. This behavior is deprecated, and in a future version of pandas the grouping columns will be excluded from the operation. Either pass `include_groups=False` to exclude the groupings or explicitly select the grouping columns after groupby to silence this warning.\n",
      "  geolocation_cleaned.groupby('geo_code').apply(check_different_states)['geo_code'].unique()\n"
     ]
    },
    {
     "data": {
      "text/plain": [
       "array([2116, 4011, 21550, 23056, 72915, 78557, 79750, 80630], dtype=object)"
      ]
     },
     "execution_count": 16,
     "metadata": {},
     "output_type": "execute_result"
    }
   ],
   "source": [
    "geolocation_cleaned.groupby('geo_code').apply(check_different_states)['geo_code'].unique()"
   ]
  },
  {
   "cell_type": "code",
   "execution_count": 17,
   "id": "802a556c",
   "metadata": {},
   "outputs": [
    {
     "data": {
      "text/html": [
       "<div>\n",
       "<style scoped>\n",
       "    .dataframe tbody tr th:only-of-type {\n",
       "        vertical-align: middle;\n",
       "    }\n",
       "\n",
       "    .dataframe tbody tr th {\n",
       "        vertical-align: top;\n",
       "    }\n",
       "\n",
       "    .dataframe thead th {\n",
       "        text-align: right;\n",
       "    }\n",
       "</style>\n",
       "<table border=\"1\" class=\"dataframe\">\n",
       "  <thead>\n",
       "    <tr style=\"text-align: right;\">\n",
       "      <th></th>\n",
       "      <th>geo_code</th>\n",
       "      <th>geo_lat</th>\n",
       "      <th>geo_lng</th>\n",
       "      <th>geo_city</th>\n",
       "      <th>geo_state</th>\n",
       "    </tr>\n",
       "  </thead>\n",
       "  <tbody>\n",
       "    <tr>\n",
       "      <th>21728</th>\n",
       "      <td>2116</td>\n",
       "      <td>-23.522700</td>\n",
       "      <td>-46.587546</td>\n",
       "      <td>sao paulo</td>\n",
       "      <td>SP</td>\n",
       "    </tr>\n",
       "    <tr>\n",
       "      <th>21759</th>\n",
       "      <td>2116</td>\n",
       "      <td>-23.518459</td>\n",
       "      <td>-46.584128</td>\n",
       "      <td>sao paulo</td>\n",
       "      <td>SP</td>\n",
       "    </tr>\n",
       "    <tr>\n",
       "      <th>21788</th>\n",
       "      <td>2116</td>\n",
       "      <td>-23.518459</td>\n",
       "      <td>-46.584128</td>\n",
       "      <td>sao paulo</td>\n",
       "      <td>SP</td>\n",
       "    </tr>\n",
       "    <tr>\n",
       "      <th>22060</th>\n",
       "      <td>2116</td>\n",
       "      <td>-23.519065</td>\n",
       "      <td>-46.584610</td>\n",
       "      <td>sao paulo</td>\n",
       "      <td>SP</td>\n",
       "    </tr>\n",
       "    <tr>\n",
       "      <th>22193</th>\n",
       "      <td>2116</td>\n",
       "      <td>-23.519739</td>\n",
       "      <td>-46.585151</td>\n",
       "      <td>sao paulo</td>\n",
       "      <td>SP</td>\n",
       "    </tr>\n",
       "    <tr>\n",
       "      <th>22261</th>\n",
       "      <td>2116</td>\n",
       "      <td>-23.515978</td>\n",
       "      <td>-46.582170</td>\n",
       "      <td>sao paulo</td>\n",
       "      <td>RN</td>\n",
       "    </tr>\n",
       "    <tr>\n",
       "      <th>22330</th>\n",
       "      <td>2116</td>\n",
       "      <td>-23.518746</td>\n",
       "      <td>-46.583058</td>\n",
       "      <td>sao paulo</td>\n",
       "      <td>SP</td>\n",
       "    </tr>\n",
       "    <tr>\n",
       "      <th>22503</th>\n",
       "      <td>2116</td>\n",
       "      <td>-23.519065</td>\n",
       "      <td>-46.584610</td>\n",
       "      <td>sao paulo</td>\n",
       "      <td>SP</td>\n",
       "    </tr>\n",
       "    <tr>\n",
       "      <th>22638</th>\n",
       "      <td>2116</td>\n",
       "      <td>-23.522404</td>\n",
       "      <td>-46.587229</td>\n",
       "      <td>sao paulo</td>\n",
       "      <td>SP</td>\n",
       "    </tr>\n",
       "    <tr>\n",
       "      <th>22740</th>\n",
       "      <td>2116</td>\n",
       "      <td>-23.517004</td>\n",
       "      <td>-46.583043</td>\n",
       "      <td>sao paulo</td>\n",
       "      <td>SP</td>\n",
       "    </tr>\n",
       "    <tr>\n",
       "      <th>22742</th>\n",
       "      <td>2116</td>\n",
       "      <td>-23.525834</td>\n",
       "      <td>-46.589954</td>\n",
       "      <td>sao paulo</td>\n",
       "      <td>SP</td>\n",
       "    </tr>\n",
       "    <tr>\n",
       "      <th>22804</th>\n",
       "      <td>2116</td>\n",
       "      <td>-23.525239</td>\n",
       "      <td>-46.589437</td>\n",
       "      <td>sao paulo</td>\n",
       "      <td>SP</td>\n",
       "    </tr>\n",
       "    <tr>\n",
       "      <th>22879</th>\n",
       "      <td>2116</td>\n",
       "      <td>-23.518746</td>\n",
       "      <td>-46.583058</td>\n",
       "      <td>sao paulo</td>\n",
       "      <td>SP</td>\n",
       "    </tr>\n",
       "  </tbody>\n",
       "</table>\n",
       "</div>"
      ],
      "text/plain": [
       "      geo_code    geo_lat    geo_lng   geo_city geo_state\n",
       "21728     2116 -23.522700 -46.587546  sao paulo        SP\n",
       "21759     2116 -23.518459 -46.584128  sao paulo        SP\n",
       "21788     2116 -23.518459 -46.584128  sao paulo        SP\n",
       "22060     2116 -23.519065 -46.584610  sao paulo        SP\n",
       "22193     2116 -23.519739 -46.585151  sao paulo        SP\n",
       "22261     2116 -23.515978 -46.582170  sao paulo        RN\n",
       "22330     2116 -23.518746 -46.583058  sao paulo        SP\n",
       "22503     2116 -23.519065 -46.584610  sao paulo        SP\n",
       "22638     2116 -23.522404 -46.587229  sao paulo        SP\n",
       "22740     2116 -23.517004 -46.583043  sao paulo        SP\n",
       "22742     2116 -23.525834 -46.589954  sao paulo        SP\n",
       "22804     2116 -23.525239 -46.589437  sao paulo        SP\n",
       "22879     2116 -23.518746 -46.583058  sao paulo        SP"
      ]
     },
     "execution_count": 17,
     "metadata": {},
     "output_type": "execute_result"
    }
   ],
   "source": [
    "## 2116\n",
    "pd.set_option('display.max_rows', None) \n",
    "geolocation_cleaned[geolocation_cleaned.iloc[:,0] == 2116]"
   ]
  },
  {
   "cell_type": "code",
   "execution_count": 18,
   "id": "2dae690a",
   "metadata": {},
   "outputs": [
    {
     "name": "stderr",
     "output_type": "stream",
     "text": [
      "C:\\Users\\myhyu\\AppData\\Local\\Temp\\ipykernel_28716\\1842023374.py:1: UserWarning: Boolean Series key will be reindexed to match DataFrame index.\n",
      "  geolocation_cleaned[geolocation_cleaned.iloc[:,0] == 2116][geolocation_cleaned['geo_state'] != 'SP']\n"
     ]
    },
    {
     "data": {
      "text/html": [
       "<div>\n",
       "<style scoped>\n",
       "    .dataframe tbody tr th:only-of-type {\n",
       "        vertical-align: middle;\n",
       "    }\n",
       "\n",
       "    .dataframe tbody tr th {\n",
       "        vertical-align: top;\n",
       "    }\n",
       "\n",
       "    .dataframe thead th {\n",
       "        text-align: right;\n",
       "    }\n",
       "</style>\n",
       "<table border=\"1\" class=\"dataframe\">\n",
       "  <thead>\n",
       "    <tr style=\"text-align: right;\">\n",
       "      <th></th>\n",
       "      <th>geo_code</th>\n",
       "      <th>geo_lat</th>\n",
       "      <th>geo_lng</th>\n",
       "      <th>geo_city</th>\n",
       "      <th>geo_state</th>\n",
       "    </tr>\n",
       "  </thead>\n",
       "  <tbody>\n",
       "    <tr>\n",
       "      <th>22261</th>\n",
       "      <td>2116</td>\n",
       "      <td>-23.515978</td>\n",
       "      <td>-46.58217</td>\n",
       "      <td>sao paulo</td>\n",
       "      <td>RN</td>\n",
       "    </tr>\n",
       "  </tbody>\n",
       "</table>\n",
       "</div>"
      ],
      "text/plain": [
       "      geo_code    geo_lat   geo_lng   geo_city geo_state\n",
       "22261     2116 -23.515978 -46.58217  sao paulo        RN"
      ]
     },
     "execution_count": 18,
     "metadata": {},
     "output_type": "execute_result"
    }
   ],
   "source": [
    "geolocation_cleaned[geolocation_cleaned.iloc[:,0] == 2116][geolocation_cleaned['geo_state'] != 'SP']"
   ]
  },
  {
   "cell_type": "code",
   "execution_count": 19,
   "id": "a1caadfb",
   "metadata": {},
   "outputs": [],
   "source": [
    "geolocation_cleaned.loc[22261,'geo_state'] = 'SP'"
   ]
  },
  {
   "cell_type": "code",
   "execution_count": 20,
   "id": "b18a8d74",
   "metadata": {},
   "outputs": [
    {
     "data": {
      "text/html": [
       "<div>\n",
       "<style scoped>\n",
       "    .dataframe tbody tr th:only-of-type {\n",
       "        vertical-align: middle;\n",
       "    }\n",
       "\n",
       "    .dataframe tbody tr th {\n",
       "        vertical-align: top;\n",
       "    }\n",
       "\n",
       "    .dataframe thead th {\n",
       "        text-align: right;\n",
       "    }\n",
       "</style>\n",
       "<table border=\"1\" class=\"dataframe\">\n",
       "  <thead>\n",
       "    <tr style=\"text-align: right;\">\n",
       "      <th></th>\n",
       "      <th>geo_code</th>\n",
       "      <th>geo_lat</th>\n",
       "      <th>geo_lng</th>\n",
       "      <th>geo_city</th>\n",
       "      <th>geo_state</th>\n",
       "    </tr>\n",
       "  </thead>\n",
       "  <tbody>\n",
       "    <tr>\n",
       "      <th>71032</th>\n",
       "      <td>4011</td>\n",
       "      <td>-23.577404</td>\n",
       "      <td>-46.641657</td>\n",
       "      <td>sao paulo</td>\n",
       "      <td>SP</td>\n",
       "    </tr>\n",
       "    <tr>\n",
       "      <th>71116</th>\n",
       "      <td>4011</td>\n",
       "      <td>-23.578737</td>\n",
       "      <td>-46.642472</td>\n",
       "      <td>sao paulo</td>\n",
       "      <td>SP</td>\n",
       "    </tr>\n",
       "    <tr>\n",
       "      <th>71148</th>\n",
       "      <td>4011</td>\n",
       "      <td>-23.580095</td>\n",
       "      <td>-46.643086</td>\n",
       "      <td>sao paulo</td>\n",
       "      <td>SP</td>\n",
       "    </tr>\n",
       "    <tr>\n",
       "      <th>71152</th>\n",
       "      <td>4011</td>\n",
       "      <td>-23.579846</td>\n",
       "      <td>-46.645874</td>\n",
       "      <td>sao paulo</td>\n",
       "      <td>SP</td>\n",
       "    </tr>\n",
       "    <tr>\n",
       "      <th>71172</th>\n",
       "      <td>4011</td>\n",
       "      <td>-23.580095</td>\n",
       "      <td>-46.643086</td>\n",
       "      <td>sao paulo</td>\n",
       "      <td>SP</td>\n",
       "    </tr>\n",
       "  </tbody>\n",
       "</table>\n",
       "</div>"
      ],
      "text/plain": [
       "      geo_code    geo_lat    geo_lng   geo_city geo_state\n",
       "71032     4011 -23.577404 -46.641657  sao paulo        SP\n",
       "71116     4011 -23.578737 -46.642472  sao paulo        SP\n",
       "71148     4011 -23.580095 -46.643086  sao paulo        SP\n",
       "71152     4011 -23.579846 -46.645874  sao paulo        SP\n",
       "71172     4011 -23.580095 -46.643086  sao paulo        SP"
      ]
     },
     "execution_count": 20,
     "metadata": {},
     "output_type": "execute_result"
    }
   ],
   "source": [
    "#4011\n",
    "geolocation_cleaned[geolocation_cleaned.iloc[:,0] == 4011].head()"
   ]
  },
  {
   "cell_type": "code",
   "execution_count": 21,
   "id": "d8e8fb24",
   "metadata": {},
   "outputs": [
    {
     "name": "stderr",
     "output_type": "stream",
     "text": [
      "C:\\Users\\myhyu\\AppData\\Local\\Temp\\ipykernel_28716\\656049867.py:1: UserWarning: Boolean Series key will be reindexed to match DataFrame index.\n",
      "  geolocation_cleaned[geolocation_cleaned.iloc[:,0] == 4011][geolocation_cleaned['geo_state'] != 'SP']\n"
     ]
    },
    {
     "data": {
      "text/html": [
       "<div>\n",
       "<style scoped>\n",
       "    .dataframe tbody tr th:only-of-type {\n",
       "        vertical-align: middle;\n",
       "    }\n",
       "\n",
       "    .dataframe tbody tr th {\n",
       "        vertical-align: top;\n",
       "    }\n",
       "\n",
       "    .dataframe thead th {\n",
       "        text-align: right;\n",
       "    }\n",
       "</style>\n",
       "<table border=\"1\" class=\"dataframe\">\n",
       "  <thead>\n",
       "    <tr style=\"text-align: right;\">\n",
       "      <th></th>\n",
       "      <th>geo_code</th>\n",
       "      <th>geo_lat</th>\n",
       "      <th>geo_lng</th>\n",
       "      <th>geo_city</th>\n",
       "      <th>geo_state</th>\n",
       "    </tr>\n",
       "  </thead>\n",
       "  <tbody>\n",
       "    <tr>\n",
       "      <th>72852</th>\n",
       "      <td>4011</td>\n",
       "      <td>-23.578707</td>\n",
       "      <td>-46.645779</td>\n",
       "      <td>sao paulo</td>\n",
       "      <td>AC</td>\n",
       "    </tr>\n",
       "  </tbody>\n",
       "</table>\n",
       "</div>"
      ],
      "text/plain": [
       "      geo_code    geo_lat    geo_lng   geo_city geo_state\n",
       "72852     4011 -23.578707 -46.645779  sao paulo        AC"
      ]
     },
     "execution_count": 21,
     "metadata": {},
     "output_type": "execute_result"
    }
   ],
   "source": [
    "geolocation_cleaned[geolocation_cleaned.iloc[:,0] == 4011][geolocation_cleaned['geo_state'] != 'SP']"
   ]
  },
  {
   "cell_type": "code",
   "execution_count": 22,
   "id": "f4d4611d",
   "metadata": {},
   "outputs": [],
   "source": [
    "geolocation_cleaned.loc[72852,'geo_state'] = 'SP'"
   ]
  },
  {
   "cell_type": "code",
   "execution_count": 23,
   "id": "8e85b7d4",
   "metadata": {
    "scrolled": false
   },
   "outputs": [
    {
     "data": {
      "text/html": [
       "<div>\n",
       "<style scoped>\n",
       "    .dataframe tbody tr th:only-of-type {\n",
       "        vertical-align: middle;\n",
       "    }\n",
       "\n",
       "    .dataframe tbody tr th {\n",
       "        vertical-align: top;\n",
       "    }\n",
       "\n",
       "    .dataframe thead th {\n",
       "        text-align: right;\n",
       "    }\n",
       "</style>\n",
       "<table border=\"1\" class=\"dataframe\">\n",
       "  <thead>\n",
       "    <tr style=\"text-align: right;\">\n",
       "      <th></th>\n",
       "      <th>geo_code</th>\n",
       "      <th>geo_lat</th>\n",
       "      <th>geo_lng</th>\n",
       "      <th>geo_city</th>\n",
       "      <th>geo_state</th>\n",
       "    </tr>\n",
       "  </thead>\n",
       "  <tbody>\n",
       "    <tr>\n",
       "      <th>430342</th>\n",
       "      <td>21550</td>\n",
       "      <td>-22.855425</td>\n",
       "      <td>-43.367089</td>\n",
       "      <td>rio de janeiro</td>\n",
       "      <td>RJ</td>\n",
       "    </tr>\n",
       "    <tr>\n",
       "      <th>430344</th>\n",
       "      <td>21550</td>\n",
       "      <td>-22.860741</td>\n",
       "      <td>-43.355019</td>\n",
       "      <td>rio de janeiro</td>\n",
       "      <td>RJ</td>\n",
       "    </tr>\n",
       "    <tr>\n",
       "      <th>430351</th>\n",
       "      <td>21550</td>\n",
       "      <td>-22.862541</td>\n",
       "      <td>-43.360341</td>\n",
       "      <td>rio de janeiro</td>\n",
       "      <td>RJ</td>\n",
       "    </tr>\n",
       "    <tr>\n",
       "      <th>430352</th>\n",
       "      <td>21550</td>\n",
       "      <td>-22.861061</td>\n",
       "      <td>-43.358704</td>\n",
       "      <td>rio de janeiro</td>\n",
       "      <td>RJ</td>\n",
       "    </tr>\n",
       "    <tr>\n",
       "      <th>430356</th>\n",
       "      <td>21550</td>\n",
       "      <td>-22.864106</td>\n",
       "      <td>-43.356605</td>\n",
       "      <td>rio de janeiro</td>\n",
       "      <td>RJ</td>\n",
       "    </tr>\n",
       "  </tbody>\n",
       "</table>\n",
       "</div>"
      ],
      "text/plain": [
       "       geo_code    geo_lat    geo_lng        geo_city geo_state\n",
       "430342    21550 -22.855425 -43.367089  rio de janeiro        RJ\n",
       "430344    21550 -22.860741 -43.355019  rio de janeiro        RJ\n",
       "430351    21550 -22.862541 -43.360341  rio de janeiro        RJ\n",
       "430352    21550 -22.861061 -43.358704  rio de janeiro        RJ\n",
       "430356    21550 -22.864106 -43.356605  rio de janeiro        RJ"
      ]
     },
     "execution_count": 23,
     "metadata": {},
     "output_type": "execute_result"
    }
   ],
   "source": [
    "#21550\n",
    "geolocation_cleaned[geolocation_cleaned.iloc[:,0] == 21550].head()"
   ]
  },
  {
   "cell_type": "code",
   "execution_count": 24,
   "id": "cad8316e",
   "metadata": {},
   "outputs": [
    {
     "name": "stderr",
     "output_type": "stream",
     "text": [
      "C:\\Users\\myhyu\\AppData\\Local\\Temp\\ipykernel_28716\\68817905.py:2: UserWarning: Boolean Series key will be reindexed to match DataFrame index.\n",
      "  geolocation_cleaned[geolocation_cleaned.iloc[:,0] == 21550][geolocation_cleaned['geo_state'] != 'RJ']\n"
     ]
    },
    {
     "data": {
      "text/html": [
       "<div>\n",
       "<style scoped>\n",
       "    .dataframe tbody tr th:only-of-type {\n",
       "        vertical-align: middle;\n",
       "    }\n",
       "\n",
       "    .dataframe tbody tr th {\n",
       "        vertical-align: top;\n",
       "    }\n",
       "\n",
       "    .dataframe thead th {\n",
       "        text-align: right;\n",
       "    }\n",
       "</style>\n",
       "<table border=\"1\" class=\"dataframe\">\n",
       "  <thead>\n",
       "    <tr style=\"text-align: right;\">\n",
       "      <th></th>\n",
       "      <th>geo_code</th>\n",
       "      <th>geo_lat</th>\n",
       "      <th>geo_lng</th>\n",
       "      <th>geo_city</th>\n",
       "      <th>geo_state</th>\n",
       "    </tr>\n",
       "  </thead>\n",
       "  <tbody>\n",
       "    <tr>\n",
       "      <th>430999</th>\n",
       "      <td>21550</td>\n",
       "      <td>-22.857861</td>\n",
       "      <td>-43.352613</td>\n",
       "      <td>rio de janeiro</td>\n",
       "      <td>AC</td>\n",
       "    </tr>\n",
       "  </tbody>\n",
       "</table>\n",
       "</div>"
      ],
      "text/plain": [
       "       geo_code    geo_lat    geo_lng        geo_city geo_state\n",
       "430999    21550 -22.857861 -43.352613  rio de janeiro        AC"
      ]
     },
     "execution_count": 24,
     "metadata": {},
     "output_type": "execute_result"
    }
   ],
   "source": [
    "#21550\n",
    "geolocation_cleaned[geolocation_cleaned.iloc[:,0] == 21550][geolocation_cleaned['geo_state'] != 'RJ']"
   ]
  },
  {
   "cell_type": "code",
   "execution_count": 25,
   "id": "fddb6b53",
   "metadata": {},
   "outputs": [],
   "source": [
    "geolocation_cleaned.loc[430999,'geo_state'] = 'RJ'"
   ]
  },
  {
   "cell_type": "code",
   "execution_count": 26,
   "id": "4e1b0562",
   "metadata": {},
   "outputs": [
    {
     "data": {
      "text/html": [
       "<div>\n",
       "<style scoped>\n",
       "    .dataframe tbody tr th:only-of-type {\n",
       "        vertical-align: middle;\n",
       "    }\n",
       "\n",
       "    .dataframe tbody tr th {\n",
       "        vertical-align: top;\n",
       "    }\n",
       "\n",
       "    .dataframe thead th {\n",
       "        text-align: right;\n",
       "    }\n",
       "</style>\n",
       "<table border=\"1\" class=\"dataframe\">\n",
       "  <thead>\n",
       "    <tr style=\"text-align: right;\">\n",
       "      <th></th>\n",
       "      <th>geo_code</th>\n",
       "      <th>geo_lat</th>\n",
       "      <th>geo_lng</th>\n",
       "      <th>geo_city</th>\n",
       "      <th>geo_state</th>\n",
       "    </tr>\n",
       "  </thead>\n",
       "  <tbody>\n",
       "    <tr>\n",
       "      <th>459234</th>\n",
       "      <td>23056</td>\n",
       "      <td>-22.916763</td>\n",
       "      <td>-43.615464</td>\n",
       "      <td>rio de janeiro</td>\n",
       "      <td>RJ</td>\n",
       "    </tr>\n",
       "    <tr>\n",
       "      <th>459247</th>\n",
       "      <td>23056</td>\n",
       "      <td>-22.918198</td>\n",
       "      <td>-43.602523</td>\n",
       "      <td>rio de janeiro</td>\n",
       "      <td>RJ</td>\n",
       "    </tr>\n",
       "    <tr>\n",
       "      <th>459589</th>\n",
       "      <td>23056</td>\n",
       "      <td>-22.921083</td>\n",
       "      <td>-43.615580</td>\n",
       "      <td>rio de janeiro</td>\n",
       "      <td>RJ</td>\n",
       "    </tr>\n",
       "    <tr>\n",
       "      <th>459689</th>\n",
       "      <td>23056</td>\n",
       "      <td>-22.916184</td>\n",
       "      <td>-43.614383</td>\n",
       "      <td>rio de janeiro</td>\n",
       "      <td>RJ</td>\n",
       "    </tr>\n",
       "    <tr>\n",
       "      <th>459766</th>\n",
       "      <td>23056</td>\n",
       "      <td>-22.916763</td>\n",
       "      <td>-43.615464</td>\n",
       "      <td>rio de janeiro</td>\n",
       "      <td>RJ</td>\n",
       "    </tr>\n",
       "  </tbody>\n",
       "</table>\n",
       "</div>"
      ],
      "text/plain": [
       "       geo_code    geo_lat    geo_lng        geo_city geo_state\n",
       "459234    23056 -22.916763 -43.615464  rio de janeiro        RJ\n",
       "459247    23056 -22.918198 -43.602523  rio de janeiro        RJ\n",
       "459589    23056 -22.921083 -43.615580  rio de janeiro        RJ\n",
       "459689    23056 -22.916184 -43.614383  rio de janeiro        RJ\n",
       "459766    23056 -22.916763 -43.615464  rio de janeiro        RJ"
      ]
     },
     "execution_count": 26,
     "metadata": {},
     "output_type": "execute_result"
    }
   ],
   "source": [
    "# 23056\n",
    "geolocation_cleaned[geolocation_cleaned.iloc[:,0] == 23056].head()"
   ]
  },
  {
   "cell_type": "code",
   "execution_count": 27,
   "id": "1d0070f1",
   "metadata": {},
   "outputs": [
    {
     "name": "stderr",
     "output_type": "stream",
     "text": [
      "C:\\Users\\myhyu\\AppData\\Local\\Temp\\ipykernel_28716\\3295550851.py:1: UserWarning: Boolean Series key will be reindexed to match DataFrame index.\n",
      "  geolocation_cleaned[geolocation_cleaned.iloc[:,0] == 23056][geolocation_cleaned['geo_state'] != 'RJ']\n"
     ]
    },
    {
     "data": {
      "text/html": [
       "<div>\n",
       "<style scoped>\n",
       "    .dataframe tbody tr th:only-of-type {\n",
       "        vertical-align: middle;\n",
       "    }\n",
       "\n",
       "    .dataframe tbody tr th {\n",
       "        vertical-align: top;\n",
       "    }\n",
       "\n",
       "    .dataframe thead th {\n",
       "        text-align: right;\n",
       "    }\n",
       "</style>\n",
       "<table border=\"1\" class=\"dataframe\">\n",
       "  <thead>\n",
       "    <tr style=\"text-align: right;\">\n",
       "      <th></th>\n",
       "      <th>geo_code</th>\n",
       "      <th>geo_lat</th>\n",
       "      <th>geo_lng</th>\n",
       "      <th>geo_city</th>\n",
       "      <th>geo_state</th>\n",
       "    </tr>\n",
       "  </thead>\n",
       "  <tbody>\n",
       "    <tr>\n",
       "      <th>460406</th>\n",
       "      <td>23056</td>\n",
       "      <td>-22.919164</td>\n",
       "      <td>-43.611097</td>\n",
       "      <td>rio de janeiro</td>\n",
       "      <td>AC</td>\n",
       "    </tr>\n",
       "  </tbody>\n",
       "</table>\n",
       "</div>"
      ],
      "text/plain": [
       "       geo_code    geo_lat    geo_lng        geo_city geo_state\n",
       "460406    23056 -22.919164 -43.611097  rio de janeiro        AC"
      ]
     },
     "execution_count": 27,
     "metadata": {},
     "output_type": "execute_result"
    }
   ],
   "source": [
    "geolocation_cleaned[geolocation_cleaned.iloc[:,0] == 23056][geolocation_cleaned['geo_state'] != 'RJ']"
   ]
  },
  {
   "cell_type": "code",
   "execution_count": 28,
   "id": "e8fb8dcc",
   "metadata": {},
   "outputs": [],
   "source": [
    "geolocation_cleaned.loc[460406,'geo_state'] = 'RJ'"
   ]
  },
  {
   "cell_type": "code",
   "execution_count": 29,
   "id": "7cd061e1",
   "metadata": {
    "scrolled": true
   },
   "outputs": [
    {
     "data": {
      "text/html": [
       "<div>\n",
       "<style scoped>\n",
       "    .dataframe tbody tr th:only-of-type {\n",
       "        vertical-align: middle;\n",
       "    }\n",
       "\n",
       "    .dataframe tbody tr th {\n",
       "        vertical-align: top;\n",
       "    }\n",
       "\n",
       "    .dataframe thead th {\n",
       "        text-align: right;\n",
       "    }\n",
       "</style>\n",
       "<table border=\"1\" class=\"dataframe\">\n",
       "  <thead>\n",
       "    <tr style=\"text-align: right;\">\n",
       "      <th></th>\n",
       "      <th>geo_code</th>\n",
       "      <th>geo_lat</th>\n",
       "      <th>geo_lng</th>\n",
       "      <th>geo_city</th>\n",
       "      <th>geo_state</th>\n",
       "    </tr>\n",
       "  </thead>\n",
       "  <tbody>\n",
       "    <tr>\n",
       "      <th>792362</th>\n",
       "      <td>72915</td>\n",
       "      <td>-15.734161</td>\n",
       "      <td>-48.268761</td>\n",
       "      <td>aguas lindas de goias</td>\n",
       "      <td>GO</td>\n",
       "    </tr>\n",
       "    <tr>\n",
       "      <th>792372</th>\n",
       "      <td>72915</td>\n",
       "      <td>-15.704547</td>\n",
       "      <td>-48.279205</td>\n",
       "      <td>aguas lindas de goias</td>\n",
       "      <td>GO</td>\n",
       "    </tr>\n",
       "    <tr>\n",
       "      <th>792373</th>\n",
       "      <td>72915</td>\n",
       "      <td>-15.715300</td>\n",
       "      <td>-48.263472</td>\n",
       "      <td>aguas lindas de goias</td>\n",
       "      <td>GO</td>\n",
       "    </tr>\n",
       "    <tr>\n",
       "      <th>792374</th>\n",
       "      <td>72915</td>\n",
       "      <td>-15.715300</td>\n",
       "      <td>-48.263472</td>\n",
       "      <td>aguas lindas de goias</td>\n",
       "      <td>GO</td>\n",
       "    </tr>\n",
       "    <tr>\n",
       "      <th>792383</th>\n",
       "      <td>72915</td>\n",
       "      <td>-15.734053</td>\n",
       "      <td>-48.268457</td>\n",
       "      <td>aguas lindas de goias</td>\n",
       "      <td>GO</td>\n",
       "    </tr>\n",
       "    <tr>\n",
       "      <th>792392</th>\n",
       "      <td>72915</td>\n",
       "      <td>-15.715300</td>\n",
       "      <td>-48.263472</td>\n",
       "      <td>aguas lindas de goias</td>\n",
       "      <td>GO</td>\n",
       "    </tr>\n",
       "    <tr>\n",
       "      <th>792394</th>\n",
       "      <td>72915</td>\n",
       "      <td>-12.408760</td>\n",
       "      <td>-46.428287</td>\n",
       "      <td>taguatinga</td>\n",
       "      <td>DF</td>\n",
       "    </tr>\n",
       "    <tr>\n",
       "      <th>792408</th>\n",
       "      <td>72915</td>\n",
       "      <td>-15.734053</td>\n",
       "      <td>-48.268457</td>\n",
       "      <td>aguas lindas de goias</td>\n",
       "      <td>GO</td>\n",
       "    </tr>\n",
       "    <tr>\n",
       "      <th>792412</th>\n",
       "      <td>72915</td>\n",
       "      <td>-15.723643</td>\n",
       "      <td>-48.268492</td>\n",
       "      <td>aguas lindas de goias</td>\n",
       "      <td>GO</td>\n",
       "    </tr>\n",
       "    <tr>\n",
       "      <th>792415</th>\n",
       "      <td>72915</td>\n",
       "      <td>-15.715300</td>\n",
       "      <td>-48.263472</td>\n",
       "      <td>aguas lindas de goias</td>\n",
       "      <td>GO</td>\n",
       "    </tr>\n",
       "  </tbody>\n",
       "</table>\n",
       "</div>"
      ],
      "text/plain": [
       "       geo_code    geo_lat    geo_lng               geo_city geo_state\n",
       "792362    72915 -15.734161 -48.268761  aguas lindas de goias        GO\n",
       "792372    72915 -15.704547 -48.279205  aguas lindas de goias        GO\n",
       "792373    72915 -15.715300 -48.263472  aguas lindas de goias        GO\n",
       "792374    72915 -15.715300 -48.263472  aguas lindas de goias        GO\n",
       "792383    72915 -15.734053 -48.268457  aguas lindas de goias        GO\n",
       "792392    72915 -15.715300 -48.263472  aguas lindas de goias        GO\n",
       "792394    72915 -12.408760 -46.428287             taguatinga        DF\n",
       "792408    72915 -15.734053 -48.268457  aguas lindas de goias        GO\n",
       "792412    72915 -15.723643 -48.268492  aguas lindas de goias        GO\n",
       "792415    72915 -15.715300 -48.263472  aguas lindas de goias        GO"
      ]
     },
     "execution_count": 29,
     "metadata": {},
     "output_type": "execute_result"
    }
   ],
   "source": [
    "# 72915\n",
    "geolocation[geolocation.iloc[:,0] == 72915].head(10) #index num: 792394"
   ]
  },
  {
   "cell_type": "code",
   "execution_count": 30,
   "id": "4f81eda0",
   "metadata": {},
   "outputs": [
    {
     "data": {
      "text/html": [
       "<div>\n",
       "<style scoped>\n",
       "    .dataframe tbody tr th:only-of-type {\n",
       "        vertical-align: middle;\n",
       "    }\n",
       "\n",
       "    .dataframe tbody tr th {\n",
       "        vertical-align: top;\n",
       "    }\n",
       "\n",
       "    .dataframe thead th {\n",
       "        text-align: right;\n",
       "    }\n",
       "</style>\n",
       "<table border=\"1\" class=\"dataframe\">\n",
       "  <thead>\n",
       "    <tr style=\"text-align: right;\">\n",
       "      <th></th>\n",
       "      <th>geo_code</th>\n",
       "      <th>geo_lat</th>\n",
       "      <th>geo_lng</th>\n",
       "      <th>geo_city</th>\n",
       "      <th>geo_state</th>\n",
       "    </tr>\n",
       "  </thead>\n",
       "  <tbody>\n",
       "    <tr>\n",
       "      <th>817225</th>\n",
       "      <td>77320</td>\n",
       "      <td>-12.397256</td>\n",
       "      <td>-46.437391</td>\n",
       "      <td>taguatinga</td>\n",
       "      <td>TO</td>\n",
       "    </tr>\n",
       "    <tr>\n",
       "      <th>817252</th>\n",
       "      <td>77320</td>\n",
       "      <td>-12.403394</td>\n",
       "      <td>-46.438516</td>\n",
       "      <td>taguatinga</td>\n",
       "      <td>TO</td>\n",
       "    </tr>\n",
       "    <tr>\n",
       "      <th>817262</th>\n",
       "      <td>77320</td>\n",
       "      <td>-12.398432</td>\n",
       "      <td>-46.424827</td>\n",
       "      <td>taguatinga</td>\n",
       "      <td>TO</td>\n",
       "    </tr>\n",
       "    <tr>\n",
       "      <th>817282</th>\n",
       "      <td>77320</td>\n",
       "      <td>-12.398432</td>\n",
       "      <td>-46.424827</td>\n",
       "      <td>taguatinga</td>\n",
       "      <td>TO</td>\n",
       "    </tr>\n",
       "    <tr>\n",
       "      <th>817292</th>\n",
       "      <td>77320</td>\n",
       "      <td>-12.406092</td>\n",
       "      <td>-46.434581</td>\n",
       "      <td>taguatinga</td>\n",
       "      <td>TO</td>\n",
       "    </tr>\n",
       "  </tbody>\n",
       "</table>\n",
       "</div>"
      ],
      "text/plain": [
       "       geo_code    geo_lat    geo_lng    geo_city geo_state\n",
       "817225    77320 -12.397256 -46.437391  taguatinga        TO\n",
       "817252    77320 -12.403394 -46.438516  taguatinga        TO\n",
       "817262    77320 -12.398432 -46.424827  taguatinga        TO\n",
       "817282    77320 -12.398432 -46.424827  taguatinga        TO\n",
       "817292    77320 -12.406092 -46.434581  taguatinga        TO"
      ]
     },
     "execution_count": 30,
     "metadata": {},
     "output_type": "execute_result"
    }
   ],
   "source": [
    "geolocation_cleaned.query('geo_city==\"taguatinga\" & geo_state==\"TO\"').head()\n",
    "# 우편번호와 state 오류"
   ]
  },
  {
   "cell_type": "code",
   "execution_count": 31,
   "id": "48251c59",
   "metadata": {},
   "outputs": [],
   "source": [
    "geolocation_cleaned.loc[792394,'geo_state'] = 'TO'\n",
    "geolocation_cleaned.loc[792394,'geo_code'] = '77320'"
   ]
  },
  {
   "cell_type": "code",
   "execution_count": 32,
   "id": "b0647c69",
   "metadata": {
    "scrolled": true
   },
   "outputs": [
    {
     "data": {
      "text/html": [
       "<div>\n",
       "<style scoped>\n",
       "    .dataframe tbody tr th:only-of-type {\n",
       "        vertical-align: middle;\n",
       "    }\n",
       "\n",
       "    .dataframe tbody tr th {\n",
       "        vertical-align: top;\n",
       "    }\n",
       "\n",
       "    .dataframe thead th {\n",
       "        text-align: right;\n",
       "    }\n",
       "</style>\n",
       "<table border=\"1\" class=\"dataframe\">\n",
       "  <thead>\n",
       "    <tr style=\"text-align: right;\">\n",
       "      <th></th>\n",
       "      <th>geo_code</th>\n",
       "      <th>geo_lat</th>\n",
       "      <th>geo_lng</th>\n",
       "      <th>geo_city</th>\n",
       "      <th>geo_state</th>\n",
       "    </tr>\n",
       "  </thead>\n",
       "  <tbody>\n",
       "    <tr>\n",
       "      <th>825876</th>\n",
       "      <td>78557</td>\n",
       "      <td>-11.877565</td>\n",
       "      <td>-55.505078</td>\n",
       "      <td>sinop</td>\n",
       "      <td>MT</td>\n",
       "    </tr>\n",
       "    <tr>\n",
       "      <th>825882</th>\n",
       "      <td>78557</td>\n",
       "      <td>-11.875142</td>\n",
       "      <td>-55.503020</td>\n",
       "      <td>nova brasilandia d'oeste</td>\n",
       "      <td>RO</td>\n",
       "    </tr>\n",
       "    <tr>\n",
       "      <th>825938</th>\n",
       "      <td>78557</td>\n",
       "      <td>-11.842027</td>\n",
       "      <td>-55.488021</td>\n",
       "      <td>sinop</td>\n",
       "      <td>MT</td>\n",
       "    </tr>\n",
       "    <tr>\n",
       "      <th>825975</th>\n",
       "      <td>78557</td>\n",
       "      <td>-11.891049</td>\n",
       "      <td>-55.503381</td>\n",
       "      <td>sinop</td>\n",
       "      <td>MT</td>\n",
       "    </tr>\n",
       "    <tr>\n",
       "      <th>825982</th>\n",
       "      <td>78557</td>\n",
       "      <td>-11.850593</td>\n",
       "      <td>-55.492015</td>\n",
       "      <td>sinop</td>\n",
       "      <td>MT</td>\n",
       "    </tr>\n",
       "    <tr>\n",
       "      <th>825984</th>\n",
       "      <td>78557</td>\n",
       "      <td>-11.831913</td>\n",
       "      <td>-55.487956</td>\n",
       "      <td>sinop</td>\n",
       "      <td>MT</td>\n",
       "    </tr>\n",
       "    <tr>\n",
       "      <th>826015</th>\n",
       "      <td>78557</td>\n",
       "      <td>-11.875191</td>\n",
       "      <td>-55.503304</td>\n",
       "      <td>sinop</td>\n",
       "      <td>MT</td>\n",
       "    </tr>\n",
       "    <tr>\n",
       "      <th>826114</th>\n",
       "      <td>78557</td>\n",
       "      <td>-11.868471</td>\n",
       "      <td>-55.497519</td>\n",
       "      <td>sinop</td>\n",
       "      <td>MT</td>\n",
       "    </tr>\n",
       "    <tr>\n",
       "      <th>826132</th>\n",
       "      <td>78557</td>\n",
       "      <td>-11.882006</td>\n",
       "      <td>-55.504392</td>\n",
       "      <td>sinop</td>\n",
       "      <td>MT</td>\n",
       "    </tr>\n",
       "    <tr>\n",
       "      <th>826134</th>\n",
       "      <td>78557</td>\n",
       "      <td>-11.884003</td>\n",
       "      <td>-55.500682</td>\n",
       "      <td>sinop</td>\n",
       "      <td>MT</td>\n",
       "    </tr>\n",
       "  </tbody>\n",
       "</table>\n",
       "</div>"
      ],
      "text/plain": [
       "       geo_code    geo_lat    geo_lng                  geo_city geo_state\n",
       "825876    78557 -11.877565 -55.505078                     sinop        MT\n",
       "825882    78557 -11.875142 -55.503020  nova brasilandia d'oeste        RO\n",
       "825938    78557 -11.842027 -55.488021                     sinop        MT\n",
       "825975    78557 -11.891049 -55.503381                     sinop        MT\n",
       "825982    78557 -11.850593 -55.492015                     sinop        MT\n",
       "825984    78557 -11.831913 -55.487956                     sinop        MT\n",
       "826015    78557 -11.875191 -55.503304                     sinop        MT\n",
       "826114    78557 -11.868471 -55.497519                     sinop        MT\n",
       "826132    78557 -11.882006 -55.504392                     sinop        MT\n",
       "826134    78557 -11.884003 -55.500682                     sinop        MT"
      ]
     },
     "execution_count": 32,
     "metadata": {},
     "output_type": "execute_result"
    }
   ],
   "source": [
    "# 78557\n",
    "geolocation[geolocation.iloc[:,0] == 78557].head(10)"
   ]
  },
  {
   "cell_type": "code",
   "execution_count": 33,
   "id": "18aff4ee",
   "metadata": {},
   "outputs": [
    {
     "data": {
      "text/html": [
       "<div>\n",
       "<style scoped>\n",
       "    .dataframe tbody tr th:only-of-type {\n",
       "        vertical-align: middle;\n",
       "    }\n",
       "\n",
       "    .dataframe tbody tr th {\n",
       "        vertical-align: top;\n",
       "    }\n",
       "\n",
       "    .dataframe thead th {\n",
       "        text-align: right;\n",
       "    }\n",
       "</style>\n",
       "<table border=\"1\" class=\"dataframe\">\n",
       "  <thead>\n",
       "    <tr style=\"text-align: right;\">\n",
       "      <th></th>\n",
       "      <th>geo_code</th>\n",
       "      <th>geo_lat</th>\n",
       "      <th>geo_lng</th>\n",
       "      <th>geo_city</th>\n",
       "      <th>geo_state</th>\n",
       "    </tr>\n",
       "  </thead>\n",
       "  <tbody>\n",
       "    <tr>\n",
       "      <th>825882</th>\n",
       "      <td>78557</td>\n",
       "      <td>-11.875142</td>\n",
       "      <td>-55.50302</td>\n",
       "      <td>nova brasilandia d'oeste</td>\n",
       "      <td>RO</td>\n",
       "    </tr>\n",
       "  </tbody>\n",
       "</table>\n",
       "</div>"
      ],
      "text/plain": [
       "       geo_code    geo_lat   geo_lng                  geo_city geo_state\n",
       "825882    78557 -11.875142 -55.50302  nova brasilandia d'oeste        RO"
      ]
     },
     "execution_count": 33,
     "metadata": {},
     "output_type": "execute_result"
    }
   ],
   "source": [
    "geolocation[geolocation.iloc[:,0] == 78557].query('geo_state!=\"MT\"')\n",
    "# city와 state 오류"
   ]
  },
  {
   "cell_type": "code",
   "execution_count": 34,
   "id": "d257edda",
   "metadata": {},
   "outputs": [],
   "source": [
    "geolocation_cleaned.loc[825882,'geo_state'] = 'MT'\n",
    "geolocation_cleaned.loc[825882,'geo_city'] = 'sinop'"
   ]
  },
  {
   "cell_type": "code",
   "execution_count": 35,
   "id": "ee8dac24",
   "metadata": {},
   "outputs": [
    {
     "data": {
      "text/html": [
       "<div>\n",
       "<style scoped>\n",
       "    .dataframe tbody tr th:only-of-type {\n",
       "        vertical-align: middle;\n",
       "    }\n",
       "\n",
       "    .dataframe tbody tr th {\n",
       "        vertical-align: top;\n",
       "    }\n",
       "\n",
       "    .dataframe thead th {\n",
       "        text-align: right;\n",
       "    }\n",
       "</style>\n",
       "<table border=\"1\" class=\"dataframe\">\n",
       "  <thead>\n",
       "    <tr style=\"text-align: right;\">\n",
       "      <th></th>\n",
       "      <th>geo_code</th>\n",
       "      <th>geo_lat</th>\n",
       "      <th>geo_lng</th>\n",
       "      <th>geo_city</th>\n",
       "      <th>geo_state</th>\n",
       "    </tr>\n",
       "  </thead>\n",
       "  <tbody>\n",
       "    <tr>\n",
       "      <th>839731</th>\n",
       "      <td>79750</td>\n",
       "      <td>-22.253654</td>\n",
       "      <td>-53.345424</td>\n",
       "      <td>nova andradina</td>\n",
       "      <td>MS</td>\n",
       "    </tr>\n",
       "    <tr>\n",
       "      <th>839737</th>\n",
       "      <td>79750</td>\n",
       "      <td>-22.250279</td>\n",
       "      <td>-53.346363</td>\n",
       "      <td>nova andradina</td>\n",
       "      <td>MS</td>\n",
       "    </tr>\n",
       "    <tr>\n",
       "      <th>839740</th>\n",
       "      <td>79750</td>\n",
       "      <td>-22.245269</td>\n",
       "      <td>-53.355550</td>\n",
       "      <td>nova andradina</td>\n",
       "      <td>MS</td>\n",
       "    </tr>\n",
       "    <tr>\n",
       "      <th>839742</th>\n",
       "      <td>79750</td>\n",
       "      <td>-22.248664</td>\n",
       "      <td>-53.358334</td>\n",
       "      <td>nova andradina</td>\n",
       "      <td>MS</td>\n",
       "    </tr>\n",
       "    <tr>\n",
       "      <th>839747</th>\n",
       "      <td>79750</td>\n",
       "      <td>-22.255547</td>\n",
       "      <td>-53.357645</td>\n",
       "      <td>nova andradina</td>\n",
       "      <td>MS</td>\n",
       "    </tr>\n",
       "  </tbody>\n",
       "</table>\n",
       "</div>"
      ],
      "text/plain": [
       "       geo_code    geo_lat    geo_lng        geo_city geo_state\n",
       "839731    79750 -22.253654 -53.345424  nova andradina        MS\n",
       "839737    79750 -22.250279 -53.346363  nova andradina        MS\n",
       "839740    79750 -22.245269 -53.355550  nova andradina        MS\n",
       "839742    79750 -22.248664 -53.358334  nova andradina        MS\n",
       "839747    79750 -22.255547 -53.357645  nova andradina        MS"
      ]
     },
     "execution_count": 35,
     "metadata": {},
     "output_type": "execute_result"
    }
   ],
   "source": [
    "# 79750\n",
    "geolocation[geolocation.iloc[:,0] == 79750].head()"
   ]
  },
  {
   "cell_type": "code",
   "execution_count": 36,
   "id": "c128b3ea",
   "metadata": {},
   "outputs": [
    {
     "data": {
      "text/html": [
       "<div>\n",
       "<style scoped>\n",
       "    .dataframe tbody tr th:only-of-type {\n",
       "        vertical-align: middle;\n",
       "    }\n",
       "\n",
       "    .dataframe tbody tr th {\n",
       "        vertical-align: top;\n",
       "    }\n",
       "\n",
       "    .dataframe thead th {\n",
       "        text-align: right;\n",
       "    }\n",
       "</style>\n",
       "<table border=\"1\" class=\"dataframe\">\n",
       "  <thead>\n",
       "    <tr style=\"text-align: right;\">\n",
       "      <th></th>\n",
       "      <th>geo_code</th>\n",
       "      <th>geo_lat</th>\n",
       "      <th>geo_lng</th>\n",
       "      <th>geo_city</th>\n",
       "      <th>geo_state</th>\n",
       "    </tr>\n",
       "  </thead>\n",
       "  <tbody>\n",
       "    <tr>\n",
       "      <th>840047</th>\n",
       "      <td>79750</td>\n",
       "      <td>-22.242062</td>\n",
       "      <td>-53.343159</td>\n",
       "      <td>nova andradina</td>\n",
       "      <td>RS</td>\n",
       "    </tr>\n",
       "  </tbody>\n",
       "</table>\n",
       "</div>"
      ],
      "text/plain": [
       "       geo_code    geo_lat    geo_lng        geo_city geo_state\n",
       "840047    79750 -22.242062 -53.343159  nova andradina        RS"
      ]
     },
     "execution_count": 36,
     "metadata": {},
     "output_type": "execute_result"
    }
   ],
   "source": [
    "geolocation[geolocation.iloc[:,0] == 79750].query('geo_state!=\"MS\"')\n",
    "# state 오류"
   ]
  },
  {
   "cell_type": "code",
   "execution_count": 37,
   "id": "6d279018",
   "metadata": {},
   "outputs": [],
   "source": [
    "geolocation_cleaned.loc[840047,'geo_state'] = 'MS'"
   ]
  },
  {
   "cell_type": "code",
   "execution_count": 38,
   "id": "4039c271",
   "metadata": {},
   "outputs": [
    {
     "data": {
      "text/html": [
       "<div>\n",
       "<style scoped>\n",
       "    .dataframe tbody tr th:only-of-type {\n",
       "        vertical-align: middle;\n",
       "    }\n",
       "\n",
       "    .dataframe tbody tr th {\n",
       "        vertical-align: top;\n",
       "    }\n",
       "\n",
       "    .dataframe thead th {\n",
       "        text-align: right;\n",
       "    }\n",
       "</style>\n",
       "<table border=\"1\" class=\"dataframe\">\n",
       "  <thead>\n",
       "    <tr style=\"text-align: right;\">\n",
       "      <th></th>\n",
       "      <th>geo_code</th>\n",
       "      <th>geo_lat</th>\n",
       "      <th>geo_lng</th>\n",
       "      <th>geo_city</th>\n",
       "      <th>geo_state</th>\n",
       "    </tr>\n",
       "  </thead>\n",
       "  <tbody>\n",
       "    <tr>\n",
       "      <th>847184</th>\n",
       "      <td>80630</td>\n",
       "      <td>-25.471721</td>\n",
       "      <td>-49.280244</td>\n",
       "      <td>curitiba</td>\n",
       "      <td>PR</td>\n",
       "    </tr>\n",
       "    <tr>\n",
       "      <th>847187</th>\n",
       "      <td>80630</td>\n",
       "      <td>-25.468948</td>\n",
       "      <td>-49.271134</td>\n",
       "      <td>curitiba</td>\n",
       "      <td>PR</td>\n",
       "    </tr>\n",
       "    <tr>\n",
       "      <th>847190</th>\n",
       "      <td>80630</td>\n",
       "      <td>-25.466005</td>\n",
       "      <td>-49.273331</td>\n",
       "      <td>curitiba</td>\n",
       "      <td>PR</td>\n",
       "    </tr>\n",
       "    <tr>\n",
       "      <th>847194</th>\n",
       "      <td>80630</td>\n",
       "      <td>-25.471191</td>\n",
       "      <td>-49.278918</td>\n",
       "      <td>curitiba</td>\n",
       "      <td>PR</td>\n",
       "    </tr>\n",
       "    <tr>\n",
       "      <th>847196</th>\n",
       "      <td>80630</td>\n",
       "      <td>-25.461689</td>\n",
       "      <td>-49.272160</td>\n",
       "      <td>curitiba</td>\n",
       "      <td>PR</td>\n",
       "    </tr>\n",
       "  </tbody>\n",
       "</table>\n",
       "</div>"
      ],
      "text/plain": [
       "       geo_code    geo_lat    geo_lng  geo_city geo_state\n",
       "847184    80630 -25.471721 -49.280244  curitiba        PR\n",
       "847187    80630 -25.468948 -49.271134  curitiba        PR\n",
       "847190    80630 -25.466005 -49.273331  curitiba        PR\n",
       "847194    80630 -25.471191 -49.278918  curitiba        PR\n",
       "847196    80630 -25.461689 -49.272160  curitiba        PR"
      ]
     },
     "execution_count": 38,
     "metadata": {},
     "output_type": "execute_result"
    }
   ],
   "source": [
    "# 80630\n",
    "geolocation[geolocation.iloc[:,0] == 80630].head()"
   ]
  },
  {
   "cell_type": "code",
   "execution_count": 39,
   "id": "9f55d3c6",
   "metadata": {},
   "outputs": [
    {
     "data": {
      "text/html": [
       "<div>\n",
       "<style scoped>\n",
       "    .dataframe tbody tr th:only-of-type {\n",
       "        vertical-align: middle;\n",
       "    }\n",
       "\n",
       "    .dataframe tbody tr th {\n",
       "        vertical-align: top;\n",
       "    }\n",
       "\n",
       "    .dataframe thead th {\n",
       "        text-align: right;\n",
       "    }\n",
       "</style>\n",
       "<table border=\"1\" class=\"dataframe\">\n",
       "  <thead>\n",
       "    <tr style=\"text-align: right;\">\n",
       "      <th></th>\n",
       "      <th>geo_code</th>\n",
       "      <th>geo_lat</th>\n",
       "      <th>geo_lng</th>\n",
       "      <th>geo_city</th>\n",
       "      <th>geo_state</th>\n",
       "    </tr>\n",
       "  </thead>\n",
       "  <tbody>\n",
       "    <tr>\n",
       "      <th>847700</th>\n",
       "      <td>80630</td>\n",
       "      <td>-26.757371</td>\n",
       "      <td>-48.675738</td>\n",
       "      <td>balneario de picarras</td>\n",
       "      <td>SC</td>\n",
       "    </tr>\n",
       "  </tbody>\n",
       "</table>\n",
       "</div>"
      ],
      "text/plain": [
       "       geo_code    geo_lat    geo_lng               geo_city geo_state\n",
       "847700    80630 -26.757371 -48.675738  balneario de picarras        SC"
      ]
     },
     "execution_count": 39,
     "metadata": {},
     "output_type": "execute_result"
    }
   ],
   "source": [
    "geolocation[geolocation.iloc[:,0] == 80630].query('geo_state!=\"PR\"')\n",
    "# city, 우편번호 오류"
   ]
  },
  {
   "cell_type": "code",
   "execution_count": 40,
   "id": "5c7ec174",
   "metadata": {},
   "outputs": [
    {
     "data": {
      "text/html": [
       "<div>\n",
       "<style scoped>\n",
       "    .dataframe tbody tr th:only-of-type {\n",
       "        vertical-align: middle;\n",
       "    }\n",
       "\n",
       "    .dataframe tbody tr th {\n",
       "        vertical-align: top;\n",
       "    }\n",
       "\n",
       "    .dataframe thead th {\n",
       "        text-align: right;\n",
       "    }\n",
       "</style>\n",
       "<table border=\"1\" class=\"dataframe\">\n",
       "  <thead>\n",
       "    <tr style=\"text-align: right;\">\n",
       "      <th></th>\n",
       "      <th>geo_code</th>\n",
       "      <th>geo_lat</th>\n",
       "      <th>geo_lng</th>\n",
       "      <th>geo_city</th>\n",
       "      <th>geo_state</th>\n",
       "    </tr>\n",
       "  </thead>\n",
       "  <tbody>\n",
       "    <tr>\n",
       "      <th>909980</th>\n",
       "      <td>88380</td>\n",
       "      <td>-26.777352</td>\n",
       "      <td>-48.679734</td>\n",
       "      <td>picarras</td>\n",
       "      <td>SC</td>\n",
       "    </tr>\n",
       "    <tr>\n",
       "      <th>910415</th>\n",
       "      <td>88380</td>\n",
       "      <td>-26.772916</td>\n",
       "      <td>-48.673632</td>\n",
       "      <td>picarras</td>\n",
       "      <td>SC</td>\n",
       "    </tr>\n",
       "    <tr>\n",
       "      <th>910851</th>\n",
       "      <td>88380</td>\n",
       "      <td>-26.770984</td>\n",
       "      <td>-48.681967</td>\n",
       "      <td>picarras</td>\n",
       "      <td>SC</td>\n",
       "    </tr>\n",
       "    <tr>\n",
       "      <th>911130</th>\n",
       "      <td>88380</td>\n",
       "      <td>-26.734345</td>\n",
       "      <td>-48.682569</td>\n",
       "      <td>picarras</td>\n",
       "      <td>SC</td>\n",
       "    </tr>\n",
       "    <tr>\n",
       "      <th>911536</th>\n",
       "      <td>88380</td>\n",
       "      <td>-26.768525</td>\n",
       "      <td>-48.670289</td>\n",
       "      <td>picarras</td>\n",
       "      <td>SC</td>\n",
       "    </tr>\n",
       "  </tbody>\n",
       "</table>\n",
       "</div>"
      ],
      "text/plain": [
       "       geo_code    geo_lat    geo_lng  geo_city geo_state\n",
       "909980    88380 -26.777352 -48.679734  picarras        SC\n",
       "910415    88380 -26.772916 -48.673632  picarras        SC\n",
       "910851    88380 -26.770984 -48.681967  picarras        SC\n",
       "911130    88380 -26.734345 -48.682569  picarras        SC\n",
       "911536    88380 -26.768525 -48.670289  picarras        SC"
      ]
     },
     "execution_count": 40,
     "metadata": {},
     "output_type": "execute_result"
    }
   ],
   "source": [
    "geolocation.query('geo_city==\"picarras\"').head()"
   ]
  },
  {
   "cell_type": "code",
   "execution_count": 41,
   "id": "45c16996",
   "metadata": {},
   "outputs": [],
   "source": [
    "geolocation_cleaned.loc[847700,'geo_city'] = 'picarras'\n",
    "geolocation_cleaned.loc[847700,'geo_code'] = '88380'"
   ]
  },
  {
   "cell_type": "code",
   "execution_count": 42,
   "id": "15305086",
   "metadata": {},
   "outputs": [
    {
     "name": "stderr",
     "output_type": "stream",
     "text": [
      "C:\\Users\\myhyu\\AppData\\Local\\Temp\\ipykernel_28716\\2602355379.py:2: DeprecationWarning: DataFrameGroupBy.apply operated on the grouping columns. This behavior is deprecated, and in a future version of pandas the grouping columns will be excluded from the operation. Either pass `include_groups=False` to exclude the groupings or explicitly select the grouping columns after groupby to silence this warning.\n",
      "  geolocation_cleaned.groupby('geo_code').apply(check_different_states)\n"
     ]
    },
    {
     "data": {
      "text/html": [
       "<div>\n",
       "<style scoped>\n",
       "    .dataframe tbody tr th:only-of-type {\n",
       "        vertical-align: middle;\n",
       "    }\n",
       "\n",
       "    .dataframe tbody tr th {\n",
       "        vertical-align: top;\n",
       "    }\n",
       "\n",
       "    .dataframe thead th {\n",
       "        text-align: right;\n",
       "    }\n",
       "</style>\n",
       "<table border=\"1\" class=\"dataframe\">\n",
       "  <thead>\n",
       "    <tr style=\"text-align: right;\">\n",
       "      <th></th>\n",
       "      <th></th>\n",
       "    </tr>\n",
       "    <tr>\n",
       "      <th>geo_code</th>\n",
       "      <th></th>\n",
       "    </tr>\n",
       "  </thead>\n",
       "  <tbody>\n",
       "  </tbody>\n",
       "</table>\n",
       "</div>"
      ],
      "text/plain": [
       "Empty DataFrame\n",
       "Columns: []\n",
       "Index: []"
      ]
     },
     "execution_count": 42,
     "metadata": {},
     "output_type": "execute_result"
    }
   ],
   "source": [
    "# 오류가 모두 수정되었는지 확인\n",
    "geolocation_cleaned.groupby('geo_code').apply(check_different_states)"
   ]
  },
  {
   "cell_type": "markdown",
   "id": "e6fc4147",
   "metadata": {},
   "source": [
    "---"
   ]
  },
  {
   "cell_type": "markdown",
   "id": "f5a48281",
   "metadata": {},
   "source": [
    "### 1.2.3 우편번호의 좌표 중복 해결"
   ]
  },
  {
   "cell_type": "code",
   "execution_count": 47,
   "id": "ba973ac5",
   "metadata": {},
   "outputs": [],
   "source": [
    "pd.set_option('display.max_rows', 10) # 모든 행 보여주기\n",
    "pd.set_option('display.max_columns', None) # 모든 열 보여주기"
   ]
  },
  {
   "cell_type": "code",
   "execution_count": 48,
   "id": "17a3804d",
   "metadata": {},
   "outputs": [
    {
     "data": {
      "text/html": [
       "<div>\n",
       "<style scoped>\n",
       "    .dataframe tbody tr th:only-of-type {\n",
       "        vertical-align: middle;\n",
       "    }\n",
       "\n",
       "    .dataframe tbody tr th {\n",
       "        vertical-align: top;\n",
       "    }\n",
       "\n",
       "    .dataframe thead th {\n",
       "        text-align: right;\n",
       "    }\n",
       "</style>\n",
       "<table border=\"1\" class=\"dataframe\">\n",
       "  <thead>\n",
       "    <tr style=\"text-align: right;\">\n",
       "      <th></th>\n",
       "      <th>geo_code</th>\n",
       "      <th>geo_lat</th>\n",
       "      <th>geo_lng</th>\n",
       "      <th>geo_city</th>\n",
       "      <th>geo_state</th>\n",
       "    </tr>\n",
       "  </thead>\n",
       "  <tbody>\n",
       "    <tr>\n",
       "      <th>99</th>\n",
       "      <td>1001</td>\n",
       "      <td>-23.549292</td>\n",
       "      <td>-46.633559</td>\n",
       "      <td>sao paulo</td>\n",
       "      <td>SP</td>\n",
       "    </tr>\n",
       "    <tr>\n",
       "      <th>206</th>\n",
       "      <td>1001</td>\n",
       "      <td>-23.550498</td>\n",
       "      <td>-46.634338</td>\n",
       "      <td>sao paulo</td>\n",
       "      <td>SP</td>\n",
       "    </tr>\n",
       "    <tr>\n",
       "      <th>235</th>\n",
       "      <td>1001</td>\n",
       "      <td>-23.550642</td>\n",
       "      <td>-46.634410</td>\n",
       "      <td>sao paulo</td>\n",
       "      <td>SP</td>\n",
       "    </tr>\n",
       "    <tr>\n",
       "      <th>299</th>\n",
       "      <td>1001</td>\n",
       "      <td>-23.549698</td>\n",
       "      <td>-46.633909</td>\n",
       "      <td>sao paulo</td>\n",
       "      <td>SP</td>\n",
       "    </tr>\n",
       "    <tr>\n",
       "      <th>326</th>\n",
       "      <td>1001</td>\n",
       "      <td>-23.551427</td>\n",
       "      <td>-46.634074</td>\n",
       "      <td>sao paulo</td>\n",
       "      <td>SP</td>\n",
       "    </tr>\n",
       "    <tr>\n",
       "      <th>...</th>\n",
       "      <td>...</td>\n",
       "      <td>...</td>\n",
       "      <td>...</td>\n",
       "      <td>...</td>\n",
       "      <td>...</td>\n",
       "    </tr>\n",
       "    <tr>\n",
       "      <th>1182</th>\n",
       "      <td>1001</td>\n",
       "      <td>-23.549779</td>\n",
       "      <td>-46.633957</td>\n",
       "      <td>sao paulo</td>\n",
       "      <td>SP</td>\n",
       "    </tr>\n",
       "    <tr>\n",
       "      <th>1246</th>\n",
       "      <td>1001</td>\n",
       "      <td>-23.549292</td>\n",
       "      <td>-46.633559</td>\n",
       "      <td>sao paulo</td>\n",
       "      <td>SP</td>\n",
       "    </tr>\n",
       "    <tr>\n",
       "      <th>1351</th>\n",
       "      <td>1001</td>\n",
       "      <td>-23.549951</td>\n",
       "      <td>-46.634027</td>\n",
       "      <td>sao paulo</td>\n",
       "      <td>SP</td>\n",
       "    </tr>\n",
       "    <tr>\n",
       "      <th>1384</th>\n",
       "      <td>1001</td>\n",
       "      <td>-23.549292</td>\n",
       "      <td>-46.633559</td>\n",
       "      <td>sao paulo</td>\n",
       "      <td>SP</td>\n",
       "    </tr>\n",
       "    <tr>\n",
       "      <th>1435</th>\n",
       "      <td>1001</td>\n",
       "      <td>-23.549292</td>\n",
       "      <td>-46.633559</td>\n",
       "      <td>sao paulo</td>\n",
       "      <td>SP</td>\n",
       "    </tr>\n",
       "  </tbody>\n",
       "</table>\n",
       "<p>26 rows × 5 columns</p>\n",
       "</div>"
      ],
      "text/plain": [
       "     geo_code    geo_lat    geo_lng   geo_city geo_state\n",
       "99       1001 -23.549292 -46.633559  sao paulo        SP\n",
       "206      1001 -23.550498 -46.634338  sao paulo        SP\n",
       "235      1001 -23.550642 -46.634410  sao paulo        SP\n",
       "299      1001 -23.549698 -46.633909  sao paulo        SP\n",
       "326      1001 -23.551427 -46.634074  sao paulo        SP\n",
       "...       ...        ...        ...        ...       ...\n",
       "1182     1001 -23.549779 -46.633957  sao paulo        SP\n",
       "1246     1001 -23.549292 -46.633559  sao paulo        SP\n",
       "1351     1001 -23.549951 -46.634027  sao paulo        SP\n",
       "1384     1001 -23.549292 -46.633559  sao paulo        SP\n",
       "1435     1001 -23.549292 -46.633559  sao paulo        SP\n",
       "\n",
       "[26 rows x 5 columns]"
      ]
     },
     "execution_count": 48,
     "metadata": {},
     "output_type": "execute_result"
    }
   ],
   "source": [
    "geolocation_cleaned.query('geo_code==1001')"
   ]
  },
  {
   "cell_type": "code",
   "execution_count": 49,
   "id": "61aeff19",
   "metadata": {},
   "outputs": [
    {
     "data": {
      "text/html": [
       "<div>\n",
       "<style scoped>\n",
       "    .dataframe tbody tr th:only-of-type {\n",
       "        vertical-align: middle;\n",
       "    }\n",
       "\n",
       "    .dataframe tbody tr th {\n",
       "        vertical-align: top;\n",
       "    }\n",
       "\n",
       "    .dataframe thead th {\n",
       "        text-align: right;\n",
       "    }\n",
       "</style>\n",
       "<table border=\"1\" class=\"dataframe\">\n",
       "  <thead>\n",
       "    <tr style=\"text-align: right;\">\n",
       "      <th></th>\n",
       "      <th>geo_code</th>\n",
       "      <th>geo_lat</th>\n",
       "      <th>geo_lng</th>\n",
       "      <th>geo_state</th>\n",
       "      <th>geo_city</th>\n",
       "    </tr>\n",
       "  </thead>\n",
       "  <tbody>\n",
       "    <tr>\n",
       "      <th>0</th>\n",
       "      <td>1001</td>\n",
       "      <td>-23.550190</td>\n",
       "      <td>-46.634024</td>\n",
       "      <td>SP</td>\n",
       "      <td>sao paulo</td>\n",
       "    </tr>\n",
       "    <tr>\n",
       "      <th>1</th>\n",
       "      <td>1002</td>\n",
       "      <td>-23.548146</td>\n",
       "      <td>-46.634979</td>\n",
       "      <td>SP</td>\n",
       "      <td>sao paulo</td>\n",
       "    </tr>\n",
       "    <tr>\n",
       "      <th>2</th>\n",
       "      <td>1003</td>\n",
       "      <td>-23.548994</td>\n",
       "      <td>-46.635731</td>\n",
       "      <td>SP</td>\n",
       "      <td>sao paulo</td>\n",
       "    </tr>\n",
       "    <tr>\n",
       "      <th>3</th>\n",
       "      <td>1004</td>\n",
       "      <td>-23.549799</td>\n",
       "      <td>-46.634757</td>\n",
       "      <td>SP</td>\n",
       "      <td>sao paulo</td>\n",
       "    </tr>\n",
       "    <tr>\n",
       "      <th>4</th>\n",
       "      <td>1005</td>\n",
       "      <td>-23.549456</td>\n",
       "      <td>-46.636733</td>\n",
       "      <td>SP</td>\n",
       "      <td>sao paulo</td>\n",
       "    </tr>\n",
       "  </tbody>\n",
       "</table>\n",
       "</div>"
      ],
      "text/plain": [
       "  geo_code    geo_lat    geo_lng geo_state   geo_city\n",
       "0     1001 -23.550190 -46.634024        SP  sao paulo\n",
       "1     1002 -23.548146 -46.634979        SP  sao paulo\n",
       "2     1003 -23.548994 -46.635731        SP  sao paulo\n",
       "3     1004 -23.549799 -46.634757        SP  sao paulo\n",
       "4     1005 -23.549456 -46.636733        SP  sao paulo"
      ]
     },
     "execution_count": 49,
     "metadata": {},
     "output_type": "execute_result"
    }
   ],
   "source": [
    "# 우편번호별로 위도와 경도의 평균값을 계산\n",
    "geolocation_avg = geolocation_cleaned.groupby('geo_code').agg({\n",
    "    'geo_lat': 'mean',  # 위도의 평균값\n",
    "    'geo_lng': 'mean',   # 경도의 평균값\n",
    "    'geo_state' : 'first',\n",
    "    'geo_city' : 'first'   \n",
    "}).reset_index()\n",
    "\n",
    "# 중복 제거된 geolocation\n",
    "geolocation_avg.head()"
   ]
  },
  {
   "cell_type": "code",
   "execution_count": 43,
   "id": "698e41e0",
   "metadata": {},
   "outputs": [
    {
     "name": "stdout",
     "output_type": "stream",
     "text": [
      "<class 'pandas.core.frame.DataFrame'>\n",
      "RangeIndex: 19017 entries, 0 to 19016\n",
      "Data columns (total 5 columns):\n",
      " #   Column     Non-Null Count  Dtype  \n",
      "---  ------     --------------  -----  \n",
      " 0   geo_code   19017 non-null  object \n",
      " 1   geo_lat    19017 non-null  float64\n",
      " 2   geo_lng    19017 non-null  float64\n",
      " 3   geo_state  19017 non-null  object \n",
      " 4   geo_city   19017 non-null  object \n",
      "dtypes: float64(2), object(3)\n",
      "memory usage: 743.0+ KB\n"
     ]
    }
   ],
   "source": [
    "geolocation_avg.info()"
   ]
  },
  {
   "cell_type": "code",
   "execution_count": 50,
   "id": "8d99f68d",
   "metadata": {},
   "outputs": [
    {
     "data": {
      "text/plain": [
       "0"
      ]
     },
     "execution_count": 50,
     "metadata": {},
     "output_type": "execute_result"
    }
   ],
   "source": [
    "geolocation_avg['geo_code'].duplicated().sum()\n",
    "# 우편번호의 좌표 중복문제해결"
   ]
  },
  {
   "cell_type": "code",
   "execution_count": 51,
   "id": "7d9aebba",
   "metadata": {},
   "outputs": [
    {
     "data": {
      "text/html": [
       "<div>\n",
       "<style scoped>\n",
       "    .dataframe tbody tr th:only-of-type {\n",
       "        vertical-align: middle;\n",
       "    }\n",
       "\n",
       "    .dataframe tbody tr th {\n",
       "        vertical-align: top;\n",
       "    }\n",
       "\n",
       "    .dataframe thead th {\n",
       "        text-align: right;\n",
       "    }\n",
       "</style>\n",
       "<table border=\"1\" class=\"dataframe\">\n",
       "  <thead>\n",
       "    <tr style=\"text-align: right;\">\n",
       "      <th></th>\n",
       "      <th>geolocation_zip_code_prefix</th>\n",
       "      <th>geolocation_lat</th>\n",
       "      <th>geolocation_lng</th>\n",
       "      <th>geolocation_state</th>\n",
       "      <th>geolocation_city</th>\n",
       "    </tr>\n",
       "  </thead>\n",
       "  <tbody>\n",
       "    <tr>\n",
       "      <th>0</th>\n",
       "      <td>1001</td>\n",
       "      <td>-23.550190</td>\n",
       "      <td>-46.634024</td>\n",
       "      <td>SP</td>\n",
       "      <td>sao paulo</td>\n",
       "    </tr>\n",
       "    <tr>\n",
       "      <th>1</th>\n",
       "      <td>1002</td>\n",
       "      <td>-23.548146</td>\n",
       "      <td>-46.634979</td>\n",
       "      <td>SP</td>\n",
       "      <td>sao paulo</td>\n",
       "    </tr>\n",
       "    <tr>\n",
       "      <th>2</th>\n",
       "      <td>1003</td>\n",
       "      <td>-23.548994</td>\n",
       "      <td>-46.635731</td>\n",
       "      <td>SP</td>\n",
       "      <td>sao paulo</td>\n",
       "    </tr>\n",
       "    <tr>\n",
       "      <th>3</th>\n",
       "      <td>1004</td>\n",
       "      <td>-23.549799</td>\n",
       "      <td>-46.634757</td>\n",
       "      <td>SP</td>\n",
       "      <td>sao paulo</td>\n",
       "    </tr>\n",
       "    <tr>\n",
       "      <th>4</th>\n",
       "      <td>1005</td>\n",
       "      <td>-23.549456</td>\n",
       "      <td>-46.636733</td>\n",
       "      <td>SP</td>\n",
       "      <td>sao paulo</td>\n",
       "    </tr>\n",
       "  </tbody>\n",
       "</table>\n",
       "</div>"
      ],
      "text/plain": [
       "  geolocation_zip_code_prefix  geolocation_lat  geolocation_lng  \\\n",
       "0                        1001       -23.550190       -46.634024   \n",
       "1                        1002       -23.548146       -46.634979   \n",
       "2                        1003       -23.548994       -46.635731   \n",
       "3                        1004       -23.549799       -46.634757   \n",
       "4                        1005       -23.549456       -46.636733   \n",
       "\n",
       "  geolocation_state geolocation_city  \n",
       "0                SP        sao paulo  \n",
       "1                SP        sao paulo  \n",
       "2                SP        sao paulo  \n",
       "3                SP        sao paulo  \n",
       "4                SP        sao paulo  "
      ]
     },
     "execution_count": 51,
     "metadata": {},
     "output_type": "execute_result"
    }
   ],
   "source": [
    "geolocation_avg.columns = ['geolocation_zip_code_prefix','geolocation_lat','geolocation_lng','geolocation_state','geolocation_city']\n",
    "geolocation_avg.head()"
   ]
  },
  {
   "cell_type": "markdown",
   "id": "30fe0dd7",
   "metadata": {},
   "source": [
    "---\n",
    "## 1.3 orders 전처리"
   ]
  },
  {
   "cell_type": "code",
   "execution_count": 52,
   "id": "1c41e9af",
   "metadata": {},
   "outputs": [
    {
     "name": "stdout",
     "output_type": "stream",
     "text": [
      "<class 'pandas.core.frame.DataFrame'>\n",
      "RangeIndex: 99441 entries, 0 to 99440\n",
      "Data columns (total 8 columns):\n",
      " #   Column                         Non-Null Count  Dtype \n",
      "---  ------                         --------------  ----- \n",
      " 0   order_id                       99441 non-null  object\n",
      " 1   customer_id                    99441 non-null  object\n",
      " 2   order_status                   99441 non-null  object\n",
      " 3   order_purchase_timestamp       99441 non-null  object\n",
      " 4   order_approved_at              99281 non-null  object\n",
      " 5   order_delivered_carrier_date   97658 non-null  object\n",
      " 6   order_delivered_customer_date  96476 non-null  object\n",
      " 7   order_estimated_delivery_date  99441 non-null  object\n",
      "dtypes: object(8)\n",
      "memory usage: 6.1+ MB\n"
     ]
    }
   ],
   "source": [
    "orders.info()"
   ]
  },
  {
   "cell_type": "code",
   "execution_count": 53,
   "id": "28a160b6",
   "metadata": {},
   "outputs": [
    {
     "data": {
      "text/plain": [
       "array(['delivered', 'invoiced', 'shipped', 'processing', 'created',\n",
       "       'approved'], dtype=object)"
      ]
     },
     "execution_count": 53,
     "metadata": {},
     "output_type": "execute_result"
    }
   ],
   "source": [
    "orders_cleaned = orders[(orders['order_status'] != 'canceled') & (orders['order_status'] != 'unavailable')]\n",
    "orders_cleaned['order_status'].unique()"
   ]
  },
  {
   "cell_type": "code",
   "execution_count": 54,
   "id": "c3e05a4d",
   "metadata": {
    "scrolled": true
   },
   "outputs": [
    {
     "name": "stdout",
     "output_type": "stream",
     "text": [
      "<class 'pandas.core.frame.DataFrame'>\n",
      "Index: 98207 entries, 0 to 99440\n",
      "Data columns (total 8 columns):\n",
      " #   Column                         Non-Null Count  Dtype \n",
      "---  ------                         --------------  ----- \n",
      " 0   order_id                       98207 non-null  object\n",
      " 1   customer_id                    98207 non-null  object\n",
      " 2   order_status                   98207 non-null  object\n",
      " 3   order_purchase_timestamp       98207 non-null  object\n",
      " 4   order_approved_at              98188 non-null  object\n",
      " 5   order_delivered_carrier_date   97583 non-null  object\n",
      " 6   order_delivered_customer_date  96470 non-null  object\n",
      " 7   order_estimated_delivery_date  98207 non-null  object\n",
      "dtypes: object(8)\n",
      "memory usage: 6.7+ MB\n"
     ]
    }
   ],
   "source": [
    "orders_cleaned.info()\n",
    "# 98207"
   ]
  },
  {
   "cell_type": "markdown",
   "id": "475853d3",
   "metadata": {},
   "source": [
    "---\n",
    "## 1.4 customers"
   ]
  },
  {
   "cell_type": "code",
   "execution_count": 55,
   "id": "d16aa89c",
   "metadata": {},
   "outputs": [
    {
     "name": "stdout",
     "output_type": "stream",
     "text": [
      "<class 'pandas.core.frame.DataFrame'>\n",
      "RangeIndex: 99441 entries, 0 to 99440\n",
      "Data columns (total 5 columns):\n",
      " #   Column                    Non-Null Count  Dtype \n",
      "---  ------                    --------------  ----- \n",
      " 0   customer_id               99441 non-null  object\n",
      " 1   customer_unique_id        99441 non-null  object\n",
      " 2   customer_zip_code_prefix  99441 non-null  int64 \n",
      " 3   customer_city             99441 non-null  object\n",
      " 4   customer_state            99441 non-null  object\n",
      "dtypes: int64(1), object(4)\n",
      "memory usage: 3.8+ MB\n"
     ]
    }
   ],
   "source": [
    "customers.info()"
   ]
  },
  {
   "cell_type": "code",
   "execution_count": 56,
   "id": "cc4561f9",
   "metadata": {},
   "outputs": [
    {
     "data": {
      "text/html": [
       "<div>\n",
       "<style scoped>\n",
       "    .dataframe tbody tr th:only-of-type {\n",
       "        vertical-align: middle;\n",
       "    }\n",
       "\n",
       "    .dataframe tbody tr th {\n",
       "        vertical-align: top;\n",
       "    }\n",
       "\n",
       "    .dataframe thead th {\n",
       "        text-align: right;\n",
       "    }\n",
       "</style>\n",
       "<table border=\"1\" class=\"dataframe\">\n",
       "  <thead>\n",
       "    <tr style=\"text-align: right;\">\n",
       "      <th></th>\n",
       "      <th>customer_id</th>\n",
       "      <th>customer_unique_id</th>\n",
       "      <th>customer_zip_code_prefix</th>\n",
       "      <th>customer_city</th>\n",
       "      <th>customer_state</th>\n",
       "    </tr>\n",
       "  </thead>\n",
       "  <tbody>\n",
       "    <tr>\n",
       "      <th>0</th>\n",
       "      <td>06b8999e2fba1a1fbc88172c00ba8bc7</td>\n",
       "      <td>861eff4711a542e4b93843c6dd7febb0</td>\n",
       "      <td>14409</td>\n",
       "      <td>franca</td>\n",
       "      <td>SP</td>\n",
       "    </tr>\n",
       "    <tr>\n",
       "      <th>1</th>\n",
       "      <td>18955e83d337fd6b2def6b18a428ac77</td>\n",
       "      <td>290c77bc529b7ac935b93aa66c333dc3</td>\n",
       "      <td>9790</td>\n",
       "      <td>sao bernardo do campo</td>\n",
       "      <td>SP</td>\n",
       "    </tr>\n",
       "    <tr>\n",
       "      <th>2</th>\n",
       "      <td>4e7b3e00288586ebd08712fdd0374a03</td>\n",
       "      <td>060e732b5b29e8181a18229c7b0b2b5e</td>\n",
       "      <td>1151</td>\n",
       "      <td>sao paulo</td>\n",
       "      <td>SP</td>\n",
       "    </tr>\n",
       "    <tr>\n",
       "      <th>3</th>\n",
       "      <td>b2b6027bc5c5109e529d4dc6358b12c3</td>\n",
       "      <td>259dac757896d24d7702b9acbbff3f3c</td>\n",
       "      <td>8775</td>\n",
       "      <td>mogi das cruzes</td>\n",
       "      <td>SP</td>\n",
       "    </tr>\n",
       "    <tr>\n",
       "      <th>4</th>\n",
       "      <td>4f2d8ab171c80ec8364f7c12e35b23ad</td>\n",
       "      <td>345ecd01c38d18a9036ed96c73b8d066</td>\n",
       "      <td>13056</td>\n",
       "      <td>campinas</td>\n",
       "      <td>SP</td>\n",
       "    </tr>\n",
       "  </tbody>\n",
       "</table>\n",
       "</div>"
      ],
      "text/plain": [
       "                        customer_id                customer_unique_id  \\\n",
       "0  06b8999e2fba1a1fbc88172c00ba8bc7  861eff4711a542e4b93843c6dd7febb0   \n",
       "1  18955e83d337fd6b2def6b18a428ac77  290c77bc529b7ac935b93aa66c333dc3   \n",
       "2  4e7b3e00288586ebd08712fdd0374a03  060e732b5b29e8181a18229c7b0b2b5e   \n",
       "3  b2b6027bc5c5109e529d4dc6358b12c3  259dac757896d24d7702b9acbbff3f3c   \n",
       "4  4f2d8ab171c80ec8364f7c12e35b23ad  345ecd01c38d18a9036ed96c73b8d066   \n",
       "\n",
       "   customer_zip_code_prefix          customer_city customer_state  \n",
       "0                     14409                 franca             SP  \n",
       "1                      9790  sao bernardo do campo             SP  \n",
       "2                      1151              sao paulo             SP  \n",
       "3                      8775        mogi das cruzes             SP  \n",
       "4                     13056               campinas             SP  "
      ]
     },
     "execution_count": 56,
     "metadata": {},
     "output_type": "execute_result"
    }
   ],
   "source": [
    "customers.head()"
   ]
  },
  {
   "cell_type": "code",
   "execution_count": 57,
   "id": "7a19c2b5",
   "metadata": {},
   "outputs": [
    {
     "data": {
      "text/plain": [
       "array(['franca', 'sao bernardo do campo', 'sao paulo', ...,\n",
       "       'monte bonito', 'sao rafael', 'eugenio de castro'], dtype=object)"
      ]
     },
     "execution_count": 57,
     "metadata": {},
     "output_type": "execute_result"
    }
   ],
   "source": [
    "customers['customer_city'].unique()"
   ]
  },
  {
   "cell_type": "code",
   "execution_count": 59,
   "id": "a8c7e982",
   "metadata": {},
   "outputs": [
    {
     "data": {
      "text/plain": [
       "('unique한 도시명 counts :', 4119)"
      ]
     },
     "execution_count": 59,
     "metadata": {},
     "output_type": "execute_result"
    }
   ],
   "source": [
    "'unique한 도시명 counts :',customers['customer_city'].nunique()"
   ]
  },
  {
   "cell_type": "code",
   "execution_count": 60,
   "id": "df04efd4",
   "metadata": {},
   "outputs": [
    {
     "name": "stdout",
     "output_type": "stream",
     "text": [
      "unique한 도시명 counts : 4119\n"
     ]
    }
   ],
   "source": [
    "import unidecode\n",
    "\n",
    "# customer_city 열의 악센트 제거\n",
    "customers['customer_city'] = customers['customer_city'].apply(lambda x: unidecode.unidecode(x))\n",
    "print('unique한 도시명 counts :',customers['customer_city'].nunique())\n",
    "\n",
    "# 도시이름이 악센트 붙은경우 없음"
   ]
  },
  {
   "cell_type": "markdown",
   "id": "88450493",
   "metadata": {},
   "source": [
    "---\n",
    "## 1.5 Merging DataFrame"
   ]
  },
  {
   "cell_type": "code",
   "execution_count": 61,
   "id": "45e8553c",
   "metadata": {
    "scrolled": true
   },
   "outputs": [
    {
     "data": {
      "text/html": [
       "<div>\n",
       "<style scoped>\n",
       "    .dataframe tbody tr th:only-of-type {\n",
       "        vertical-align: middle;\n",
       "    }\n",
       "\n",
       "    .dataframe tbody tr th {\n",
       "        vertical-align: top;\n",
       "    }\n",
       "\n",
       "    .dataframe thead th {\n",
       "        text-align: right;\n",
       "    }\n",
       "</style>\n",
       "<table border=\"1\" class=\"dataframe\">\n",
       "  <thead>\n",
       "    <tr style=\"text-align: right;\">\n",
       "      <th></th>\n",
       "      <th>order_id</th>\n",
       "      <th>customer_id</th>\n",
       "      <th>order_status</th>\n",
       "      <th>order_purchase_timestamp</th>\n",
       "      <th>order_approved_at</th>\n",
       "      <th>order_delivered_carrier_date</th>\n",
       "      <th>order_delivered_customer_date</th>\n",
       "      <th>order_estimated_delivery_date</th>\n",
       "      <th>customer_unique_id</th>\n",
       "      <th>customer_zip_code_prefix</th>\n",
       "      <th>customer_city</th>\n",
       "      <th>customer_state</th>\n",
       "      <th>geolocation_zip_code_prefix</th>\n",
       "      <th>geolocation_lat</th>\n",
       "      <th>geolocation_lng</th>\n",
       "      <th>geolocation_state</th>\n",
       "      <th>geolocation_city</th>\n",
       "    </tr>\n",
       "  </thead>\n",
       "  <tbody>\n",
       "    <tr>\n",
       "      <th>0</th>\n",
       "      <td>e481f51cbdc54678b7cc49136f2d6af7</td>\n",
       "      <td>9ef432eb6251297304e76186b10a928d</td>\n",
       "      <td>delivered</td>\n",
       "      <td>2017-10-02 10:56:33</td>\n",
       "      <td>2017-10-02 11:07:15</td>\n",
       "      <td>2017-10-04 19:55:00</td>\n",
       "      <td>2017-10-10 21:25:13</td>\n",
       "      <td>2017-10-18 00:00:00</td>\n",
       "      <td>7c396fd4830fd04220f754e42b4e5bff</td>\n",
       "      <td>3149</td>\n",
       "      <td>sao paulo</td>\n",
       "      <td>SP</td>\n",
       "      <td>3149</td>\n",
       "      <td>-23.576983</td>\n",
       "      <td>-46.587161</td>\n",
       "      <td>SP</td>\n",
       "      <td>sao paulo</td>\n",
       "    </tr>\n",
       "    <tr>\n",
       "      <th>1</th>\n",
       "      <td>53cdb2fc8bc7dce0b6741e2150273451</td>\n",
       "      <td>b0830fb4747a6c6d20dea0b8c802d7ef</td>\n",
       "      <td>delivered</td>\n",
       "      <td>2018-07-24 20:41:37</td>\n",
       "      <td>2018-07-26 03:24:27</td>\n",
       "      <td>2018-07-26 14:31:00</td>\n",
       "      <td>2018-08-07 15:27:45</td>\n",
       "      <td>2018-08-13 00:00:00</td>\n",
       "      <td>af07308b275d755c9edb36a90c618231</td>\n",
       "      <td>47813</td>\n",
       "      <td>barreiras</td>\n",
       "      <td>BA</td>\n",
       "      <td>47813</td>\n",
       "      <td>-12.177924</td>\n",
       "      <td>-44.660711</td>\n",
       "      <td>BA</td>\n",
       "      <td>barreiras</td>\n",
       "    </tr>\n",
       "    <tr>\n",
       "      <th>2</th>\n",
       "      <td>47770eb9100c2d0c44946d9cf07ec65d</td>\n",
       "      <td>41ce2a54c0b03bf3443c3d931a367089</td>\n",
       "      <td>delivered</td>\n",
       "      <td>2018-08-08 08:38:49</td>\n",
       "      <td>2018-08-08 08:55:23</td>\n",
       "      <td>2018-08-08 13:50:00</td>\n",
       "      <td>2018-08-17 18:06:29</td>\n",
       "      <td>2018-09-04 00:00:00</td>\n",
       "      <td>3a653a41f6f9fc3d2a113cf8398680e8</td>\n",
       "      <td>75265</td>\n",
       "      <td>vianopolis</td>\n",
       "      <td>GO</td>\n",
       "      <td>75265</td>\n",
       "      <td>-16.745150</td>\n",
       "      <td>-48.514783</td>\n",
       "      <td>GO</td>\n",
       "      <td>vianopolis</td>\n",
       "    </tr>\n",
       "    <tr>\n",
       "      <th>3</th>\n",
       "      <td>949d5b44dbf5de918fe9c16f97b45f8a</td>\n",
       "      <td>f88197465ea7920adcdbec7375364d82</td>\n",
       "      <td>delivered</td>\n",
       "      <td>2017-11-18 19:28:06</td>\n",
       "      <td>2017-11-18 19:45:59</td>\n",
       "      <td>2017-11-22 13:39:59</td>\n",
       "      <td>2017-12-02 00:28:42</td>\n",
       "      <td>2017-12-15 00:00:00</td>\n",
       "      <td>7c142cf63193a1473d2e66489a9ae977</td>\n",
       "      <td>59296</td>\n",
       "      <td>sao goncalo do amarante</td>\n",
       "      <td>RN</td>\n",
       "      <td>59296</td>\n",
       "      <td>-5.774190</td>\n",
       "      <td>-35.271143</td>\n",
       "      <td>RN</td>\n",
       "      <td>sao goncalo do amarante</td>\n",
       "    </tr>\n",
       "    <tr>\n",
       "      <th>4</th>\n",
       "      <td>ad21c59c0840e6cb83a9ceb5573f8159</td>\n",
       "      <td>8ab97904e6daea8866dbdbc4fb7aad2c</td>\n",
       "      <td>delivered</td>\n",
       "      <td>2018-02-13 21:18:39</td>\n",
       "      <td>2018-02-13 22:20:29</td>\n",
       "      <td>2018-02-14 19:46:34</td>\n",
       "      <td>2018-02-16 18:17:02</td>\n",
       "      <td>2018-02-26 00:00:00</td>\n",
       "      <td>72632f0f9dd73dfee390c9b22eb56dd6</td>\n",
       "      <td>9195</td>\n",
       "      <td>santo andre</td>\n",
       "      <td>SP</td>\n",
       "      <td>9195</td>\n",
       "      <td>-23.676370</td>\n",
       "      <td>-46.514627</td>\n",
       "      <td>SP</td>\n",
       "      <td>santo andre</td>\n",
       "    </tr>\n",
       "  </tbody>\n",
       "</table>\n",
       "</div>"
      ],
      "text/plain": [
       "                           order_id                       customer_id  \\\n",
       "0  e481f51cbdc54678b7cc49136f2d6af7  9ef432eb6251297304e76186b10a928d   \n",
       "1  53cdb2fc8bc7dce0b6741e2150273451  b0830fb4747a6c6d20dea0b8c802d7ef   \n",
       "2  47770eb9100c2d0c44946d9cf07ec65d  41ce2a54c0b03bf3443c3d931a367089   \n",
       "3  949d5b44dbf5de918fe9c16f97b45f8a  f88197465ea7920adcdbec7375364d82   \n",
       "4  ad21c59c0840e6cb83a9ceb5573f8159  8ab97904e6daea8866dbdbc4fb7aad2c   \n",
       "\n",
       "  order_status order_purchase_timestamp    order_approved_at  \\\n",
       "0    delivered      2017-10-02 10:56:33  2017-10-02 11:07:15   \n",
       "1    delivered      2018-07-24 20:41:37  2018-07-26 03:24:27   \n",
       "2    delivered      2018-08-08 08:38:49  2018-08-08 08:55:23   \n",
       "3    delivered      2017-11-18 19:28:06  2017-11-18 19:45:59   \n",
       "4    delivered      2018-02-13 21:18:39  2018-02-13 22:20:29   \n",
       "\n",
       "  order_delivered_carrier_date order_delivered_customer_date  \\\n",
       "0          2017-10-04 19:55:00           2017-10-10 21:25:13   \n",
       "1          2018-07-26 14:31:00           2018-08-07 15:27:45   \n",
       "2          2018-08-08 13:50:00           2018-08-17 18:06:29   \n",
       "3          2017-11-22 13:39:59           2017-12-02 00:28:42   \n",
       "4          2018-02-14 19:46:34           2018-02-16 18:17:02   \n",
       "\n",
       "  order_estimated_delivery_date                customer_unique_id  \\\n",
       "0           2017-10-18 00:00:00  7c396fd4830fd04220f754e42b4e5bff   \n",
       "1           2018-08-13 00:00:00  af07308b275d755c9edb36a90c618231   \n",
       "2           2018-09-04 00:00:00  3a653a41f6f9fc3d2a113cf8398680e8   \n",
       "3           2017-12-15 00:00:00  7c142cf63193a1473d2e66489a9ae977   \n",
       "4           2018-02-26 00:00:00  72632f0f9dd73dfee390c9b22eb56dd6   \n",
       "\n",
       "  customer_zip_code_prefix            customer_city customer_state  \\\n",
       "0                     3149                sao paulo             SP   \n",
       "1                    47813                barreiras             BA   \n",
       "2                    75265               vianopolis             GO   \n",
       "3                    59296  sao goncalo do amarante             RN   \n",
       "4                     9195              santo andre             SP   \n",
       "\n",
       "  geolocation_zip_code_prefix  geolocation_lat  geolocation_lng  \\\n",
       "0                        3149       -23.576983       -46.587161   \n",
       "1                       47813       -12.177924       -44.660711   \n",
       "2                       75265       -16.745150       -48.514783   \n",
       "3                       59296        -5.774190       -35.271143   \n",
       "4                        9195       -23.676370       -46.514627   \n",
       "\n",
       "  geolocation_state         geolocation_city  \n",
       "0                SP                sao paulo  \n",
       "1                BA                barreiras  \n",
       "2                GO               vianopolis  \n",
       "3                RN  sao goncalo do amarante  \n",
       "4                SP              santo andre  "
      ]
     },
     "execution_count": 61,
     "metadata": {},
     "output_type": "execute_result"
    }
   ],
   "source": [
    "df = pd.merge(orders_cleaned, customers, on='customer_id')\n",
    "df = pd.merge(df, geolocation_avg, left_on='customer_zip_code_prefix', right_on='geolocation_zip_code_prefix')\n",
    "df.head()"
   ]
  },
  {
   "cell_type": "code",
   "execution_count": 62,
   "id": "40a4142e",
   "metadata": {},
   "outputs": [
    {
     "name": "stdout",
     "output_type": "stream",
     "text": [
      "<class 'pandas.core.frame.DataFrame'>\n",
      "RangeIndex: 97933 entries, 0 to 97932\n",
      "Data columns (total 17 columns):\n",
      " #   Column                         Non-Null Count  Dtype  \n",
      "---  ------                         --------------  -----  \n",
      " 0   order_id                       97933 non-null  object \n",
      " 1   customer_id                    97933 non-null  object \n",
      " 2   order_status                   97933 non-null  object \n",
      " 3   order_purchase_timestamp       97933 non-null  object \n",
      " 4   order_approved_at              97915 non-null  object \n",
      " 5   order_delivered_carrier_date   97312 non-null  object \n",
      " 6   order_delivered_customer_date  96206 non-null  object \n",
      " 7   order_estimated_delivery_date  97933 non-null  object \n",
      " 8   customer_unique_id             97933 non-null  object \n",
      " 9   customer_zip_code_prefix       97933 non-null  object \n",
      " 10  customer_city                  97933 non-null  object \n",
      " 11  customer_state                 97933 non-null  object \n",
      " 12  geolocation_zip_code_prefix    97933 non-null  object \n",
      " 13  geolocation_lat                97933 non-null  float64\n",
      " 14  geolocation_lng                97933 non-null  float64\n",
      " 15  geolocation_state              97933 non-null  object \n",
      " 16  geolocation_city               97933 non-null  object \n",
      "dtypes: float64(2), object(15)\n",
      "memory usage: 12.7+ MB\n"
     ]
    }
   ],
   "source": [
    "df.info()"
   ]
  },
  {
   "cell_type": "code",
   "execution_count": 63,
   "id": "a97484d0",
   "metadata": {},
   "outputs": [
    {
     "data": {
      "text/html": [
       "<div>\n",
       "<style scoped>\n",
       "    .dataframe tbody tr th:only-of-type {\n",
       "        vertical-align: middle;\n",
       "    }\n",
       "\n",
       "    .dataframe tbody tr th {\n",
       "        vertical-align: top;\n",
       "    }\n",
       "\n",
       "    .dataframe thead th {\n",
       "        text-align: right;\n",
       "    }\n",
       "</style>\n",
       "<table border=\"1\" class=\"dataframe\">\n",
       "  <thead>\n",
       "    <tr style=\"text-align: right;\">\n",
       "      <th></th>\n",
       "      <th>customer_zip_code_prefix</th>\n",
       "      <th>geolocation_zip_code_prefix</th>\n",
       "    </tr>\n",
       "  </thead>\n",
       "  <tbody>\n",
       "  </tbody>\n",
       "</table>\n",
       "</div>"
      ],
      "text/plain": [
       "Empty DataFrame\n",
       "Columns: [customer_zip_code_prefix, geolocation_zip_code_prefix]\n",
       "Index: []"
      ]
     },
     "execution_count": 63,
     "metadata": {},
     "output_type": "execute_result"
    }
   ],
   "source": [
    "# 'customer_zip_code_prefix'와 'geolocation_zip_code_prefix'가 전부 일치\n",
    "mismatched_rows1 = df[df['customer_zip_code_prefix'] != df['geolocation_zip_code_prefix']]\n",
    "mismatched_rows1[['customer_zip_code_prefix', 'geolocation_zip_code_prefix']].head()"
   ]
  },
  {
   "cell_type": "code",
   "execution_count": 64,
   "id": "bbdc11fd",
   "metadata": {},
   "outputs": [
    {
     "data": {
      "text/html": [
       "<div>\n",
       "<style scoped>\n",
       "    .dataframe tbody tr th:only-of-type {\n",
       "        vertical-align: middle;\n",
       "    }\n",
       "\n",
       "    .dataframe tbody tr th {\n",
       "        vertical-align: top;\n",
       "    }\n",
       "\n",
       "    .dataframe thead th {\n",
       "        text-align: right;\n",
       "    }\n",
       "</style>\n",
       "<table border=\"1\" class=\"dataframe\">\n",
       "  <thead>\n",
       "    <tr style=\"text-align: right;\">\n",
       "      <th></th>\n",
       "      <th>customer_state</th>\n",
       "      <th>geolocation_state</th>\n",
       "    </tr>\n",
       "  </thead>\n",
       "  <tbody>\n",
       "  </tbody>\n",
       "</table>\n",
       "</div>"
      ],
      "text/plain": [
       "Empty DataFrame\n",
       "Columns: [customer_state, geolocation_state]\n",
       "Index: []"
      ]
     },
     "execution_count": 64,
     "metadata": {},
     "output_type": "execute_result"
    }
   ],
   "source": [
    "# 'customer_state'와 'geolocation_state'가 전부 일치\n",
    "mismatched_rows2 = df[df['customer_state'] != df['geolocation_state']]\n",
    "mismatched_rows2[['customer_state', 'geolocation_state']].head()"
   ]
  },
  {
   "cell_type": "code",
   "execution_count": 65,
   "id": "cc30f3e5",
   "metadata": {},
   "outputs": [
    {
     "data": {
      "text/plain": [
       "334"
      ]
     },
     "execution_count": 65,
     "metadata": {},
     "output_type": "execute_result"
    }
   ],
   "source": [
    "# 'customer_city'와 'geolocation_city'가 전부 일치하지 않음.\n",
    "mismatched_rows3 = df[df['customer_city'] != df['geolocation_city']]\n",
    "len(mismatched_rows3[['customer_city', 'geolocation_city']])\n",
    "#334"
   ]
  },
  {
   "cell_type": "code",
   "execution_count": 66,
   "id": "16d7562b",
   "metadata": {},
   "outputs": [
    {
     "data": {
      "text/plain": [
       "customer_city     geolocation_city  \n",
       "mogi-guacu        mogi guacu            60\n",
       "brasilia          ceilandia             37\n",
       "paraty            parati                19\n",
       "embu das artes    embu                  18\n",
       "embu              embu das artes        11\n",
       "                                        ..\n",
       "olhos d'agua      olhos-d agua           1\n",
       "palmeira d oeste  palmeira d'oeste       1\n",
       "pau d'arco        vila sao francisco     1\n",
       "paulo afonso      gloria                 1\n",
       "martinesia        tapuirama              1\n",
       "Name: count, Length: 84, dtype: int64"
      ]
     },
     "execution_count": 66,
     "metadata": {},
     "output_type": "execute_result"
    }
   ],
   "source": [
    "# 'customer_city'와 'geolocation_city'가 일치하지 않음.\n",
    "mismatched_rows3 = df[df['customer_city'] != df['geolocation_city']]\n",
    "mismatched_rows3[['customer_city', 'geolocation_city']].value_counts()"
   ]
  },
  {
   "cell_type": "code",
   "execution_count": 67,
   "id": "4d9c941d",
   "metadata": {},
   "outputs": [
    {
     "data": {
      "text/plain": [
       "333"
      ]
     },
     "execution_count": 67,
     "metadata": {},
     "output_type": "execute_result"
    }
   ],
   "source": [
    "import unidecode\n",
    "import re\n",
    "\n",
    "# 특수문자와 악센트를 제거하는 함수\n",
    "def normalize_city_name(city):\n",
    "    city = unidecode.unidecode(city)  # 악센트 제거\n",
    "    city = re.sub(r'[^a-zA-Z0-9\\s]', '', city)  # 특수문자 제거\n",
    "    return city.lower().strip()  # 소문자로 변환하고 양쪽 공백 제거\n",
    "\n",
    "# customer_city와 geolocation_city를 정규화\n",
    "df['customer_city'] = df['customer_city'].apply(normalize_city_name)\n",
    "df['geolocation_city'] = df['geolocation_city'].apply(normalize_city_name)\n",
    "\n",
    "# 일치하지 않는 행 추출\n",
    "mismatch_df = df[df['customer_city'] != df['geolocation_city']]\n",
    "len(mismatch_df[['customer_city', 'geolocation_city']])\n",
    "## 나머지는 수작업으로 해야 함."
   ]
  },
  {
   "cell_type": "code",
   "execution_count": 68,
   "id": "12e32ffe",
   "metadata": {},
   "outputs": [
    {
     "data": {
      "text/plain": [
       "order_id                        0\n",
       "customer_id                     0\n",
       "order_status                    0\n",
       "order_purchase_timestamp        0\n",
       "order_approved_at              18\n",
       "                               ..\n",
       "geolocation_zip_code_prefix     0\n",
       "geolocation_lat                 0\n",
       "geolocation_lng                 0\n",
       "geolocation_state               0\n",
       "geolocation_city                0\n",
       "Length: 17, dtype: int64"
      ]
     },
     "execution_count": 68,
     "metadata": {},
     "output_type": "execute_result"
    }
   ],
   "source": [
    "# 결측\n",
    "df.isna().sum()"
   ]
  },
  {
   "cell_type": "code",
   "execution_count": 69,
   "id": "6a830b8b",
   "metadata": {},
   "outputs": [],
   "source": [
    "df.to_csv('전처리1차_입지선정.csv')\n",
    "#city 불일치 문제 해결해야함\n",
    "\n",
    "###  전처리 완료사항  ###\n",
    "#customer+order+geoglocation\n",
    "#order_status != canceled. availabled\n",
    "#좌표기준 geo_state, geo_city, geo_code 일치\n",
    "#merge할때 우편번호별로 좌표 중복 해결"
   ]
  },
  {
   "cell_type": "markdown",
   "id": "696b25fc",
   "metadata": {},
   "source": [
    "---\n",
    "## 2. merged_df 전처리"
   ]
  },
  {
   "cell_type": "code",
   "execution_count": 70,
   "id": "97285386",
   "metadata": {},
   "outputs": [
    {
     "name": "stdout",
     "output_type": "stream",
     "text": [
      "<class 'pandas.core.frame.DataFrame'>\n",
      "RangeIndex: 97933 entries, 0 to 97932\n",
      "Data columns (total 17 columns):\n",
      " #   Column                         Non-Null Count  Dtype  \n",
      "---  ------                         --------------  -----  \n",
      " 0   order_id                       97933 non-null  object \n",
      " 1   customer_id                    97933 non-null  object \n",
      " 2   order_status                   97933 non-null  object \n",
      " 3   order_purchase_timestamp       97933 non-null  object \n",
      " 4   order_approved_at              97915 non-null  object \n",
      " 5   order_delivered_carrier_date   97312 non-null  object \n",
      " 6   order_delivered_customer_date  96206 non-null  object \n",
      " 7   order_estimated_delivery_date  97933 non-null  object \n",
      " 8   customer_unique_id             97933 non-null  object \n",
      " 9   customer_zip_code_prefix       97933 non-null  object \n",
      " 10  customer_city                  97933 non-null  object \n",
      " 11  customer_state                 97933 non-null  object \n",
      " 12  geolocation_zip_code_prefix    97933 non-null  object \n",
      " 13  geolocation_lat                97933 non-null  float64\n",
      " 14  geolocation_lng                97933 non-null  float64\n",
      " 15  geolocation_state              97933 non-null  object \n",
      " 16  geolocation_city               97933 non-null  object \n",
      "dtypes: float64(2), object(15)\n",
      "memory usage: 12.7+ MB\n"
     ]
    }
   ],
   "source": [
    "df.info()"
   ]
  },
  {
   "cell_type": "code",
   "execution_count": 71,
   "id": "8f58421a",
   "metadata": {},
   "outputs": [
    {
     "data": {
      "image/png": "[encoded data removed]",
      "text/plain": [
       "<Figure size 1200x500 with 1 Axes>"
      ]
     },
     "metadata": {},
     "output_type": "display_data"
    }
   ],
   "source": [
    "# merged_df의 state별 행의 개수\n",
    "plt.figure(figsize=(12,5))\n",
    "sns.barplot(df['geolocation_state'].value_counts())\n",
    "plt.title('Order Counts of state')\n",
    "plt.show()"
   ]
  },
  {
   "cell_type": "markdown",
   "id": "45733274",
   "metadata": {},
   "source": [
    "### 2.1 customer_city와 geolocation_city의 불일치"
   ]
  },
  {
   "cell_type": "code",
   "execution_count": 72,
   "id": "be309531",
   "metadata": {},
   "outputs": [
    {
     "data": {
      "text/plain": [
       "(41112, 17)"
      ]
     },
     "execution_count": 72,
     "metadata": {},
     "output_type": "execute_result"
    }
   ],
   "source": [
    "df[df['customer_state']=='SP'].shape"
   ]
  },
  {
   "cell_type": "markdown",
   "id": "3d2086d0",
   "metadata": {},
   "source": [
    "SP의 customer_city와 geolocation_city의 불일치"
   ]
  },
  {
   "cell_type": "code",
   "execution_count": 77,
   "id": "b7488de8",
   "metadata": {
    "scrolled": true
   },
   "outputs": [
    {
     "data": {
      "text/plain": [
       "customer_city        geolocation_city   \n",
       "mogi guacu           mogiguacu              31\n",
       "monte alegre do sul  jaguariuna              3\n",
       "guariroba            taquaritinga            2\n",
       "mogimirim            mogi mirim              2\n",
       "ajapi                rio claro               1\n",
       "aparecida doeste     aparecida d oeste       1\n",
       "estrela d oeste      estrela doeste          1\n",
       "jaguariuna           monte alegre do sul     1\n",
       "mogi mirim           mogimirim               1\n",
       "palmeira d oeste     palmeira doeste         1\n",
       "Name: count, dtype: int64"
      ]
     },
     "execution_count": 77,
     "metadata": {},
     "output_type": "execute_result"
    }
   ],
   "source": [
    "# customer_city와 geolocation_city의 불일치 수정\n",
    "df.loc[df['customer_city'] == 'mogiguacu', 'customer_city'] = 'mogi guacu'\n",
    "\n",
    "df.loc[df['customer_city'] == 'embu das artes', 'geolocation_city'] = 'embu das artes'\n",
    "df.loc[df['customer_city'] == 'embu', 'customer_city'] = 'embu das artes'\n",
    "\n",
    "df.loc[df['customer_city'] == 'santa barbara d oeste', 'geolocation_city'] = 'santa barbara d oeste'\n",
    "\n",
    "df.loc[df['customer_city'] == 'sao luis do paraitinga', 'customer_city'] = 'sao luiz do paraitinga'\n",
    "\n",
    "# SP 주에서 customer_city와 geolocation_city가 일치하지 않는 경우 출력\n",
    "df[(df['customer_city'] != df['geolocation_city']) & (df['geolocation_state'] == 'SP')][['customer_city', 'geolocation_city']].value_counts()\n"
   ]
  },
  {
   "cell_type": "code",
   "execution_count": 79,
   "id": "c77c8879",
   "metadata": {},
   "outputs": [
    {
     "data": {
      "text/plain": [
       "customer_city        geolocation_city     geolocation_lat  geolocation_lng\n",
       "monte alegre do sul  jaguariuna           -22.692949       -46.982878         3\n",
       "guariroba            taquaritinga         -21.448306       -48.574959         2\n",
       "ajapi                rio claro            -22.411490       -47.570963         1\n",
       "aparecida doeste     aparecida d oeste    -20.453716       -50.882766         1\n",
       "estrela d oeste      estrela doeste       -20.285485       -50.397562         1\n",
       "jaguariuna           monte alegre do sul  -22.698918       -46.846496         1\n",
       "palmeira d oeste     palmeira doeste      -20.415905       -50.762154         1\n",
       "Name: count, dtype: int64"
      ]
     },
     "execution_count": 79,
     "metadata": {},
     "output_type": "execute_result"
    }
   ],
   "source": [
    "# customer_city와 geolocation_city의 불일치 수정\n",
    "df.loc[df['customer_city'] == 'mogi guacu', 'geolocation_city'] = 'mogi guacu'\n",
    "df.loc[df['customer_city'] == 'mogimirim', 'customer_city'] = 'mogi mirim'\n",
    "df.loc[df['geolocation_city'] == 'mogimirim', 'geolocation_city'] = 'mogi mirim'\n",
    "\n",
    "\n",
    "# SP 주에서 customer_city와 geolocation_city가 일치하지 않는 경우 출력\n",
    "df[(df['customer_city'] != df['geolocation_city']) & (df['geolocation_state'] == 'SP')][['customer_city', 'geolocation_city','geolocation_lat','geolocation_lng']].value_counts()"
   ]
  },
  {
   "cell_type": "code",
   "execution_count": 82,
   "id": "5d38cb08",
   "metadata": {},
   "outputs": [
    {
     "data": {
      "text/plain": [
       "Series([], Name: count, dtype: int64)"
      ]
     },
     "execution_count": 82,
     "metadata": {},
     "output_type": "execute_result"
    }
   ],
   "source": [
    "# customer_city와 geolocation_city의 불일치 수정\n",
    "df.loc[df['geolocation_city'] == 'jaguariuna', 'customer_city'] = 'jaguariuna'\n",
    "df.loc[df['geolocation_city'] == 'taquaritinga', 'customer_city'] = 'taquaritinga'\n",
    "df.loc[df['geolocation_city'] == 'rio claro', 'customer_city'] = 'rio claro'\n",
    "\n",
    "df.loc[df['customer_city'] == 'aparecida doeste', ['customer_city','geolocation_city']] = 'aparecida do oeste'\n",
    "df.loc[df['customer_city'] == 'estrela d oeste', ['customer_city','geolocation_city']] = 'estrela do oeste'\n",
    "df.loc[df['customer_city'] == 'palmeira d oeste', ['customer_city','geolocation_city']] = 'palmeira do oeste'\n",
    "\n",
    "df.loc[df['customer_city'] == 'jaguariuna', ['customer_city','geolocation_city']] = 'amparo'\n",
    "\n",
    "# SP 주에서 customer_city와 geolocation_city가 일치하지 않는 경우 출력\n",
    "df[(df['customer_city'] != df['geolocation_city']) & (df['geolocation_state'] == 'SP')][['customer_city', 'geolocation_city','geolocation_lat','geolocation_lng']].value_counts()"
   ]
  },
  {
   "cell_type": "markdown",
   "id": "bae5726c",
   "metadata": {},
   "source": [
    "state BA"
   ]
  },
  {
   "cell_type": "code",
   "execution_count": 83,
   "id": "7e0e4fda",
   "metadata": {},
   "outputs": [
    {
     "data": {
      "text/plain": [
       "(3336, 17)"
      ]
     },
     "execution_count": 83,
     "metadata": {},
     "output_type": "execute_result"
    }
   ],
   "source": [
    "df[df['geolocation_state']=='BA'].shape\n",
    "#3,336"
   ]
  },
  {
   "cell_type": "code",
   "execution_count": 85,
   "id": "fd912e59",
   "metadata": {},
   "outputs": [
    {
     "name": "stdout",
     "output_type": "stream",
     "text": [
      "<class 'pandas.core.frame.DataFrame'>\n",
      "Index: 3336 entries, 1 to 97930\n",
      "Data columns (total 17 columns):\n",
      " #   Column                         Non-Null Count  Dtype  \n",
      "---  ------                         --------------  -----  \n",
      " 0   order_id                       3336 non-null   object \n",
      " 1   customer_id                    3336 non-null   object \n",
      " 2   order_status                   3336 non-null   object \n",
      " 3   order_purchase_timestamp       3336 non-null   object \n",
      " 4   order_approved_at              3336 non-null   object \n",
      " 5   order_delivered_carrier_date   3316 non-null   object \n",
      " 6   order_delivered_customer_date  3248 non-null   object \n",
      " 7   order_estimated_delivery_date  3336 non-null   object \n",
      " 8   customer_unique_id             3336 non-null   object \n",
      " 9   customer_zip_code_prefix       3336 non-null   object \n",
      " 10  customer_city                  3336 non-null   object \n",
      " 11  customer_state                 3336 non-null   object \n",
      " 12  geolocation_zip_code_prefix    3336 non-null   object \n",
      " 13  geolocation_lat                3336 non-null   float64\n",
      " 14  geolocation_lng                3336 non-null   float64\n",
      " 15  geolocation_state              3336 non-null   object \n",
      " 16  geolocation_city               3336 non-null   object \n",
      "dtypes: float64(2), object(15)\n",
      "memory usage: 469.1+ KB\n"
     ]
    }
   ],
   "source": [
    "df.query('geolocation_state==\"BA\"').info()"
   ]
  },
  {
   "cell_type": "code",
   "execution_count": 88,
   "id": "569cdd88",
   "metadata": {},
   "outputs": [
    {
     "name": "stderr",
     "output_type": "stream",
     "text": [
      "C:\\Users\\myhyu\\AppData\\Local\\Temp\\ipykernel_28716\\6353208.py:2: UserWarning: Boolean Series key will be reindexed to match DataFrame index.\n",
      "  mismatched_rows_BA = df.query('geolocation_state == \"BA\"')[\n"
     ]
    },
    {
     "data": {
      "text/plain": [
       "25"
      ]
     },
     "execution_count": 88,
     "metadata": {},
     "output_type": "execute_result"
    }
   ],
   "source": [
    "# 'customer_city'와 'geolocation_city'가 전부 일치하지 않음.\n",
    "mismatched_rows_BA = df.query('geolocation_state == \"BA\"')[\n",
    "    df['customer_city'] != df['geolocation_city']\n",
    "]\n",
    "len(mismatched_rows_BA[['customer_city', 'geolocation_city']])\n",
    "#25"
   ]
  },
  {
   "cell_type": "code",
   "execution_count": 91,
   "id": "7d4aee49",
   "metadata": {},
   "outputs": [
    {
     "data": {
      "text/plain": [
       "customer_city             geolocation_city         geolocation_lat  geolocation_lng\n",
       "nucleo residencial pilar  jaguarari                -10.333614       -40.151525         8\n",
       "posto da mata             nova vicosa              -17.886450       -39.861698         4\n",
       "itamira                   apora                    -13.468836       -39.240260         2\n",
       "muquem do sao francisco   muquem de sao francisco  -12.114786       -43.553055         2\n",
       "santa teresinha           santa terezinha          -12.745713       -39.520316         2\n",
       "                                                                                      ..\n",
       "camacari                  abrantes                 -12.829741       -38.264986         1\n",
       "dias d avila              dias davila              -12.613382       -38.301073         1\n",
       "paulo afonso              gloria                   -9.441492        -38.223191         1\n",
       "porto seguro              arraial dajuda           -16.400187       -39.262747         1\n",
       "taboquinhas               itacare                  -14.277952       -38.995374         1\n",
       "Name: count, Length: 12, dtype: int64"
      ]
     },
     "execution_count": 91,
     "metadata": {},
     "output_type": "execute_result"
    }
   ],
   "source": [
    "mismatched_rows_BA[['customer_city', 'geolocation_city','geolocation_lat','geolocation_lng']].value_counts()"
   ]
  },
  {
   "cell_type": "code",
   "execution_count": 92,
   "id": "9778a70b",
   "metadata": {},
   "outputs": [
    {
     "data": {
      "text/plain": [
       "customer_city    geolocation_city  geolocation_lat  geolocation_lng\n",
       "arraial d ajuda  arraial dajuda    -16.400187       -39.262747         1\n",
       "caldas do jorro  tucano            -11.027780       -38.791895         1\n",
       "camacari         abrantes          -12.829741       -38.264986         1\n",
       "dias d avila     dias davila       -12.613382       -38.301073         1\n",
       "paulo afonso     gloria            -9.441492        -38.223191         1\n",
       "porto seguro     arraial dajuda    -16.400187       -39.262747         1\n",
       "taboquinhas      itacare           -14.277952       -38.995374         1\n",
       "Name: count, dtype: int64"
      ]
     },
     "execution_count": 92,
     "metadata": {},
     "output_type": "execute_result"
    }
   ],
   "source": [
    "# customer_city와 geolocation_city의 불일치 수정1\n",
    "df.loc[df['geolocation_city'] == 'jaguarari', 'customer_city'] = 'jaguarari'\n",
    "df.loc[df['customer_city'] == 'posto da mata', 'geolocation_city'] = 'posto da mata'\n",
    "df.loc[df['customer_city'] == 'itamira', ['customer_city','geolocation_city']] = 'valenca'\n",
    "df.loc[df['customer_city'] == 'muquem do sao francisco', 'geolocation_city'] = 'muquem do sao francisco'\n",
    "df.loc[df['customer_city'] == 'santa teresinha', 'geolocation_city'] = 'santa teresinha'\n",
    "\n",
    "# SP 주에서 customer_city와 geolocation_city가 일치하지 않는 경우 출력\n",
    "df[(df['customer_city'] != df['geolocation_city']) & (df['geolocation_state'] == 'BA')][['customer_city', 'geolocation_city','geolocation_lat','geolocation_lng']].value_counts()"
   ]
  },
  {
   "cell_type": "code",
   "execution_count": 93,
   "id": "59da1b08",
   "metadata": {},
   "outputs": [
    {
     "data": {
      "text/plain": [
       "Series([], Name: count, dtype: int64)"
      ]
     },
     "execution_count": 93,
     "metadata": {},
     "output_type": "execute_result"
    }
   ],
   "source": [
    "# customer_city와 geolocation_city의 불일치 수정2\n",
    "df.loc[df['geolocation_city'] == 'arraial dajuda', ['customer_city','geolocation_city']] = 'porto seguro'\n",
    "df.loc[df['geolocation_city'] == 'tucano', 'customer_city'] = 'tucano'\n",
    "df.loc[df['customer_city'] == 'camacari', 'geolocation_city'] = 'camacari'\n",
    "df.loc[df['customer_city'] == 'dias d avila', ['customer_city','geolocation_city']] = 'camacari'\n",
    "df.loc[df['customer_city'] == 'paulo afonso', 'geolocation_city'] = 'paulo afonso'\n",
    "df.loc[df['customer_city'] == 'porto seguro', 'geolocation_city'] = 'porto seguro'\n",
    "df.loc[df['geolocation_city'] == 'itacare', 'customer_city'] = 'itacare'\n",
    "\n",
    "# SP 주에서 customer_city와 geolocation_city가 일치하지 않는 경우 출력\n",
    "df[(df['customer_city'] != df['geolocation_city']) & (df['geolocation_state'] == 'BA')][['customer_city', 'geolocation_city','geolocation_lat','geolocation_lng']].value_counts()"
   ]
  },
  {
   "cell_type": "code",
   "execution_count": 99,
   "id": "67ac77f4",
   "metadata": {},
   "outputs": [
    {
     "data": {
      "text/html": [
       "<div>\n",
       "<style scoped>\n",
       "    .dataframe tbody tr th:only-of-type {\n",
       "        vertical-align: middle;\n",
       "    }\n",
       "\n",
       "    .dataframe tbody tr th {\n",
       "        vertical-align: top;\n",
       "    }\n",
       "\n",
       "    .dataframe thead th {\n",
       "        text-align: right;\n",
       "    }\n",
       "</style>\n",
       "<table border=\"1\" class=\"dataframe\">\n",
       "  <thead>\n",
       "    <tr style=\"text-align: right;\">\n",
       "      <th></th>\n",
       "      <th>order_id</th>\n",
       "      <th>customer_id</th>\n",
       "      <th>order_status</th>\n",
       "      <th>order_purchase_timestamp</th>\n",
       "      <th>order_approved_at</th>\n",
       "      <th>order_delivered_carrier_date</th>\n",
       "      <th>order_delivered_customer_date</th>\n",
       "      <th>order_estimated_delivery_date</th>\n",
       "      <th>customer_unique_id</th>\n",
       "      <th>customer_zip_code_prefix</th>\n",
       "      <th>customer_city</th>\n",
       "      <th>customer_state</th>\n",
       "      <th>geolocation_zip_code_prefix</th>\n",
       "      <th>geolocation_lat</th>\n",
       "      <th>geolocation_lng</th>\n",
       "      <th>geolocation_state</th>\n",
       "      <th>geolocation_city</th>\n",
       "    </tr>\n",
       "  </thead>\n",
       "  <tbody>\n",
       "  </tbody>\n",
       "</table>\n",
       "</div>"
      ],
      "text/plain": [
       "Empty DataFrame\n",
       "Columns: [order_id, customer_id, order_status, order_purchase_timestamp, order_approved_at, order_delivered_carrier_date, order_delivered_customer_date, order_estimated_delivery_date, customer_unique_id, customer_zip_code_prefix, customer_city, customer_state, geolocation_zip_code_prefix, geolocation_lat, geolocation_lng, geolocation_state, geolocation_city]\n",
       "Index: []"
      ]
     },
     "execution_count": 99,
     "metadata": {},
     "output_type": "execute_result"
    }
   ],
   "source": [
    "df[(df['customer_city'] != df['geolocation_city']) & \n",
    "                     (df['customer_state'].isin(['SP', 'BA']))]\n",
    "# SP와 BA 주에 대해서 city가 불일치하는 문제 "
   ]
  },
  {
   "cell_type": "markdown",
   "id": "647ddae4",
   "metadata": {},
   "source": [
    "#### 동일한 행 제거"
   ]
  },
  {
   "cell_type": "code",
   "execution_count": 101,
   "id": "dbc3356e",
   "metadata": {},
   "outputs": [
    {
     "data": {
      "text/html": [
       "<div>\n",
       "<style scoped>\n",
       "    .dataframe tbody tr th:only-of-type {\n",
       "        vertical-align: middle;\n",
       "    }\n",
       "\n",
       "    .dataframe tbody tr th {\n",
       "        vertical-align: top;\n",
       "    }\n",
       "\n",
       "    .dataframe thead th {\n",
       "        text-align: right;\n",
       "    }\n",
       "</style>\n",
       "<table border=\"1\" class=\"dataframe\">\n",
       "  <thead>\n",
       "    <tr style=\"text-align: right;\">\n",
       "      <th></th>\n",
       "      <th>order_id</th>\n",
       "      <th>customer_id</th>\n",
       "      <th>order_status</th>\n",
       "      <th>order_purchase_timestamp</th>\n",
       "      <th>order_approved_at</th>\n",
       "      <th>order_delivered_carrier_date</th>\n",
       "      <th>order_delivered_customer_date</th>\n",
       "      <th>order_estimated_delivery_date</th>\n",
       "      <th>customer_unique_id</th>\n",
       "      <th>customer_zip_code_prefix</th>\n",
       "      <th>customer_city</th>\n",
       "      <th>customer_state</th>\n",
       "      <th>geolocation_zip_code_prefix</th>\n",
       "      <th>geolocation_lat</th>\n",
       "      <th>geolocation_lng</th>\n",
       "      <th>geolocation_state</th>\n",
       "      <th>geolocation_city</th>\n",
       "    </tr>\n",
       "  </thead>\n",
       "  <tbody>\n",
       "  </tbody>\n",
       "</table>\n",
       "</div>"
      ],
      "text/plain": [
       "Empty DataFrame\n",
       "Columns: [order_id, customer_id, order_status, order_purchase_timestamp, order_approved_at, order_delivered_carrier_date, order_delivered_customer_date, order_estimated_delivery_date, customer_unique_id, customer_zip_code_prefix, customer_city, customer_state, geolocation_zip_code_prefix, geolocation_lat, geolocation_lng, geolocation_state, geolocation_city]\n",
       "Index: []"
      ]
     },
     "execution_count": 101,
     "metadata": {},
     "output_type": "execute_result"
    }
   ],
   "source": [
    "df[(df['customer_state'] != df['geolocation_state']) & \n",
    "                     (df['customer_state'].isin(['SP', 'BA']))]"
   ]
  },
  {
   "cell_type": "code",
   "execution_count": 102,
   "id": "179c442c",
   "metadata": {},
   "outputs": [
    {
     "data": {
      "text/html": [
       "<div>\n",
       "<style scoped>\n",
       "    .dataframe tbody tr th:only-of-type {\n",
       "        vertical-align: middle;\n",
       "    }\n",
       "\n",
       "    .dataframe tbody tr th {\n",
       "        vertical-align: top;\n",
       "    }\n",
       "\n",
       "    .dataframe thead th {\n",
       "        text-align: right;\n",
       "    }\n",
       "</style>\n",
       "<table border=\"1\" class=\"dataframe\">\n",
       "  <thead>\n",
       "    <tr style=\"text-align: right;\">\n",
       "      <th></th>\n",
       "      <th>order_id</th>\n",
       "      <th>customer_id</th>\n",
       "      <th>order_status</th>\n",
       "      <th>order_purchase_timestamp</th>\n",
       "      <th>order_approved_at</th>\n",
       "      <th>order_delivered_carrier_date</th>\n",
       "      <th>order_delivered_customer_date</th>\n",
       "      <th>order_estimated_delivery_date</th>\n",
       "      <th>customer_unique_id</th>\n",
       "      <th>customer_zip_code_prefix</th>\n",
       "      <th>customer_city</th>\n",
       "      <th>customer_state</th>\n",
       "      <th>geolocation_zip_code_prefix</th>\n",
       "      <th>geolocation_lat</th>\n",
       "      <th>geolocation_lng</th>\n",
       "      <th>geolocation_state</th>\n",
       "      <th>geolocation_city</th>\n",
       "    </tr>\n",
       "  </thead>\n",
       "  <tbody>\n",
       "  </tbody>\n",
       "</table>\n",
       "</div>"
      ],
      "text/plain": [
       "Empty DataFrame\n",
       "Columns: [order_id, customer_id, order_status, order_purchase_timestamp, order_approved_at, order_delivered_carrier_date, order_delivered_customer_date, order_estimated_delivery_date, customer_unique_id, customer_zip_code_prefix, customer_city, customer_state, geolocation_zip_code_prefix, geolocation_lat, geolocation_lng, geolocation_state, geolocation_city]\n",
       "Index: []"
      ]
     },
     "execution_count": 102,
     "metadata": {},
     "output_type": "execute_result"
    }
   ],
   "source": [
    "df[(df['customer_city'] != df['geolocation_city']) & \n",
    "                     (df['customer_state'].isin(['SP', 'BA']))]"
   ]
  },
  {
   "cell_type": "code",
   "execution_count": 103,
   "id": "514763e4",
   "metadata": {},
   "outputs": [
    {
     "data": {
      "text/html": [
       "<div>\n",
       "<style scoped>\n",
       "    .dataframe tbody tr th:only-of-type {\n",
       "        vertical-align: middle;\n",
       "    }\n",
       "\n",
       "    .dataframe tbody tr th {\n",
       "        vertical-align: top;\n",
       "    }\n",
       "\n",
       "    .dataframe thead th {\n",
       "        text-align: right;\n",
       "    }\n",
       "</style>\n",
       "<table border=\"1\" class=\"dataframe\">\n",
       "  <thead>\n",
       "    <tr style=\"text-align: right;\">\n",
       "      <th></th>\n",
       "      <th>order_id</th>\n",
       "      <th>customer_id</th>\n",
       "      <th>order_status</th>\n",
       "      <th>order_purchase_timestamp</th>\n",
       "      <th>order_approved_at</th>\n",
       "      <th>order_delivered_carrier_date</th>\n",
       "      <th>order_delivered_customer_date</th>\n",
       "      <th>order_estimated_delivery_date</th>\n",
       "      <th>customer_unique_id</th>\n",
       "      <th>customer_zip_code_prefix</th>\n",
       "      <th>customer_city</th>\n",
       "      <th>customer_state</th>\n",
       "      <th>geolocation_zip_code_prefix</th>\n",
       "      <th>geolocation_lat</th>\n",
       "      <th>geolocation_lng</th>\n",
       "      <th>geolocation_state</th>\n",
       "      <th>geolocation_city</th>\n",
       "    </tr>\n",
       "  </thead>\n",
       "  <tbody>\n",
       "  </tbody>\n",
       "</table>\n",
       "</div>"
      ],
      "text/plain": [
       "Empty DataFrame\n",
       "Columns: [order_id, customer_id, order_status, order_purchase_timestamp, order_approved_at, order_delivered_carrier_date, order_delivered_customer_date, order_estimated_delivery_date, customer_unique_id, customer_zip_code_prefix, customer_city, customer_state, geolocation_zip_code_prefix, geolocation_lat, geolocation_lng, geolocation_state, geolocation_city]\n",
       "Index: []"
      ]
     },
     "execution_count": 103,
     "metadata": {},
     "output_type": "execute_result"
    }
   ],
   "source": [
    "df[(df['customer_zip_code_prefix'] != df['geolocation_zip_code_prefix']) & \n",
    "                     (df['customer_state'].isin(['SP', 'BA']))]"
   ]
  },
  {
   "cell_type": "code",
   "execution_count": 105,
   "id": "9103d800",
   "metadata": {},
   "outputs": [
    {
     "data": {
      "text/plain": [
       "Index(['order_id', 'customer_id', 'order_status', 'order_purchase_timestamp',\n",
       "       'order_approved_at', 'order_delivered_carrier_date',\n",
       "       'order_delivered_customer_date', 'order_estimated_delivery_date',\n",
       "       'customer_unique_id', 'customer_zip_code_prefix', 'customer_city',\n",
       "       'customer_state', 'geolocation_lat', 'geolocation_lng'],\n",
       "      dtype='object')"
      ]
     },
     "execution_count": 105,
     "metadata": {},
     "output_type": "execute_result"
    }
   ],
   "source": [
    "df.drop(columns=['geolocation_zip_code_prefix','geolocation_city','geolocation_state'], inplace=True)\n",
    "df.columns"
   ]
  },
  {
   "cell_type": "markdown",
   "id": "5fee4790",
   "metadata": {},
   "source": [
    "### 2.2 파생변수 (소요시간)\n",
    "- 주문-승인 시간  \n",
    "df['time_difference_0'] = df['order_approved_at'] - df['order_purchase_timestamp']\n",
    "\n",
    "- 승인-물류업체전달 시간  \n",
    "df['time_difference_1'] = df['order_delivered_carrier_date'] - df['order_approved_at']\n",
    "\n",
    "- 물류업체전달- 배송완료 시간  \n",
    "df['time_difference_2'] = df['order_delivered_customer_date'] - df['order_delivered_carrier_date']\n",
    "\n",
    "- 총 배송소요 시간  \n",
    "df['time_difference_total'] = df['order_delivered_customer_date'] - df['order_purchase_timestamp']"
   ]
  },
  {
   "cell_type": "code",
   "execution_count": 100,
   "id": "5f3476cd",
   "metadata": {},
   "outputs": [
    {
     "name": "stdout",
     "output_type": "stream",
     "text": [
      "<class 'pandas.core.frame.DataFrame'>\n",
      "RangeIndex: 97933 entries, 0 to 97932\n",
      "Data columns (total 17 columns):\n",
      " #   Column                         Non-Null Count  Dtype  \n",
      "---  ------                         --------------  -----  \n",
      " 0   order_id                       97933 non-null  object \n",
      " 1   customer_id                    97933 non-null  object \n",
      " 2   order_status                   97933 non-null  object \n",
      " 3   order_purchase_timestamp       97933 non-null  object \n",
      " 4   order_approved_at              97915 non-null  object \n",
      " 5   order_delivered_carrier_date   97312 non-null  object \n",
      " 6   order_delivered_customer_date  96206 non-null  object \n",
      " 7   order_estimated_delivery_date  97933 non-null  object \n",
      " 8   customer_unique_id             97933 non-null  object \n",
      " 9   customer_zip_code_prefix       97933 non-null  object \n",
      " 10  customer_city                  97933 non-null  object \n",
      " 11  customer_state                 97933 non-null  object \n",
      " 12  geolocation_zip_code_prefix    97933 non-null  object \n",
      " 13  geolocation_lat                97933 non-null  float64\n",
      " 14  geolocation_lng                97933 non-null  float64\n",
      " 15  geolocation_state              97933 non-null  object \n",
      " 16  geolocation_city               97933 non-null  object \n",
      "dtypes: float64(2), object(15)\n",
      "memory usage: 12.7+ MB\n"
     ]
    }
   ],
   "source": [
    "df.info()"
   ]
  },
  {
   "cell_type": "code",
   "execution_count": 106,
   "id": "6c612523",
   "metadata": {},
   "outputs": [
    {
     "name": "stdout",
     "output_type": "stream",
     "text": [
      "<class 'pandas.core.frame.DataFrame'>\n",
      "RangeIndex: 97933 entries, 0 to 97932\n",
      "Data columns (total 14 columns):\n",
      " #   Column                         Non-Null Count  Dtype         \n",
      "---  ------                         --------------  -----         \n",
      " 0   order_id                       97933 non-null  object        \n",
      " 1   customer_id                    97933 non-null  object        \n",
      " 2   order_status                   97933 non-null  object        \n",
      " 3   order_purchase_timestamp       97933 non-null  datetime64[ns]\n",
      " 4   order_approved_at              97915 non-null  datetime64[ns]\n",
      " 5   order_delivered_carrier_date   97312 non-null  datetime64[ns]\n",
      " 6   order_delivered_customer_date  96206 non-null  datetime64[ns]\n",
      " 7   order_estimated_delivery_date  97933 non-null  datetime64[ns]\n",
      " 8   customer_unique_id             97933 non-null  object        \n",
      " 9   customer_zip_code_prefix       97933 non-null  object        \n",
      " 10  customer_city                  97933 non-null  object        \n",
      " 11  customer_state                 97933 non-null  object        \n",
      " 12  geolocation_lat                97933 non-null  float64       \n",
      " 13  geolocation_lng                97933 non-null  float64       \n",
      "dtypes: datetime64[ns](5), float64(2), object(7)\n",
      "memory usage: 10.5+ MB\n"
     ]
    }
   ],
   "source": [
    "# datetime 형식 변환\n",
    "df['order_purchase_timestamp'] = pd.to_datetime(df['order_purchase_timestamp'], errors='coerce')\n",
    "df['order_approved_at'] = pd.to_datetime(df['order_approved_at'], errors='coerce')\n",
    "df['order_delivered_carrier_date'] = pd.to_datetime(df['order_delivered_carrier_date'], errors='coerce')\n",
    "df['order_delivered_customer_date'] = pd.to_datetime(df['order_delivered_customer_date'], errors='coerce')\n",
    "df['order_estimated_delivery_date'] = pd.to_datetime(df['order_estimated_delivery_date'], errors='coerce')\n",
    "df.info()"
   ]
  },
  {
   "cell_type": "code",
   "execution_count": 107,
   "id": "e704c613",
   "metadata": {},
   "outputs": [
    {
     "name": "stdout",
     "output_type": "stream",
     "text": [
      "<class 'pandas.core.frame.DataFrame'>\n",
      "RangeIndex: 97933 entries, 0 to 97932\n",
      "Data columns (total 18 columns):\n",
      " #   Column                         Non-Null Count  Dtype          \n",
      "---  ------                         --------------  -----          \n",
      " 0   order_id                       97933 non-null  object         \n",
      " 1   customer_id                    97933 non-null  object         \n",
      " 2   order_status                   97933 non-null  object         \n",
      " 3   order_purchase_timestamp       97933 non-null  datetime64[ns] \n",
      " 4   order_approved_at              97915 non-null  datetime64[ns] \n",
      " 5   order_delivered_carrier_date   97312 non-null  datetime64[ns] \n",
      " 6   order_delivered_customer_date  96206 non-null  datetime64[ns] \n",
      " 7   order_estimated_delivery_date  97933 non-null  datetime64[ns] \n",
      " 8   customer_unique_id             97933 non-null  object         \n",
      " 9   customer_zip_code_prefix       97933 non-null  object         \n",
      " 10  customer_city                  97933 non-null  object         \n",
      " 11  customer_state                 97933 non-null  object         \n",
      " 12  geolocation_lat                97933 non-null  float64        \n",
      " 13  geolocation_lng                97933 non-null  float64        \n",
      " 14  time_difference_0              97915 non-null  timedelta64[ns]\n",
      " 15  time_difference_1              97298 non-null  timedelta64[ns]\n",
      " 16  time_difference_2              96205 non-null  timedelta64[ns]\n",
      " 17  time_difference_total          96206 non-null  timedelta64[ns]\n",
      "dtypes: datetime64[ns](5), float64(2), object(7), timedelta64[ns](4)\n",
      "memory usage: 13.4+ MB\n"
     ]
    }
   ],
   "source": [
    "# 주문-승인 시간\n",
    "df['time_difference_0'] = df['order_approved_at'] - df['order_purchase_timestamp']\n",
    "\n",
    "# 승인-물류업체전달 시간\n",
    "df['time_difference_1'] = df['order_delivered_carrier_date'] - df['order_approved_at']\n",
    "\n",
    "# 물류업체전달- 배송완료 시간\n",
    "df['time_difference_2'] = df['order_delivered_customer_date'] - df['order_delivered_carrier_date']\n",
    "\n",
    "# 총 배송소요 시간\n",
    "df['time_difference_total'] = df['order_delivered_customer_date'] - df['order_purchase_timestamp']\n",
    "df.info()"
   ]
  },
  {
   "cell_type": "code",
   "execution_count": 114,
   "id": "6b8cf73b",
   "metadata": {},
   "outputs": [],
   "source": [
    "df.to_csv('전처리1차_입지선정.csv', encoding='cp949', index=False)"
   ]
  },
  {
   "cell_type": "markdown",
   "id": "569b116d",
   "metadata": {},
   "source": [
    "## 2.3 df_SP, df_BA"
   ]
  },
  {
   "cell_type": "code",
   "execution_count": 115,
   "id": "62d8e664",
   "metadata": {},
   "outputs": [
    {
     "name": "stdout",
     "output_type": "stream",
     "text": [
      "<class 'pandas.core.frame.DataFrame'>\n",
      "Index: 41112 entries, 0 to 97929\n",
      "Data columns (total 18 columns):\n",
      " #   Column                         Non-Null Count  Dtype          \n",
      "---  ------                         --------------  -----          \n",
      " 0   order_id                       41112 non-null  object         \n",
      " 1   customer_id                    41112 non-null  object         \n",
      " 2   order_status                   41112 non-null  object         \n",
      " 3   order_purchase_timestamp       41112 non-null  datetime64[ns] \n",
      " 4   order_approved_at              41106 non-null  datetime64[ns] \n",
      " 5   order_delivered_carrier_date   40813 non-null  datetime64[ns] \n",
      " 6   order_delivered_customer_date  40480 non-null  datetime64[ns] \n",
      " 7   order_estimated_delivery_date  41112 non-null  datetime64[ns] \n",
      " 8   customer_unique_id             41112 non-null  object         \n",
      " 9   customer_zip_code_prefix       41112 non-null  object         \n",
      " 10  customer_city                  41112 non-null  object         \n",
      " 11  customer_state                 41112 non-null  object         \n",
      " 12  geolocation_lat                41112 non-null  float64        \n",
      " 13  geolocation_lng                41112 non-null  float64        \n",
      " 14  time_difference_0              41106 non-null  timedelta64[ns]\n",
      " 15  time_difference_1              40808 non-null  timedelta64[ns]\n",
      " 16  time_difference_2              40479 non-null  timedelta64[ns]\n",
      " 17  time_difference_total          40480 non-null  timedelta64[ns]\n",
      "dtypes: datetime64[ns](5), float64(2), object(7), timedelta64[ns](4)\n",
      "memory usage: 6.0+ MB\n"
     ]
    }
   ],
   "source": [
    "df_SP = df.loc[df['customer_state']=='SP']\n",
    "df_SP.info()\n",
    "# orders counts = 41,112"
   ]
  },
  {
   "cell_type": "code",
   "execution_count": 116,
   "id": "b9693204",
   "metadata": {},
   "outputs": [],
   "source": [
    "df_SP.to_csv('전처리1차_입지선정_SP.csv', encoding='cp949', index=False)"
   ]
  },
  {
   "cell_type": "code",
   "execution_count": 117,
   "id": "e36c9c6e",
   "metadata": {},
   "outputs": [
    {
     "name": "stdout",
     "output_type": "stream",
     "text": [
      "<class 'pandas.core.frame.DataFrame'>\n",
      "Index: 3336 entries, 1 to 97930\n",
      "Data columns (total 18 columns):\n",
      " #   Column                         Non-Null Count  Dtype          \n",
      "---  ------                         --------------  -----          \n",
      " 0   order_id                       3336 non-null   object         \n",
      " 1   customer_id                    3336 non-null   object         \n",
      " 2   order_status                   3336 non-null   object         \n",
      " 3   order_purchase_timestamp       3336 non-null   datetime64[ns] \n",
      " 4   order_approved_at              3336 non-null   datetime64[ns] \n",
      " 5   order_delivered_carrier_date   3316 non-null   datetime64[ns] \n",
      " 6   order_delivered_customer_date  3248 non-null   datetime64[ns] \n",
      " 7   order_estimated_delivery_date  3336 non-null   datetime64[ns] \n",
      " 8   customer_unique_id             3336 non-null   object         \n",
      " 9   customer_zip_code_prefix       3336 non-null   object         \n",
      " 10  customer_city                  3336 non-null   object         \n",
      " 11  customer_state                 3336 non-null   object         \n",
      " 12  geolocation_lat                3336 non-null   float64        \n",
      " 13  geolocation_lng                3336 non-null   float64        \n",
      " 14  time_difference_0              3336 non-null   timedelta64[ns]\n",
      " 15  time_difference_1              3316 non-null   timedelta64[ns]\n",
      " 16  time_difference_2              3248 non-null   timedelta64[ns]\n",
      " 17  time_difference_total          3248 non-null   timedelta64[ns]\n",
      "dtypes: datetime64[ns](5), float64(2), object(7), timedelta64[ns](4)\n",
      "memory usage: 495.2+ KB\n"
     ]
    }
   ],
   "source": [
    "df_BA = df.loc[df['customer_state']=='BA']\n",
    "df_BA.info()\n",
    "# orders counts = 3,336"
   ]
  },
  {
   "cell_type": "code",
   "execution_count": 118,
   "id": "3191fa8a",
   "metadata": {},
   "outputs": [],
   "source": [
    "df_BA.to_csv('전처리1차_입지선정_BA.csv', encoding='cp949', index=False)"
   ]
  },
  {
   "cell_type": "code",
   "execution_count": null,
   "id": "245cb2f2",
   "metadata": {},
   "outputs": [],
   "source": []
  }
 ],
 "metadata": {
  "kernelspec": {
   "display_name": "Python 3 (ipykernel)",
   "language": "python",
   "name": "python3"
  },
  "language_info": {
   "codemirror_mode": {
    "name": "ipython",
    "version": 3
   },
   "file_extension": ".py",
   "mimetype": "text/x-python",
   "name": "python",
   "nbconvert_exporter": "python",
   "pygments_lexer": "ipython3",
   "version": "3.10.13"
  }
 },
 "nbformat": 4,
 "nbformat_minor": 5
}
