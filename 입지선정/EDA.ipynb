{
 "cells": [
  {
   "cell_type": "markdown",
   "metadata": {},
   "source": [
    "# Olist_EDA"
   ]
  },
  {
   "cell_type": "code",
   "execution_count": 1,
   "metadata": {},
   "outputs": [],
   "source": [
    "import matplotlib.pyplot as plt\n",
    "import seaborn as sns\n",
    "import pandas as pd\n",
    "sellers=pd.read_csv(\"C:/Users/6aimh/OneDrive/바탕 화면/마케팅/olist/olist_sellers_dataset.csv\")\n",
    "customers=pd.read_csv(\"C:/Users/6aimh/OneDrive/바탕 화면/마케팅/olist/olist_customers_dataset.csv\")\n",
    "geolocation=pd.read_csv(\"C:/Users/6aimh/OneDrive/바탕 화면/마케팅/olist/olist_geolocation_dataset.csv\")\n",
    "payments=pd.read_csv(\"C:/Users/6aimh/OneDrive/바탕 화면/마케팅/olist/olist_order_payments_dataset.csv\")\n",
    "reviews=pd.read_csv(\"C:/Users/6aimh/OneDrive/바탕 화면/마케팅/olist/olist_order_reviews_dataset.csv\")\n",
    "orders=pd.read_csv(\"C:/Users/6aimh/OneDrive/바탕 화면/마케팅/olist/olist_orders_dataset.csv\")\n",
    "items=pd.read_csv(\"C:/Users/6aimh/OneDrive/바탕 화면/마케팅/olist/olist_order_items_dataset.csv\")\n",
    "products=pd.read_csv(\"C:/Users/6aimh/OneDrive/바탕 화면/마케팅/olist/olist_products_dataset.csv\")\n",
    "translation=pd.read_csv(\"C:/Users/6aimh/OneDrive/바탕 화면/마케팅/olist/product_category_name_translation.csv\")"
   ]
  },
  {
   "cell_type": "markdown",
   "metadata": {},
   "source": [
    "## 1. 전체 데이터"
   ]
  },
  {
   "cell_type": "code",
   "execution_count": 2,
   "metadata": {},
   "outputs": [],
   "source": [
    "whole=pd.read_csv(\"C:/Users/6aimh/OneDrive/바탕 화면/마케팅/.venv/입지선정 전처리/전처리1차_입지선정.csv\")"
   ]
  },
  {
   "cell_type": "code",
   "execution_count": null,
   "metadata": {},
   "outputs": [],
   "source": [
    "whole_items=pd.merge(whole,items,how='left',on='order_id')\n",
    "whole.columns"
   ]
  },
  {
   "cell_type": "code",
   "execution_count": null,
   "metadata": {},
   "outputs": [],
   "source": [
    "whole.info()"
   ]
  },
  {
   "cell_type": "markdown",
   "metadata": {},
   "source": [
    "### 1-1. state별 매출"
   ]
  },
  {
   "cell_type": "code",
   "execution_count": null,
   "metadata": {},
   "outputs": [],
   "source": [
    "whole_items=pd.merge(whole,items,how='left',on='order_id')\n",
    "whole_items.columns"
   ]
  },
  {
   "cell_type": "markdown",
   "metadata": {},
   "source": [
    "매출 상위 10위권의 데이터"
   ]
  },
  {
   "cell_type": "code",
   "execution_count": null,
   "metadata": {},
   "outputs": [],
   "source": [
    "# Group by 'customer_state' and calculate the total sales\n",
    "state_sales = whole_items.groupby('customer_state')['price'].sum().reset_index()\n",
    "state_sales_sorted = state_sales.sort_values(by='price', ascending=False).head(10)  # Get top 10 states\n",
    "\n",
    "# Create a figure and axis\n",
    "fig, ax1 = plt.subplots(figsize=(12, 5))\n",
    "\n",
    "# Horizontal bar chart for top 10 total sales\n",
    "bars = ax1.barh(state_sales_sorted['customer_state'], state_sales_sorted['price'], color='lightblue', label='Total Sales (BRL)')\n",
    "ax1.set_xlabel('Total Sales (BRL)', color='lightblue')\n",
    "ax1.set_ylabel('State')\n",
    "ax1.tick_params(axis='x', labelcolor='lightblue')\n",
    "\n",
    "# Add titles and layout adjustments\n",
    "plt.title('Top 10 States by Total Sales')\n",
    "fig.tight_layout()\n",
    "\n",
    "# Show the plot\n",
    "plt.show()\n"
   ]
  },
  {
   "cell_type": "markdown",
   "metadata": {},
   "source": [
    "### 1-2. SP state를 제외한 나머지 주들의 전체 매출에 대한 각 state의 총매출의 비율"
   ]
  },
  {
   "cell_type": "code",
   "execution_count": null,
   "metadata": {},
   "outputs": [],
   "source": [
    "import pandas as pd\n",
    "import matplotlib.pyplot as plt\n",
    "\n",
    "# Filter out the SP state\n",
    "filtered_whole = whole_items[whole_items['customer_state'] != 'SP']\n",
    "\n",
    "# Group by 'customer_state' and calculate the total sales\n",
    "state_sales = filtered_whole.groupby('customer_state')['price'].sum().reset_index()\n",
    "\n",
    "# Calculate the total sales excluding SP\n",
    "total_sales_excluding_sp = state_sales['price'].sum()\n",
    "\n",
    "# Calculate the percentage of each state's sales relative to the total sales\n",
    "state_sales['percentage'] = (state_sales['price'] / total_sales_excluding_sp) * 100\n",
    "\n",
    "# Sort by sales for better visualization\n",
    "state_sales_sorted = state_sales.sort_values(by='percentage', ascending=False)\n",
    "\n",
    "# Define colors for specific states\n",
    "highlight_states = ['SP', 'BA']\n",
    "colors = ['orange' if state in highlight_states else 'lightgreen' for state in state_sales_sorted['customer_state']]\n",
    "\n",
    "# Create a figure and axis\n",
    "fig, ax1 = plt.subplots(figsize=(10, 6))\n",
    "\n",
    "# Bar chart for sales percentage\n",
    "bars = ax1.bar(state_sales_sorted['customer_state'], state_sales_sorted['percentage'], color=colors)\n",
    "ax1.set_xlabel('State')\n",
    "ax1.set_ylabel('Sales Percentage (%)', color='lightgreen')\n",
    "ax1.tick_params(axis='y', labelcolor='lightgreen')\n",
    "\n",
    "# Add titles and layout adjustments\n",
    "plt.title('Total Sales Percentage by State (Excluding SP)')\n",
    "fig.tight_layout()\n",
    "\n",
    "# Show the plot\n",
    "plt.show()\n"
   ]
  },
  {
   "cell_type": "markdown",
   "metadata": {},
   "source": [
    "### 1-3. state별 총 주문량"
   ]
  },
  {
   "cell_type": "markdown",
   "metadata": {},
   "source": [
    "상위 10위권"
   ]
  },
  {
   "cell_type": "code",
   "execution_count": null,
   "metadata": {},
   "outputs": [],
   "source": [
    "import matplotlib.pyplot as plt\n",
    "\n",
    "# Group by 'customer_state' and count the unique 'order_id' for each state\n",
    "state_unique_order_count = whole_items.groupby('customer_state')['order_id'].nunique().reset_index()\n",
    "state_unique_order_count_sorted = state_unique_order_count.sort_values(by='order_id', ascending=False).head(10)  # Get top 10 states\n",
    "\n",
    "# Create a figure and axis\n",
    "fig, ax1 = plt.subplots(figsize=(12, 5))\n",
    "\n",
    "# Horizontal bar chart for top 10 unique order count\n",
    "bars = ax1.barh(state_unique_order_count_sorted['customer_state'], state_unique_order_count_sorted['order_id'], color='orange', label='Unique Order Count')\n",
    "ax1.set_xlabel('Unique Order Count', color='orange')\n",
    "ax1.set_ylabel('State')\n",
    "ax1.tick_params(axis='x', labelcolor='orange')\n",
    "\n",
    "# Add titles and layout adjustments\n",
    "plt.title('Top 10 States by Unique Order Count')\n",
    "fig.tight_layout()\n",
    "\n",
    "# Show the plot\n",
    "plt.show()\n"
   ]
  },
  {
   "cell_type": "markdown",
   "metadata": {},
   "source": [
    "### 1-4. state별 평균 배송비"
   ]
  },
  {
   "cell_type": "code",
   "execution_count": null,
   "metadata": {},
   "outputs": [],
   "source": [
    "import pandas as pd\n",
    "import matplotlib.pyplot as plt\n",
    "\n",
    "# Define the states of interest\n",
    "target_states = ['SP', 'RJ', 'MG', 'RS', 'PR', 'SC', 'BA', 'GO', 'DF', 'ES']\n",
    "\n",
    "# Group by 'customer_state' and calculate the average of 'freight_value'\n",
    "state_freight = whole_items.groupby('customer_state')['freight_value'].mean().reset_index()\n",
    "\n",
    "# Filter the DataFrame for the target states\n",
    "state_freight_filtered = state_freight[state_freight['customer_state'].isin(target_states)]\n",
    "\n",
    "# Sort values\n",
    "state_freight_sorted = state_freight_filtered.sort_values(by='freight_value', ascending=False)\n",
    "\n",
    "# Define colors for specific states\n",
    "highlight_states = target_states  # Use target states for highlighting\n",
    "colors = ['orange' if state in highlight_states else 'lightgreen' for state in state_freight_sorted['customer_state']]\n",
    "\n",
    "# Create a figure and axis\n",
    "fig, ax1 = plt.subplots(figsize=(10, 6))\n",
    "\n",
    "# Bar chart for average freight value\n",
    "bars = ax1.bar(state_freight_sorted['customer_state'], state_freight_sorted['freight_value'], color=colors)\n",
    "ax1.set_xlabel('State')\n",
    "ax1.set_ylabel('Average Freight Value (BRL)', color='lightgreen')\n",
    "ax1.tick_params(axis='y', labelcolor='lightgreen')\n",
    "\n",
    "# Annotate average freight value on the bar chart\n",
    "for bar in bars:\n",
    "    yval = bar.get_height()\n",
    "    ax1.text(bar.get_x() + bar.get_width()/2, yval, f'{yval:,.2f} BRL', ha='center', va='bottom', fontsize=9)\n",
    "\n",
    "# Add titles and layout adjustments\n",
    "plt.title('Average Freight Value by State (Descending Order)')\n",
    "fig.tight_layout()\n",
    "\n",
    "# Show the plot\n",
    "plt.show()\n"
   ]
  },
  {
   "cell_type": "markdown",
   "metadata": {},
   "source": [
    "### 1-5. state별 평균 배송시간"
   ]
  },
  {
   "cell_type": "markdown",
   "metadata": {},
   "source": [
    "전체 주 버전"
   ]
  },
  {
   "cell_type": "code",
   "execution_count": null,
   "metadata": {},
   "outputs": [],
   "source": [
    "import pandas as pd\n",
    "import matplotlib.pyplot as plt\n",
    "\n",
    "# Convert 'time_difference_total' from string to timedelta\n",
    "whole['time_difference_total'] = pd.to_timedelta(whole['time_difference_total'])\n",
    "\n",
    "# Group by 'customer_state' and calculate the average of 'time_difference_total'\n",
    "state_time_diff = whole.groupby('customer_state')['time_difference_total'].mean().reset_index()\n",
    "state_time_diff_sorted = state_time_diff.sort_values(by='time_difference_total', ascending=False)\n",
    "\n",
    "# Convert average delivery time to total hours for easier reading\n",
    "state_time_diff_sorted['time_difference_total_hours'] = state_time_diff_sorted['time_difference_total'].dt.total_seconds() / 3600\n",
    "\n",
    "# Define colors for specific states\n",
    "highlight_states = ['SP', 'RJ', 'MG', 'RS', 'PR', 'SC', 'BA', 'GO', 'DF', 'ES']\n",
    "colors = ['orange' if state in highlight_states else 'lightgreen' for state in state_time_diff_sorted['customer_state']]\n",
    "\n",
    "# Create a figure and axis\n",
    "fig, ax1 = plt.subplots(figsize=(10, 6))\n",
    "\n",
    "# Bar chart for average total delivery time\n",
    "bars = ax1.bar(state_time_diff_sorted['customer_state'], state_time_diff_sorted['time_difference_total_hours'], color=colors, label='Average Total Delivery Time')\n",
    "ax1.set_xlabel('State')\n",
    "ax1.set_ylabel('Average Total Delivery Time (hours)', color='lightgreen')\n",
    "ax1.tick_params(axis='y', labelcolor='lightgreen')\n",
    "\n",
    "# Add titles and layout adjustments\n",
    "plt.title('Average Total Delivery Time by State (Ascending Order)')\n",
    "fig.tight_layout()\n",
    "\n",
    "# Show the plot\n",
    "plt.show()\n"
   ]
  },
  {
   "cell_type": "markdown",
   "metadata": {},
   "source": [
    "주문량 top10의 평균 배송시간"
   ]
  },
  {
   "cell_type": "code",
   "execution_count": null,
   "metadata": {},
   "outputs": [],
   "source": [
    "import pandas as pd\n",
    "import matplotlib.pyplot as plt\n",
    "\n",
    "# Convert 'time_difference_total' from string to timedelta\n",
    "whole['time_difference_total'] = pd.to_timedelta(whole['time_difference_total'])\n",
    "\n",
    "# Define the states of interest\n",
    "target_states = ['SP', 'RJ', 'MG', 'RS', 'PR', 'SC', 'BA', 'GO', 'DF', 'ES']\n",
    "\n",
    "# Filter the DataFrame for the target states\n",
    "filtered_whole = whole[whole['customer_state'].isin(target_states)]\n",
    "\n",
    "# Group by 'customer_state' and calculate the average of 'time_difference_total'\n",
    "state_time_diff = filtered_whole.groupby('customer_state')['time_difference_total'].mean().reset_index()\n",
    "state_time_diff_sorted = state_time_diff.sort_values(by='customer_state', key=lambda x: x.map({state: idx for idx, state in enumerate(target_states)}))\n",
    "\n",
    "# Convert average delivery time to total hours for easier reading\n",
    "state_time_diff_sorted['time_difference_total_hours'] = state_time_diff_sorted['time_difference_total'].dt.total_seconds() / 3600\n",
    "\n",
    "# Define colors for specific states\n",
    "highlight_states = ['SP','BA']\n",
    "colors = ['orange' if state in highlight_states else 'lightgreen' for state in state_time_diff_sorted['customer_state']]\n",
    "\n",
    "# Create a figure and axis\n",
    "fig, ax1 = plt.subplots(figsize=(10, 6))\n",
    "\n",
    "# Bar chart for average total delivery time\n",
    "bars = ax1.bar(state_time_diff_sorted['customer_state'], state_time_diff_sorted['time_difference_total_hours'], color=colors, label='Average Total Delivery Time')\n",
    "ax1.set_xlabel('State')\n",
    "ax1.set_ylabel('Average Total Delivery Time (hours)', color='lightgreen')\n",
    "ax1.tick_params(axis='y', labelcolor='lightgreen')\n",
    "\n",
    "# Annotate average delivery time on the bar chart\n",
    "for bar in bars:\n",
    "    yval = bar.get_height()\n",
    "    ax1.text(bar.get_x() + bar.get_width()/2, yval, f'{yval:,.1f} hrs', ha='center', va='bottom', fontsize=9)\n",
    "\n",
    "# Add titles and layout adjustments\n",
    "plt.title('Average Total Delivery Time by Selected States (SP, RJ, MG, RS, PR, SC, BA, GO, DF, ES)')\n",
    "fig.tight_layout()\n",
    "\n",
    "# Show the plot\n",
    "plt.show()\n"
   ]
  },
  {
   "cell_type": "markdown",
   "metadata": {},
   "source": [
    "## 2. SP"
   ]
  },
  {
   "cell_type": "code",
   "execution_count": null,
   "metadata": {},
   "outputs": [],
   "source": [
    "state_sp=pd.read_csv(\"C:/Users/6aimh/OneDrive/바탕 화면/마케팅/.venv/입지선정 전처리/전처리1차_입지선정_SP.csv\")\n",
    "state_sp.head()"
   ]
  },
  {
   "cell_type": "code",
   "execution_count": null,
   "metadata": {},
   "outputs": [],
   "source": [
    "state_sp.columns"
   ]
  },
  {
   "cell_type": "code",
   "execution_count": null,
   "metadata": {},
   "outputs": [],
   "source": [
    "state_sp.info()"
   ]
  },
  {
   "cell_type": "markdown",
   "metadata": {},
   "source": [
    "### 2-1. SP의 월별 매출"
   ]
  },
  {
   "cell_type": "code",
   "execution_count": null,
   "metadata": {},
   "outputs": [],
   "source": [
    "# Merge state_ba with items on 'order_id'\n",
    "merged_data = state_sp.merge(items, on='order_id', how='left')\n",
    "\n",
    "# Convert 'order_purchase_timestamp' to datetime\n",
    "merged_data['order_purchase_timestamp'] = pd.to_datetime(merged_data['order_purchase_timestamp'])\n",
    "\n",
    "# Extract year and month for grouping\n",
    "merged_data['year_month'] = merged_data['order_purchase_timestamp'].dt.to_period('M')\n",
    "\n",
    "# Group by 'year_month' and calculate total sales\n",
    "monthly_sales = merged_data.groupby('year_month')['price'].sum().reset_index()\n",
    "\n",
    "# Convert 'year_month' back to string for better plotting\n",
    "monthly_sales['year_month'] = monthly_sales['year_month'].astype(str)\n",
    "\n",
    "# Plotting the monthly sales\n",
    "plt.figure(figsize=(10, 6))\n",
    "plt.bar(monthly_sales['year_month'], monthly_sales['price'], color='lightblue')\n",
    "plt.xlabel('Month')\n",
    "plt.ylabel('Total Sales (BRL)')\n",
    "plt.title('Monthly Sales in SP State')\n",
    "plt.xticks(rotation=45)\n",
    "plt.tight_layout()\n",
    "\n",
    "# Show the plot\n",
    "plt.show()\n"
   ]
  },
  {
   "cell_type": "markdown",
   "metadata": {},
   "source": [
    "### 2-2. SP의 월별 주문량"
   ]
  },
  {
   "cell_type": "code",
   "execution_count": null,
   "metadata": {},
   "outputs": [],
   "source": [
    "# Convert 'order_purchase_timestamp' to datetime\n",
    "state_sp['order_purchase_timestamp'] = pd.to_datetime(state_sp['order_purchase_timestamp'])\n",
    "\n",
    "# Extract year and month for grouping\n",
    "state_sp['year_month'] = state_sp['order_purchase_timestamp'].dt.to_period('M')\n",
    "\n",
    "# Group by 'year_month' and count the number of orders\n",
    "monthly_order_count = state_sp.groupby('year_month')['order_id'].count().reset_index()\n",
    "\n",
    "# Convert 'year_month' back to string for better plotting\n",
    "monthly_order_count['year_month'] = monthly_order_count['year_month'].astype(str)\n",
    "\n",
    "# Plotting the monthly order count\n",
    "plt.figure(figsize=(10, 6))\n",
    "plt.bar(monthly_order_count['year_month'], monthly_order_count['order_id'], color='lightgreen')\n",
    "plt.xlabel('Month')\n",
    "plt.ylabel('Total Orders')\n",
    "plt.title('Monthly Order Count in SP State')\n",
    "plt.xticks(rotation=45)\n",
    "plt.tight_layout()\n",
    "\n",
    "# Show the plot\n",
    "plt.show()"
   ]
  },
  {
   "cell_type": "markdown",
   "metadata": {},
   "source": [
    "### 2-3. SP가 매달 전체 매출의 몇 %를 차지하는지"
   ]
  },
  {
   "cell_type": "code",
   "execution_count": null,
   "metadata": {},
   "outputs": [],
   "source": [
    "import pandas as pd\n",
    "import matplotlib.pyplot as plt\n",
    "\n",
    "# Convert 'order_purchase_timestamp' to datetime in whole dataset\n",
    "whole_items['order_purchase_timestamp'] = pd.to_datetime(whole_items['order_purchase_timestamp'])\n",
    "\n",
    "# Extract year and month for grouping in whole dataset\n",
    "whole_items['year_month'] = whole_items['order_purchase_timestamp'].dt.to_period('M')\n",
    "\n",
    "# Group by 'year_month' and sum the 'price' for total sales\n",
    "monthly_total_sales = whole_items.groupby('year_month')['price'].sum().reset_index()\n",
    "\n",
    "# Group by 'year_month' for SP state sales\n",
    "sp_sales = whole_items[whole_items['customer_state'] == 'SP'].groupby('year_month')['price'].sum().reset_index()\n",
    "\n",
    "# Merge total sales and SP sales\n",
    "monthly_sales = pd.merge(monthly_total_sales, sp_sales, on='year_month', suffixes=('_total', '_SP'))\n",
    "\n",
    "# Calculate SP sales ratio\n",
    "monthly_sales['sp_ratio'] = monthly_sales['price_SP'] / monthly_sales['price_total'] * 100\n",
    "\n",
    "# 평균 비율 직선\n",
    "average_sp_ratio = monthly_sales['sp_ratio'].mean()\n",
    "\n",
    "# Convert 'year_month' back to string for better plotting\n",
    "monthly_sales['year_month'] = monthly_sales['year_month'].astype(str)\n",
    "\n",
    "# Plotting the monthly SP sales ratio\n",
    "plt.figure(figsize=(10, 6))\n",
    "plt.plot(monthly_sales['year_month'], monthly_sales['sp_ratio'], marker='o', color='lightgreen')\n",
    "plt.axhline(y=average_sp_ratio, color='orange', linestyle='--', label='Average SP Sales Ratio')\n",
    "plt.xlabel('Month')\n",
    "plt.ylabel('SP Sales Ratio (%)')\n",
    "plt.title('Monthly SP Sales Ratio to Total Sales')\n",
    "plt.xticks(rotation=45)\n",
    "plt.tight_layout()\n",
    "\n",
    "# Show the plot\n",
    "plt.show()\n"
   ]
  },
  {
   "cell_type": "markdown",
   "metadata": {},
   "source": [
    "## 3. BA"
   ]
  },
  {
   "cell_type": "code",
   "execution_count": null,
   "metadata": {},
   "outputs": [],
   "source": [
    "state_ba=pd.read_csv(\"C:/Users/6aimh/OneDrive/바탕 화면/마케팅/.venv/입지선정 전처리/전처리1차_입지선정_BA.csv\")\n",
    "state_ba.head()"
   ]
  },
  {
   "cell_type": "code",
   "execution_count": null,
   "metadata": {},
   "outputs": [],
   "source": [
    "state_ba.columns"
   ]
  },
  {
   "cell_type": "code",
   "execution_count": null,
   "metadata": {},
   "outputs": [],
   "source": [
    "state_ba.info()"
   ]
  },
  {
   "cell_type": "markdown",
   "metadata": {},
   "source": [
    "### 3-1. BA의 월별 매출"
   ]
  },
  {
   "cell_type": "code",
   "execution_count": null,
   "metadata": {},
   "outputs": [],
   "source": [
    "# Merge state_ba with items on 'order_id'\n",
    "merged_data = state_ba.merge(items, on='order_id', how='left')\n",
    "\n",
    "# Convert 'order_purchase_timestamp' to datetime\n",
    "merged_data['order_purchase_timestamp'] = pd.to_datetime(merged_data['order_purchase_timestamp'])\n",
    "\n",
    "# Extract year and month for grouping\n",
    "merged_data['year_month'] = merged_data['order_purchase_timestamp'].dt.to_period('M')\n",
    "\n",
    "# Group by 'year_month' and calculate total sales\n",
    "monthly_sales = merged_data.groupby('year_month')['price'].sum().reset_index()\n",
    "\n",
    "# Convert 'year_month' back to string for better plotting\n",
    "monthly_sales['year_month'] = monthly_sales['year_month'].astype(str)\n",
    "\n",
    "# Plotting the monthly sales\n",
    "plt.figure(figsize=(10, 6))\n",
    "plt.bar(monthly_sales['year_month'], monthly_sales['price'], color='lightblue')\n",
    "plt.xlabel('Month')\n",
    "plt.ylabel('Total Sales (BRL)')\n",
    "plt.title('Monthly Sales in BA State')\n",
    "plt.xticks(rotation=45)\n",
    "plt.tight_layout()\n",
    "\n",
    "# Show the plot\n",
    "plt.show()\n"
   ]
  },
  {
   "cell_type": "markdown",
   "metadata": {},
   "source": [
    "### 3-2. BA의 월별 주문량 "
   ]
  },
  {
   "cell_type": "code",
   "execution_count": null,
   "metadata": {},
   "outputs": [],
   "source": [
    "# Convert 'order_purchase_timestamp' to datetime\n",
    "state_ba['order_purchase_timestamp'] = pd.to_datetime(state_ba['order_purchase_timestamp'])\n",
    "\n",
    "# Extract year and month for grouping\n",
    "state_ba['year_month'] = state_ba['order_purchase_timestamp'].dt.to_period('M')\n",
    "\n",
    "# Group by 'year_month' and count the number of orders\n",
    "monthly_order_count = state_ba.groupby('year_month')['order_id'].count().reset_index()\n",
    "\n",
    "# Convert 'year_month' back to string for better plotting\n",
    "monthly_order_count['year_month'] = monthly_order_count['year_month'].astype(str)\n",
    "\n",
    "# Plotting the monthly order count\n",
    "plt.figure(figsize=(10, 6))\n",
    "plt.bar(monthly_order_count['year_month'], monthly_order_count['order_id'], color='lightgreen')\n",
    "plt.xlabel('Month')\n",
    "plt.ylabel('Total Orders')\n",
    "plt.title('Monthly Order Count in BA State')\n",
    "plt.xticks(rotation=45)\n",
    "plt.tight_layout()\n",
    "\n",
    "# Show the plot\n",
    "plt.show()\n"
   ]
  },
  {
   "cell_type": "markdown",
   "metadata": {},
   "source": [
    "### 3-3. 전체매출에 대한 BA 주의 매출의 비율이 월별로 어떻게 되는지"
   ]
  },
  {
   "cell_type": "code",
   "execution_count": null,
   "metadata": {},
   "outputs": [],
   "source": [
    "# Convert 'order_purchase_timestamp' to datetime in whole dataset\n",
    "whole_items['order_purchase_timestamp'] = pd.to_datetime(whole_items['order_purchase_timestamp'])\n",
    "\n",
    "# Extract year and month for grouping in whole dataset\n",
    "whole_items['year_month'] = whole_items['order_purchase_timestamp'].dt.to_period('M')\n",
    "\n",
    "# Group by 'year_month' and sum the 'price' for total sales\n",
    "monthly_total_sales = whole_items.groupby('year_month')['price'].sum().reset_index()\n",
    "\n",
    "# Group by 'year_month' for BA state sales\n",
    "ba_sales = whole_items[whole_items['customer_state'] == 'BA'].groupby('year_month')['price'].sum().reset_index()\n",
    "\n",
    "# Merge total sales and BA sales\n",
    "monthly_sales = pd.merge(monthly_total_sales, ba_sales, on='year_month', suffixes=('_total', '_BA'))\n",
    "\n",
    "# Calculate BA sales ratio\n",
    "monthly_sales['ba_ratio'] = monthly_sales['price_BA'] / monthly_sales['price_total'] * 100\n",
    "\n",
    "average_ba_ratio = monthly_sales['ba_ratio'].mean()\n",
    "\n",
    "# Convert 'year_month' back to string for better plotting\n",
    "monthly_sales['year_month'] = monthly_sales['year_month'].astype(str)\n",
    "\n",
    "# Plotting the monthly BA sales ratio\n",
    "plt.figure(figsize=(10, 6))\n",
    "plt.plot(monthly_sales['year_month'], monthly_sales['ba_ratio'], marker='o', color='lightgreen')\n",
    "plt.axhline(y=average_ba_ratio, color='orange', linestyle='--', label='Average BA Sales Ratio')\n",
    "plt.xlabel('Month')\n",
    "plt.ylabel('BA Sales Ratio (%)')\n",
    "plt.title('Monthly BA Sales Ratio to Total Sales')\n",
    "plt.xticks(rotation=45)\n",
    "plt.tight_layout()\n",
    "\n",
    "# Show the plot\n",
    "plt.show()\n"
   ]
  },
  {
   "cell_type": "markdown",
   "metadata": {},
   "source": [
    "# DBSCAN으로 이상치 처리하기"
   ]
  },
  {
   "cell_type": "markdown",
   "metadata": {},
   "source": [
    "## 1. SP"
   ]
  },
  {
   "cell_type": "code",
   "execution_count": null,
   "metadata": {},
   "outputs": [],
   "source": [
    "state_sp2=pd.merge(state_sp,items,how='left',on='order_id')\n",
    "state_sp2.head()"
   ]
  },
  {
   "cell_type": "code",
   "execution_count": null,
   "metadata": {},
   "outputs": [],
   "source": [
    "from sklearn.cluster import DBSCAN\n",
    "import folium\n",
    "from folium.plugins import MarkerCluster\n",
    "\n",
    "# 필요한 컬럼으로 구성\n",
    "coordinates = state_sp2[['geolocation_lat', 'geolocation_lng']]\n",
    "\n",
    "# DBSCAN 적용\n",
    "dbscan = DBSCAN(eps=0.01, min_samples=5)  # 파라미터 조정 가능\n",
    "state_sp2['cluster'] = dbscan.fit_predict(coordinates)  # 클러스터 결과 추가\n",
    "\n",
    "# 클러스터링 결과 확인\n",
    "print(state_sp2['cluster'].value_counts())  # 클러스터 수 확인\n",
    "\n",
    "# 지도 시각화\n",
    "# 중심 좌표 설정\n",
    "map_center = [state_sp2['geolocation_lat'].mean(), state_sp2['geolocation_lng'].mean()]\n",
    "map_sp2 = folium.Map(location=map_center, zoom_start=10)\n",
    "\n",
    "# 클러스터 시각화를 위한 MarkerCluster 사용\n",
    "marker_cluster = MarkerCluster().add_to(map_sp2)\n",
    "\n",
    "# 데이터 포인트 추가\n",
    "for i, row in state_sp2.iterrows():\n",
    "    color = 'blue' if row['cluster'] == -1 else 'green'  # 이상치는 파란색, 정상 클러스터는 초록색\n",
    "    popup_info = (\n",
    "        f\"Order ID: {row['order_id']}<br>\"\n",
    "        f\"City: {row['customer_city']}<br>\"\n",
    "        f\"Price: {row['price']}<br>\"\n",
    "        f\"Status: {row['order_status']}\"\n",
    "        f\"Prefix: {row['customer_zip_code_prefix']}\"    # 추가 정보\n",
    "    )\n",
    "\n",
    "    folium.CircleMarker(\n",
    "        location=(row['geolocation_lat'], row['geolocation_lng']),\n",
    "        radius=5,\n",
    "        color=color,\n",
    "        fill=True,\n",
    "        fill_color=color,\n",
    "        fill_opacity=0.6,\n",
    "        popup=popup_info  # 팝업 정보 추가\n",
    "    ).add_to(marker_cluster)\n",
    "\n",
    "# 지도 출력\n",
    "map_sp2\n"
   ]
  },
  {
   "cell_type": "markdown",
   "metadata": {},
   "source": [
    "이상치 제거"
   ]
  },
  {
   "cell_type": "code",
   "execution_count": null,
   "metadata": {},
   "outputs": [],
   "source": [
    "state_sp2[state_sp2['customer_zip_code_prefix']==13375]"
   ]
  },
  {
   "cell_type": "code",
   "execution_count": 15,
   "metadata": {},
   "outputs": [],
   "source": [
    "# 드랍할 order_id 목록\n",
    "order_ids_to_drop = ['dc1b1cb0a0bef9a1b53b35be77247cb3', '4c612311c4c424c8ccf682de9b443659','8678b97b317b045765dcbdf85bcb74fb','db2e05029f564b8953ddf3766e3b99f5','d978adcd421de6a71e9974afe4414e4f']\n",
    "\n",
    "# 드랍할 행을 제외한 새로운 DataFrame 생성\n",
    "state_sp2_cleaned = state_sp2[~state_sp2['order_id'].isin(order_ids_to_drop)]\n"
   ]
  },
  {
   "cell_type": "markdown",
   "metadata": {},
   "source": [
    "바뀐지 확인"
   ]
  },
  {
   "cell_type": "code",
   "execution_count": null,
   "metadata": {},
   "outputs": [],
   "source": [
    "import pandas as pd\n",
    "from sklearn.cluster import DBSCAN\n",
    "import folium\n",
    "from folium.plugins import MarkerCluster\n",
    "\n",
    "# 2. 필요한 컬럼으로 구성\n",
    "coordinates = state_sp2_cleaned[['geolocation_lat', 'geolocation_lng']]\n",
    "\n",
    "# 3. DBSCAN 적용\n",
    "dbscan = DBSCAN(eps=0.01, min_samples=5)  # 파라미터 조정 가능\n",
    "state_sp2_cleaned['cluster'] = dbscan.fit_predict(coordinates)  # 클러스터 결과 추가\n",
    "\n",
    "# 4. 지도 시각화\n",
    "map_center = [state_sp2_cleaned['geolocation_lat'].mean(), state_sp2_cleaned['geolocation_lng'].mean()]\n",
    "map_sp = folium.Map(location=map_center, zoom_start=10)\n",
    "\n",
    "# 클러스터 시각화를 위한 MarkerCluster 사용\n",
    "marker_cluster = MarkerCluster().add_to(map_sp)\n",
    "\n",
    "# 데이터 포인트 추가\n",
    "for i, row in state_sp2_cleaned.iterrows():\n",
    "    color = 'blue' if row['cluster'] == -1 else 'green'  # 이상치는 파란색, 정상 클러스터는 초록색\n",
    "    popup_info = (\n",
    "        f\"Order ID: {row['order_id']}\"  # 추가 정보\n",
    "    )\n",
    "\n",
    "    folium.CircleMarker(\n",
    "        location=(row['geolocation_lat'], row['geolocation_lng']),\n",
    "        radius=5,\n",
    "        color=color,\n",
    "        fill=True,\n",
    "        fill_color=color,\n",
    "        fill_opacity=0.6,\n",
    "        popup=popup_info  # 팝업 정보 추가\n",
    "    ).add_to(marker_cluster)\n",
    "\n",
    "# 5. 지도 출력\n",
    "map_sp\n"
   ]
  },
  {
   "cell_type": "markdown",
   "metadata": {},
   "source": [
    "-> 완료"
   ]
  },
  {
   "cell_type": "code",
   "execution_count": 52,
   "metadata": {},
   "outputs": [],
   "source": [
    "# CSV 파일로 저장\n",
    "state_sp2_cleaned.to_csv('C:/Users/6aimh/OneDrive/바탕 화면/마케팅/.venv/입지선정 전처리/SP.csv', index=False) "
   ]
  },
  {
   "cell_type": "markdown",
   "metadata": {},
   "source": [
    "## 2. BA"
   ]
  },
  {
   "cell_type": "code",
   "execution_count": null,
   "metadata": {},
   "outputs": [],
   "source": [
    "state_ba=pd.read_csv(\"C:/Users/6aimh/OneDrive/바탕 화면/마케팅/.venv/입지선정 전처리/전처리1차_입지선정_BA.csv\")\n",
    "state_ba.head()"
   ]
  },
  {
   "cell_type": "code",
   "execution_count": null,
   "metadata": {},
   "outputs": [],
   "source": [
    "state_ba.columns"
   ]
  },
  {
   "cell_type": "code",
   "execution_count": null,
   "metadata": {},
   "outputs": [],
   "source": [
    "state_ba.info()"
   ]
  },
  {
   "cell_type": "code",
   "execution_count": null,
   "metadata": {},
   "outputs": [],
   "source": [
    "import pandas as pd\n",
    "from sklearn.cluster import DBSCAN\n",
    "import folium\n",
    "from folium.plugins import MarkerCluster\n",
    "\n",
    "# 2. 필요한 컬럼으로 구성\n",
    "coordinates = state_ba[['geolocation_lat', 'geolocation_lng']]\n",
    "\n",
    "# 3. DBSCAN 적용\n",
    "dbscan = DBSCAN(eps=0.01, min_samples=5)  # 파라미터 조정 가능\n",
    "state_ba['cluster'] = dbscan.fit_predict(coordinates)  # 클러스터 결과 추가\n",
    "\n",
    "# 4. 지도 시각화\n",
    "map_center = [state_ba['geolocation_lat'].mean(), state_ba['geolocation_lng'].mean()]\n",
    "map_ba = folium.Map(location=map_center, zoom_start=10)\n",
    "\n",
    "# 클러스터 시각화를 위한 MarkerCluster 사용\n",
    "marker_cluster = MarkerCluster().add_to(map_ba)\n",
    "\n",
    "# 데이터 포인트 추가\n",
    "for i, row in state_ba.iterrows():\n",
    "    color = 'blue' if row['cluster'] == -1 else 'green'  # 이상치는 파란색, 정상 클러스터는 초록색\n",
    "    popup_info = (\n",
    "        f\"Order ID: {row['order_id']}\"  # 추가 정보\n",
    "    )\n",
    "\n",
    "    folium.CircleMarker(\n",
    "        location=(row['geolocation_lat'], row['geolocation_lng']),\n",
    "        radius=5,\n",
    "        color=color,\n",
    "        fill=True,\n",
    "        fill_color=color,\n",
    "        fill_opacity=0.6,\n",
    "        popup=popup_info  # 팝업 정보 추가\n",
    "    ).add_to(marker_cluster)\n",
    "\n",
    "# 5. 지도 출력\n",
    "map_ba\n"
   ]
  },
  {
   "cell_type": "markdown",
   "metadata": {},
   "source": [
    "이상치 제거"
   ]
  },
  {
   "cell_type": "code",
   "execution_count": null,
   "metadata": {},
   "outputs": [],
   "source": [
    "state_ba[state_ba['customer_zip_code_prefix']==45428]"
   ]
  },
  {
   "cell_type": "code",
   "execution_count": 20,
   "metadata": {},
   "outputs": [],
   "source": [
    "#  드랍할 order_id 목록\n",
    "order_ids_to_drop = ['24161cb9857591fc2fe821db0c4dd3b0','ed7774b614a7ad220649f09dc6a4c043','897ec6416d50126a9061626f0fc2d658']\n",
    "\n",
    "# 드랍할 행을 제외한 새로운 DataFrame 생성\n",
    "state_ba = state_ba[~state_ba['order_id'].isin(order_ids_to_drop)]"
   ]
  },
  {
   "cell_type": "markdown",
   "metadata": {},
   "source": [
    "바뀐지 확인"
   ]
  },
  {
   "cell_type": "code",
   "execution_count": null,
   "metadata": {},
   "outputs": [],
   "source": [
    "import pandas as pd\n",
    "from sklearn.cluster import DBSCAN\n",
    "import folium\n",
    "from folium.plugins import MarkerCluster\n",
    "\n",
    "# 2. 필요한 컬럼으로 구성\n",
    "coordinates = state_ba[['geolocation_lat', 'geolocation_lng']]\n",
    "\n",
    "# 3. DBSCAN 적용\n",
    "dbscan = DBSCAN(eps=0.01, min_samples=5)  # 파라미터 조정 가능\n",
    "state_ba['cluster'] = dbscan.fit_predict(coordinates)  # 클러스터 결과 추가\n",
    "\n",
    "# 4. 지도 시각화\n",
    "map_center = [state_ba['geolocation_lat'].mean(), state_ba['geolocation_lng'].mean()]\n",
    "map_ba = folium.Map(location=map_center, zoom_start=10)\n",
    "\n",
    "# 클러스터 시각화를 위한 MarkerCluster 사용\n",
    "marker_cluster = MarkerCluster().add_to(map_ba)\n",
    "\n",
    "# 데이터 포인트 추가\n",
    "for i, row in state_ba.iterrows():\n",
    "    color = 'blue' if row['cluster'] == -1 else 'green'  # 이상치는 파란색, 정상 클러스터는 초록색\n",
    "    popup_info = (\n",
    "        f\"Order ID: {row['order_id']}\"  # 추가 정보\n",
    "    )\n",
    "\n",
    "    folium.CircleMarker(\n",
    "        location=(row['geolocation_lat'], row['geolocation_lng']),\n",
    "        radius=5,\n",
    "        color=color,\n",
    "        fill=True,\n",
    "        fill_color=color,\n",
    "        fill_opacity=0.6,\n",
    "        popup=popup_info  # 팝업 정보 추가\n",
    "    ).add_to(marker_cluster)\n",
    "\n",
    "# 5. 지도 출력\n",
    "map_ba\n"
   ]
  },
  {
   "cell_type": "markdown",
   "metadata": {},
   "source": [
    "완료."
   ]
  },
  {
   "cell_type": "code",
   "execution_count": 53,
   "metadata": {},
   "outputs": [],
   "source": [
    "# CSV 파일로 저장\n",
    "state_ba.to_csv('C:/Users/6aimh/OneDrive/바탕 화면/마케팅/.venv/입지선정 전처리/BA.csv', index=False) "
   ]
  }
 ],
 "metadata": {
  "kernelspec": {
   "display_name": "Python 3",
   "language": "python",
   "name": "python3"
  },
  "language_info": {
   "codemirror_mode": {
    "name": "ipython",
    "version": 3
   },
   "file_extension": ".py",
   "mimetype": "text/x-python",
   "name": "python",
   "nbconvert_exporter": "python",
   "pygments_lexer": "ipython3",
   "version": "3.11.7"
  }
 },
 "nbformat": 4,
 "nbformat_minor": 2
}
